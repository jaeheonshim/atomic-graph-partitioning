{
 "cells": [
  {
   "cell_type": "markdown",
   "metadata": {},
   "source": [
    "# Extended Subgraph Partitioning (mattersim)"
   ]
  },
  {
   "cell_type": "code",
   "execution_count": 1,
   "metadata": {},
   "outputs": [],
   "source": [
    "import numpy as np\n",
    "import torch\n",
    "\n",
    "from tqdm import tqdm\n",
    "\n",
    "from partitioner import part_graph_extended\n",
    "import networkx as nx"
   ]
  },
  {
   "cell_type": "markdown",
   "metadata": {},
   "source": [
    "## Partitioning Atoms"
   ]
  },
  {
   "cell_type": "markdown",
   "metadata": {},
   "source": [
    "Loading a sample atomic dataset and converting it into a graph"
   ]
  },
  {
   "cell_type": "code",
   "execution_count": 2,
   "metadata": {},
   "outputs": [
    {
     "name": "stdout",
     "output_type": "stream",
     "text": [
      "Number of atoms 3408\n"
     ]
    }
   ],
   "source": [
    "from ase.io import read\n",
    "from ase.build import make_supercell\n",
    "from mattersim.datasets.utils.convertor import GraphConvertor\n",
    "from torch_geometric.utils import to_networkx\n",
    " \n",
    "atoms = read(\"datasets/test.xyz\")\n",
    "atoms = make_supercell(atoms, [[2, 0, 0], [0, 2, 0], [0, 0, 2]])\n",
    "\n",
    "converter = GraphConvertor(\"m3gnet\", 5.0, True, 4.0)\n",
    "\n",
    "length = len(atoms)\n",
    "atom_graph = converter.convert(atoms.copy(), None, None, None)\n",
    "\n",
    "G = to_networkx(atom_graph)\n",
    "\n",
    "print(\"Number of atoms\", len(atoms))"
   ]
  },
  {
   "cell_type": "markdown",
   "metadata": {},
   "source": [
    "Partition the computational graph into the number of desired partitions with the specified neighborhood distance"
   ]
  },
  {
   "cell_type": "code",
   "execution_count": 3,
   "metadata": {},
   "outputs": [
    {
     "name": "stdout",
     "output_type": "stream",
     "text": [
      "Created 5 partitions\n",
      "Average partition size: 3408.0\n"
     ]
    }
   ],
   "source": [
    "desired_partitions = 5\n",
    "neighborhood_distance = 4\n",
    "partitions, extended_partitions = part_graph_extended(G, desired_partitions, neighborhood_distance)\n",
    "\n",
    "num_partitions = len(partitions)\n",
    "\n",
    "print(f\"Created {num_partitions} partitions\")\n",
    "print(f\"Average partition size: {sum(len(x) for x in extended_partitions) / num_partitions}\")"
   ]
  },
  {
   "cell_type": "markdown",
   "metadata": {},
   "source": [
    "Create the ASE atoms object for each partition"
   ]
  },
  {
   "cell_type": "code",
   "execution_count": 4,
   "metadata": {},
   "outputs": [],
   "source": [
    "from ase import Atoms\n",
    "\n",
    "partitioned_atoms = []\n",
    "indices_map = [] # Table mapping each atom in each partition back to its index in the original atoms object\n",
    "\n",
    "for part in extended_partitions:\n",
    "    current_partition = []\n",
    "    current_indices_map = []\n",
    "    for atom_index in part:\n",
    "        current_partition.append(atoms[atom_index])\n",
    "        current_indices_map.append(atoms[atom_index].index)\n",
    "\n",
    "    partitioned_atoms.append(Atoms(current_partition, cell=atoms.cell, pbc=atoms.pbc)) # It's important to pass atoms.cell and atoms.pbc here\n",
    "    indices_map.append(current_indices_map)"
   ]
  },
  {
   "cell_type": "code",
   "execution_count": 5,
   "metadata": {},
   "outputs": [
    {
     "data": {
      "text/plain": [
       "Atoms(symbols='C880H2208Ga64S64Si192', pbc=True, cell=[[23.096664428710938, 13.334883689880371, 23.9624080657959], [-23.09648895263672, 13.334826469421387, 23.962270736694336], [3.831999856629409e-05, -26.669597625732422, 23.962278366088867]])"
      ]
     },
     "execution_count": 5,
     "metadata": {},
     "output_type": "execute_result"
    }
   ],
   "source": [
    "reconstructed_atoms = []\n",
    "for atom_index in range(len(atoms)):\n",
    "    reconstructed_atoms.append(atoms[atom_index])\n",
    "reconstructed_atoms = Atoms(reconstructed_atoms, cell=atoms.cell, pbc=atoms.pbc)\n",
    "\n",
    "reconstructed_atoms"
   ]
  },
  {
   "cell_type": "markdown",
   "metadata": {},
   "source": [
    "## Inference"
   ]
  },
  {
   "cell_type": "code",
   "execution_count": 6,
   "metadata": {},
   "outputs": [],
   "source": [
    "device = \"cuda\" if torch.cuda.is_available() else \"cpu\""
   ]
  },
  {
   "cell_type": "markdown",
   "metadata": {},
   "source": [
    "I need to modify the M3Gnet model so that the node features can be intercepted before they are passed into the final MLP"
   ]
  },
  {
   "cell_type": "code",
   "execution_count": 7,
   "metadata": {},
   "outputs": [],
   "source": [
    "from typing import Dict\n",
    "\n",
    "import os\n",
    "\n",
    "from mattersim.forcefield.m3gnet.m3gnet import M3Gnet\n",
    "from torch_runstats.scatter import scatter\n",
    "from mattersim.utils.download_utils import download_checkpoint\n",
    "\n",
    "class M3GnetModified(M3Gnet):\n",
    "    def forward(\n",
    "        self,\n",
    "        input: Dict[str, torch.Tensor],\n",
    "        dataset_idx: int = -1,\n",
    "    ) -> torch.Tensor:\n",
    "        # Exact data from input_dictionary\n",
    "        pos = input[\"atom_pos\"]\n",
    "        cell = input[\"cell\"]\n",
    "        pbc_offsets = input[\"pbc_offsets\"].float()\n",
    "        atom_attr = input[\"atom_attr\"]\n",
    "        edge_index = input[\"edge_index\"].long()\n",
    "        three_body_indices = input[\"three_body_indices\"].long()\n",
    "        num_three_body = input[\"num_three_body\"]\n",
    "        num_bonds = input[\"num_bonds\"]\n",
    "        num_triple_ij = input[\"num_triple_ij\"]\n",
    "        num_atoms = input[\"num_atoms\"]\n",
    "        num_graphs = input[\"num_graphs\"]\n",
    "        batch = input[\"batch\"]\n",
    "\n",
    "        # -------------------------------------------------------------#\n",
    "        cumsum = torch.cumsum(num_bonds, dim=0) - num_bonds\n",
    "        index_bias = torch.repeat_interleave(  # noqa: F501\n",
    "            cumsum, num_three_body, dim=0\n",
    "        ).unsqueeze(-1)\n",
    "        three_body_indices = three_body_indices + index_bias\n",
    "\n",
    "        # === Refer to the implementation of M3GNet,        ===\n",
    "        # === we should re-compute the following attributes ===\n",
    "        # edge_length, edge_vector(optional), triple_edge_length, theta_jik\n",
    "        atoms_batch = torch.repeat_interleave(repeats=num_atoms)\n",
    "        edge_batch = atoms_batch[edge_index[0]]\n",
    "        edge_vector = pos[edge_index[0]] - (\n",
    "            pos[edge_index[1]]\n",
    "            + torch.einsum(\"bi, bij->bj\", pbc_offsets, cell[edge_batch])\n",
    "        )\n",
    "        edge_length = torch.linalg.norm(edge_vector, dim=1)\n",
    "        vij = edge_vector[three_body_indices[:, 0].clone()]\n",
    "        vik = edge_vector[three_body_indices[:, 1].clone()]\n",
    "        rij = edge_length[three_body_indices[:, 0].clone()]\n",
    "        rik = edge_length[three_body_indices[:, 1].clone()]\n",
    "        cos_jik = torch.sum(vij * vik, dim=1) / (rij * rik)\n",
    "        # eps = 1e-7 avoid nan in torch.acos function\n",
    "        cos_jik = torch.clamp(cos_jik, min=-1.0 + 1e-7, max=1.0 - 1e-7)\n",
    "        triple_edge_length = rik.view(-1)\n",
    "        edge_length = edge_length.unsqueeze(-1)\n",
    "        atomic_numbers = atom_attr.squeeze(1).long()\n",
    "\n",
    "        # featurize\n",
    "        atom_attr = self.atom_embedding(self.one_hot_atoms(atomic_numbers))\n",
    "        edge_attr = self.rbf(edge_length.view(-1))\n",
    "        edge_attr_zero = edge_attr  # e_ij^0\n",
    "        edge_attr = self.edge_encoder(edge_attr)\n",
    "        three_basis = self.sbf(triple_edge_length, torch.acos(cos_jik))\n",
    "\n",
    "        # Main Loop\n",
    "        for idx, conv in enumerate(self.graph_conv):\n",
    "            atom_attr, edge_attr = conv(\n",
    "                atom_attr,\n",
    "                edge_attr,\n",
    "                edge_attr_zero,\n",
    "                edge_index,\n",
    "                three_basis,\n",
    "                three_body_indices,\n",
    "                edge_length,\n",
    "                num_bonds,\n",
    "                num_triple_ij,\n",
    "                num_atoms,\n",
    "            )\n",
    "\n",
    "        return atom_attr  # [batch_size]\n",
    "    \n",
    "def load_modified_from_checkpoint(\n",
    "    load_path: str = None,\n",
    "    *,\n",
    "    device: str = \"cuda\" if torch.cuda.is_available() else \"cpu\",\n",
    "):\n",
    "    checkpoint_folder = os.path.expanduser(\"~/.local/mattersim/pretrained_models\")\n",
    "    os.makedirs(checkpoint_folder, exist_ok=True)\n",
    "    if (\n",
    "        load_path is None\n",
    "        or load_path.lower() == \"mattersim-v1.0.0-1m.pth\"\n",
    "        or load_path.lower() == \"mattersim-v1.0.0-1m\"\n",
    "    ):\n",
    "        load_path = os.path.join(checkpoint_folder, \"mattersim-v1.0.0-1M.pth\")\n",
    "        if not os.path.exists(load_path):\n",
    "            print(\n",
    "                \"The pre-trained model is not found locally, \"\n",
    "                \"attempting to download it from the server.\"\n",
    "            )\n",
    "            download_checkpoint(\n",
    "                \"mattersim-v1.0.0-1M.pth\", save_folder=checkpoint_folder\n",
    "            )\n",
    "        print(f\"Loading the pre-trained {os.path.basename(load_path)} model\")\n",
    "    elif (\n",
    "        load_path.lower() == \"mattersim-v1.0.0-5m.pth\"\n",
    "        or load_path.lower() == \"mattersim-v1.0.0-5m\"\n",
    "    ):\n",
    "        load_path = os.path.join(checkpoint_folder, \"mattersim-v1.0.0-5M.pth\")\n",
    "        if not os.path.exists(load_path):\n",
    "            print(\n",
    "                \"The pre-trained model is not found locally, \"\n",
    "                \"attempting to download it from the server.\"\n",
    "            )\n",
    "            download_checkpoint(\n",
    "                \"mattersim-v1.0.0-5M.pth\", save_folder=checkpoint_folder\n",
    "            )\n",
    "        print(f\"Loading the pre-trained {os.path.basename(load_path)} model\")\n",
    "    else:\n",
    "        print(\"Loading the model from %s\" % load_path)\n",
    "    assert os.path.exists(load_path), f\"Model file {load_path} not found\"\n",
    "\n",
    "    checkpoint = torch.load(load_path, map_location=device)\n",
    "\n",
    "    model = M3GnetModified(device=device, **checkpoint[\"model_args\"]).to(device)\n",
    "    model.load_state_dict(checkpoint[\"model\"], strict=False)\n",
    "\n",
    "    model.eval()\n",
    "\n",
    "    return model"
   ]
  },
  {
   "cell_type": "code",
   "execution_count": 8,
   "metadata": {},
   "outputs": [
    {
     "name": "stdout",
     "output_type": "stream",
     "text": [
      "Loading the pre-trained mattersim-v1.0.0-1M.pth model\n"
     ]
    },
    {
     "name": "stderr",
     "output_type": "stream",
     "text": [
      "/tmp/ipykernel_1350688/1315528432.py:121: FutureWarning: You are using `torch.load` with `weights_only=False` (the current default value), which uses the default pickle module implicitly. It is possible to construct malicious pickle data which will execute arbitrary code during unpickling (See https://github.com/pytorch/pytorch/blob/main/SECURITY.md#untrusted-models for more details). In a future release, the default value for `weights_only` will be flipped to `True`. This limits the functions that could be executed during unpickling. Arbitrary objects will no longer be allowed to be loaded via this mode unless they are explicitly allowlisted by the user via `torch.serialization.add_safe_globals`. We recommend you start setting `weights_only=True` for any use case where you don't have full control of the loaded file. Please open an issue on GitHub for any issues related to this experimental feature.\n",
      "  checkpoint = torch.load(load_path, map_location=device)\n"
     ]
    }
   ],
   "source": [
    "model = load_modified_from_checkpoint(device=device)"
   ]
  },
  {
   "cell_type": "markdown",
   "metadata": {},
   "source": [
    "Run inference on each partition"
   ]
  },
  {
   "cell_type": "code",
   "execution_count": 9,
   "metadata": {},
   "outputs": [
    {
     "name": "stderr",
     "output_type": "stream",
     "text": [
      "100%|██████████| 5/5 [00:01<00:00,  3.04it/s]\n"
     ]
    },
    {
     "data": {
      "text/plain": [
       "tensor([[ 0.0671,  0.1683,  0.1333,  ...,  0.1727,  0.0219,  0.0545],\n",
       "        [ 0.0671,  0.1682,  0.1331,  ...,  0.1725,  0.0219,  0.0545],\n",
       "        [ 0.0671,  0.1683,  0.1332,  ...,  0.1726,  0.0219,  0.0545],\n",
       "        ...,\n",
       "        [-0.0388, -0.3789, -0.0089,  ...,  0.0009, -0.0034,  0.1832],\n",
       "        [-0.0388, -0.3789, -0.0089,  ...,  0.0009, -0.0034,  0.1832],\n",
       "        [-0.0388, -0.3789, -0.0089,  ...,  0.0009, -0.0034,  0.1832]],\n",
       "       device='cuda:0', grad_fn=<CopySlices>)"
      ]
     },
     "execution_count": 9,
     "metadata": {},
     "output_type": "execute_result"
    }
   ],
   "source": [
    "from mattersim.forcefield.potential import batch_to_dict\n",
    "from torch_geometric.loader import DataLoader\n",
    "\n",
    "aggregated_features = torch.zeros((len(atoms), 128), dtype=torch.float32, device=device)\n",
    "\n",
    "dataloader = DataLoader([converter.convert(part.copy(), None, None, None) for part in partitioned_atoms])\n",
    "\n",
    "for part_idx, input_graph in tqdm(enumerate(dataloader), total=num_partitions):\n",
    "    input_graph = input_graph.to(device)\n",
    "    input = batch_to_dict(input_graph)\n",
    "\n",
    "    feat = model.forward(input)\n",
    "\n",
    "    part = partitioned_atoms[part_idx]\n",
    "    for j, node in enumerate(part):\n",
    "        original_index = indices_map[part_idx][j]\n",
    "        if original_index in partitions[part_idx]: # If the node is a root node of the partition\n",
    "            aggregated_features[original_index] = feat[j]\n",
    "\n",
    "aggregated_features"
   ]
  },
  {
   "cell_type": "markdown",
   "metadata": {},
   "source": [
    "## Prediction"
   ]
  },
  {
   "cell_type": "markdown",
   "metadata": {},
   "source": [
    "Run the prediction on the original, unpartitioned graph to obtain a benchmark for our results"
   ]
  },
  {
   "cell_type": "code",
   "execution_count": 10,
   "metadata": {},
   "outputs": [
    {
     "ename": "NameError",
     "evalue": "name 'orbff' is not defined",
     "output_type": "error",
     "traceback": [
      "\u001b[0;31m---------------------------------------------------------------------------\u001b[0m",
      "\u001b[0;31mNameError\u001b[0m                                 Traceback (most recent call last)",
      "Cell \u001b[0;32mIn[10], line 1\u001b[0m\n\u001b[0;32m----> 1\u001b[0m result \u001b[38;5;241m=\u001b[39m \u001b[43morbff\u001b[49m\u001b[38;5;241m.\u001b[39mpredict(atom_graph)\n\u001b[1;32m      2\u001b[0m benchmark_energy \u001b[38;5;241m=\u001b[39m result[\u001b[38;5;124m\"\u001b[39m\u001b[38;5;124mgraph_pred\u001b[39m\u001b[38;5;124m\"\u001b[39m]\n\u001b[1;32m      3\u001b[0m benchmark_forces \u001b[38;5;241m=\u001b[39m result[\u001b[38;5;124m\"\u001b[39m\u001b[38;5;124mnode_pred\u001b[39m\u001b[38;5;124m\"\u001b[39m]\n",
      "\u001b[0;31mNameError\u001b[0m: name 'orbff' is not defined"
     ]
    }
   ],
   "source": [
    "result = orbff.predict(atom_graph)\n",
    "benchmark_energy = result[\"graph_pred\"]\n",
    "benchmark_forces = result[\"node_pred\"]\n",
    "benchmark_stress = result[\"stress_pred\"]"
   ]
  },
  {
   "cell_type": "code",
   "execution_count": null,
   "metadata": {},
   "outputs": [],
   "source": [
    "from orb_models.forcefield.graph_regressor import ScalarNormalizer, LinearReferenceEnergy\n",
    "from orb_models.forcefield.reference_energies import REFERENCE_ENERGIES\n",
    "\n",
    "ref = REFERENCE_ENERGIES[\"vasp-shifted\"]\n",
    "reference = LinearReferenceEnergy(\n",
    "    weight_init=ref.coefficients, trainable=True\n",
    ")\n",
    "\n",
    "n_node = torch.tensor([aggregated_features.shape[0]])"
   ]
  },
  {
   "cell_type": "markdown",
   "metadata": {},
   "source": [
    "### Energy"
   ]
  },
  {
   "cell_type": "code",
   "execution_count": null,
   "metadata": {},
   "outputs": [],
   "source": [
    "input = segment_ops.aggregate_nodes(\n",
    "    aggregated_features,\n",
    "    n_node,\n",
    "    reduction=\"mean\"\n",
    ")\n",
    "\n",
    "energy = orbff.graph_head.mlp(input)\n",
    "energy = orbff.graph_head.normalizer.inverse(energy).squeeze(-1)\n",
    "energy = energy * n_node\n",
    "energy = energy + reference(atom_graph.atomic_numbers, atom_graph.n_node)\n",
    "energy"
   ]
  },
  {
   "cell_type": "code",
   "execution_count": null,
   "metadata": {},
   "outputs": [],
   "source": [
    "print(f\"Absolute error: {torch.abs(benchmark_energy - energy).item()}\")\n",
    "print(f\"Percent error: {torch.abs((benchmark_energy - energy) / benchmark_energy).item() * 100}%\")\n",
    "print(f\"Maximum error: {torch.max(benchmark_energy - energy).item()}\")"
   ]
  },
  {
   "cell_type": "markdown",
   "metadata": {},
   "source": [
    "### Forces"
   ]
  },
  {
   "cell_type": "code",
   "execution_count": null,
   "metadata": {},
   "outputs": [],
   "source": [
    "forces = orbff.node_head.mlp(aggregated_features)\n",
    "system_means = segment_ops.aggregate_nodes(\n",
    "    forces, n_node, reduction=\"mean\"\n",
    ")\n",
    "node_broadcasted_means = torch.repeat_interleave(\n",
    "    system_means, n_node, dim=0\n",
    ")\n",
    "forces = forces - node_broadcasted_means\n",
    "forces = orbff.node_head.normalizer.inverse(forces)\n",
    "forces"
   ]
  },
  {
   "cell_type": "code",
   "execution_count": null,
   "metadata": {},
   "outputs": [],
   "source": [
    "mae = torch.mean(torch.abs(benchmark_forces - forces))\n",
    "mape = 100 * torch.mean(torch.abs((benchmark_forces - forces) / benchmark_forces))\n",
    "max = torch.max(torch.abs(benchmark_forces - forces))\n",
    "\n",
    "print(f\"Mean absolute error: {mae.item()}\")\n",
    "print(f\"Mean absolute percent error: {mape}%\")\n",
    "print(f\"Maximum error: {max}\")"
   ]
  },
  {
   "cell_type": "markdown",
   "metadata": {},
   "source": [
    "### Stress"
   ]
  },
  {
   "cell_type": "code",
   "execution_count": null,
   "metadata": {},
   "outputs": [],
   "source": [
    "input = segment_ops.aggregate_nodes(\n",
    "    aggregated_features,\n",
    "    n_node,\n",
    "    reduction=\"mean\",\n",
    ")\n",
    "stress = orbff.stress_head.mlp(input)\n",
    "stress = stress.squeeze(-1)\n",
    "stress = orbff.stress_head.output_activation(stress)\n",
    "stress = orbff.stress_head.normalizer.inverse(stress)\n",
    "stress"
   ]
  },
  {
   "cell_type": "code",
   "execution_count": null,
   "metadata": {},
   "outputs": [],
   "source": [
    "mae = torch.mean(torch.abs(benchmark_stress - stress))\n",
    "mape = 100 * torch.mean(torch.abs((benchmark_stress - stress) / benchmark_stress))\n",
    "max = torch.max(torch.abs(benchmark_stress - stress))\n",
    "print(f\"Mean absolute error: {mae.item()}\")\n",
    "print(f\"Mean absolute percent error: {mape}%\")\n",
    "print(f\"Max error: {max}\")"
   ]
  }
 ],
 "metadata": {
  "kernelspec": {
   "display_name": "Python (partitioning)",
   "language": "python",
   "name": "partitioning"
  },
  "language_info": {
   "codemirror_mode": {
    "name": "ipython",
    "version": 3
   },
   "file_extension": ".py",
   "mimetype": "text/x-python",
   "name": "python",
   "nbconvert_exporter": "python",
   "pygments_lexer": "ipython3",
   "version": "3.11.11"
  }
 },
 "nbformat": 4,
 "nbformat_minor": 4
}
