{
 "cells": [
  {
   "cell_type": "markdown",
   "metadata": {},
   "source": [
    "# Extended Subgraph Partitioning Mattertune\n",
    "Now I will use the partitioning algorithm for inference using Mattertune"
   ]
  },
  {
   "cell_type": "markdown",
   "metadata": {},
   "source": [
    "## Functions"
   ]
  },
  {
   "cell_type": "markdown",
   "metadata": {},
   "source": [
    "### Extended Partitioning"
   ]
  },
  {
   "cell_type": "code",
   "execution_count": 14,
   "metadata": {},
   "outputs": [],
   "source": [
    "import networkx as nx\n",
    "import metis\n",
    "\n",
    "from collections import deque\n",
    "\n",
    "def part_graph_extended(G, desired_partitions, distance=None):\n",
    "    def descendants_at_distance_multisource(G, sources, distance=None):\n",
    "        if sources in G:\n",
    "            sources = [sources]\n",
    "\n",
    "        queue = deque(sources)\n",
    "        depths = deque([0 for _ in queue])\n",
    "        visited = set(sources)\n",
    "\n",
    "        for source in queue:\n",
    "            if source not in G:\n",
    "                raise nx.NetworkXError(f\"The node {source} is not in the graph.\")\n",
    "\n",
    "        while queue:\n",
    "            node = queue[0]\n",
    "            depth = depths[0]\n",
    "\n",
    "            if distance is not None and depth > distance: return\n",
    "\n",
    "            yield queue[0]\n",
    "\n",
    "            queue.popleft()\n",
    "            depths.popleft()\n",
    "\n",
    "            for child in G[node]:\n",
    "                if child not in visited:\n",
    "                    visited.add(child)\n",
    "                    queue.append(child)\n",
    "                    depths.append(depth + 1)\n",
    "\n",
    "    _, parts = metis.part_graph(G, desired_partitions, objtype=\"cut\")\n",
    "    partition_map = {node: parts[i] for i, node in enumerate(G.nodes())}\n",
    "    num_partitions = desired_partitions\n",
    "\n",
    "    # Find indices of nodes in each partition\n",
    "    partitions = [set() for _ in range(desired_partitions)]\n",
    "\n",
    "    for i, node in enumerate(G.nodes()):\n",
    "        partitions[partition_map[i]].add(node)\n",
    "\n",
    "    # Find boundary nodes (vertices adjacent to vertex not in partition)\n",
    "    boundary_nodes = [set(map(lambda uv: uv[0], nx.edge_boundary(G, partitions[i]))) for i in range(num_partitions)]\n",
    "\n",
    "    # Perform BFS on boundary_nodes to find extended neighbors up to a certain distance\n",
    "    extended_neighbors = [set(descendants_at_distance_multisource(G, boundary_nodes[i], distance=distance)) for i in range(num_partitions)]\n",
    "\n",
    "    extended_partitions = [p.union(a) for p, a in zip(partitions, extended_neighbors)]\n",
    "\n",
    "    return partitions, extended_partitions"
   ]
  },
  {
   "cell_type": "markdown",
   "metadata": {},
   "source": [
    "## Partitioning Atoms"
   ]
  },
  {
   "cell_type": "markdown",
   "metadata": {},
   "source": [
    "Loading a sample atomic dataset and converting it into a graph"
   ]
  },
  {
   "cell_type": "code",
   "execution_count": 15,
   "metadata": {},
   "outputs": [],
   "source": [
    "if False:\n",
    "    from mattertune.data.mptraj import MPTrajDatasetConfig, MPTrajDataset\n",
    "    from ase import io\n",
    "\n",
    "    mptraj = MPTrajDataset(MPTrajDatasetConfig(min_num_atoms=300,split=\"val\"))\n",
    "    atoms_list = mptraj.atoms_list\n",
    "    atoms_list.sort(key=lambda x: len(x))\n",
    "    io.write(\"test.xyz\", atoms_list[-1])"
   ]
  },
  {
   "cell_type": "code",
   "execution_count": 75,
   "metadata": {},
   "outputs": [
    {
     "name": "stdout",
     "output_type": "stream",
     "text": [
      "Number of atoms 11502\n"
     ]
    },
    {
     "ename": "KeyboardInterrupt",
     "evalue": "",
     "output_type": "error",
     "traceback": [
      "\u001b[0;31m---------------------------------------------------------------------------\u001b[0m",
      "\u001b[0;31mKeyboardInterrupt\u001b[0m                         Traceback (most recent call last)",
      "Cell \u001b[0;32mIn[75], line 24\u001b[0m\n\u001b[1;32m     20\u001b[0m \u001b[38;5;66;03m# layout = nx.random_layout(G, seed=1)\u001b[39;00m\n\u001b[1;32m     21\u001b[0m \u001b[38;5;66;03m# nx.draw(G, pos=layout, with_labels=True)\u001b[39;00m\n\u001b[1;32m     23\u001b[0m \u001b[38;5;28mprint\u001b[39m(\u001b[38;5;124m\"\u001b[39m\u001b[38;5;124mNumber of atoms\u001b[39m\u001b[38;5;124m\"\u001b[39m, \u001b[38;5;28mlen\u001b[39m(atoms))\n\u001b[0;32m---> 24\u001b[0m \u001b[38;5;28mprint\u001b[39m(\u001b[38;5;124m\"\u001b[39m\u001b[38;5;124mDiameter of graph:\u001b[39m\u001b[38;5;124m\"\u001b[39m, \u001b[43mnx\u001b[49m\u001b[38;5;241;43m.\u001b[39;49m\u001b[43mdiameter\u001b[49m\u001b[43m(\u001b[49m\u001b[43mG\u001b[49m\u001b[43m)\u001b[49m)\n",
      "File \u001b[0;32m<class 'networkx.utils.decorators.argmap'> compilation 20:3\u001b[0m, in \u001b[0;36margmap_diameter_17\u001b[0;34m(G, e, usebounds, weight, backend, **backend_kwargs)\u001b[0m\n\u001b[1;32m      1\u001b[0m \u001b[38;5;28;01mimport\u001b[39;00m\u001b[38;5;250m \u001b[39m\u001b[38;5;21;01mbz2\u001b[39;00m\n\u001b[1;32m      2\u001b[0m \u001b[38;5;28;01mimport\u001b[39;00m\u001b[38;5;250m \u001b[39m\u001b[38;5;21;01mcollections\u001b[39;00m\n\u001b[0;32m----> 3\u001b[0m \u001b[38;5;28;01mimport\u001b[39;00m\u001b[38;5;250m \u001b[39m\u001b[38;5;21;01mgzip\u001b[39;00m\n\u001b[1;32m      4\u001b[0m \u001b[38;5;28;01mimport\u001b[39;00m\u001b[38;5;250m \u001b[39m\u001b[38;5;21;01minspect\u001b[39;00m\n\u001b[1;32m      5\u001b[0m \u001b[38;5;28;01mimport\u001b[39;00m\u001b[38;5;250m \u001b[39m\u001b[38;5;21;01mitertools\u001b[39;00m\n",
      "File \u001b[0;32m/opt/anaconda3/envs/orb-partitioning/lib/python3.10/site-packages/networkx/utils/backends.py:967\u001b[0m, in \u001b[0;36m_dispatchable.__call__\u001b[0;34m(self, backend, *args, **kwargs)\u001b[0m\n\u001b[1;32m    965\u001b[0m     \u001b[38;5;28;01mif\u001b[39;00m backend \u001b[38;5;129;01mis\u001b[39;00m \u001b[38;5;129;01mnot\u001b[39;00m \u001b[38;5;28;01mNone\u001b[39;00m \u001b[38;5;129;01mand\u001b[39;00m backend \u001b[38;5;241m!=\u001b[39m \u001b[38;5;124m\"\u001b[39m\u001b[38;5;124mnetworkx\u001b[39m\u001b[38;5;124m\"\u001b[39m:\n\u001b[1;32m    966\u001b[0m         \u001b[38;5;28;01mraise\u001b[39;00m \u001b[38;5;167;01mImportError\u001b[39;00m(\u001b[38;5;124mf\u001b[39m\u001b[38;5;124m\"\u001b[39m\u001b[38;5;124m'\u001b[39m\u001b[38;5;132;01m{\u001b[39;00mbackend\u001b[38;5;132;01m}\u001b[39;00m\u001b[38;5;124m'\u001b[39m\u001b[38;5;124m backend is not installed\u001b[39m\u001b[38;5;124m\"\u001b[39m)\n\u001b[0;32m--> 967\u001b[0m     \u001b[38;5;28;01mreturn\u001b[39;00m \u001b[38;5;28;43mself\u001b[39;49m\u001b[38;5;241;43m.\u001b[39;49m\u001b[43morig_func\u001b[49m\u001b[43m(\u001b[49m\u001b[38;5;241;43m*\u001b[39;49m\u001b[43margs\u001b[49m\u001b[43m,\u001b[49m\u001b[43m \u001b[49m\u001b[38;5;241;43m*\u001b[39;49m\u001b[38;5;241;43m*\u001b[39;49m\u001b[43mkwargs\u001b[49m\u001b[43m)\u001b[49m\n\u001b[1;32m    969\u001b[0m \u001b[38;5;66;03m# Use `backend_name` in this function instead of `backend`.\u001b[39;00m\n\u001b[1;32m    970\u001b[0m \u001b[38;5;66;03m# This is purely for aesthetics and to make it easier to search for this\u001b[39;00m\n\u001b[1;32m    971\u001b[0m \u001b[38;5;66;03m# variable since \"backend\" is used in many comments and log/error messages.\u001b[39;00m\n\u001b[1;32m    972\u001b[0m backend_name \u001b[38;5;241m=\u001b[39m backend\n",
      "File \u001b[0;32m/opt/anaconda3/envs/orb-partitioning/lib/python3.10/site-packages/networkx/algorithms/distance_measures.py:386\u001b[0m, in \u001b[0;36mdiameter\u001b[0;34m(G, e, usebounds, weight)\u001b[0m\n\u001b[1;32m    384\u001b[0m     \u001b[38;5;28;01mreturn\u001b[39;00m _extrema_bounding(G, compute\u001b[38;5;241m=\u001b[39m\u001b[38;5;124m\"\u001b[39m\u001b[38;5;124mdiameter\u001b[39m\u001b[38;5;124m\"\u001b[39m, weight\u001b[38;5;241m=\u001b[39mweight)\n\u001b[1;32m    385\u001b[0m \u001b[38;5;28;01mif\u001b[39;00m e \u001b[38;5;129;01mis\u001b[39;00m \u001b[38;5;28;01mNone\u001b[39;00m:\n\u001b[0;32m--> 386\u001b[0m     e \u001b[38;5;241m=\u001b[39m \u001b[43meccentricity\u001b[49m\u001b[43m(\u001b[49m\u001b[43mG\u001b[49m\u001b[43m,\u001b[49m\u001b[43m \u001b[49m\u001b[43mweight\u001b[49m\u001b[38;5;241;43m=\u001b[39;49m\u001b[43mweight\u001b[49m\u001b[43m)\u001b[49m\n\u001b[1;32m    387\u001b[0m \u001b[38;5;28;01mreturn\u001b[39;00m \u001b[38;5;28mmax\u001b[39m(e\u001b[38;5;241m.\u001b[39mvalues())\n",
      "File \u001b[0;32m<class 'networkx.utils.decorators.argmap'> compilation 24:3\u001b[0m, in \u001b[0;36margmap_eccentricity_21\u001b[0;34m(G, v, sp, weight, backend, **backend_kwargs)\u001b[0m\n\u001b[1;32m      1\u001b[0m \u001b[38;5;28;01mimport\u001b[39;00m\u001b[38;5;250m \u001b[39m\u001b[38;5;21;01mbz2\u001b[39;00m\n\u001b[1;32m      2\u001b[0m \u001b[38;5;28;01mimport\u001b[39;00m\u001b[38;5;250m \u001b[39m\u001b[38;5;21;01mcollections\u001b[39;00m\n\u001b[0;32m----> 3\u001b[0m \u001b[38;5;28;01mimport\u001b[39;00m\u001b[38;5;250m \u001b[39m\u001b[38;5;21;01mgzip\u001b[39;00m\n\u001b[1;32m      4\u001b[0m \u001b[38;5;28;01mimport\u001b[39;00m\u001b[38;5;250m \u001b[39m\u001b[38;5;21;01minspect\u001b[39;00m\n\u001b[1;32m      5\u001b[0m \u001b[38;5;28;01mimport\u001b[39;00m\u001b[38;5;250m \u001b[39m\u001b[38;5;21;01mitertools\u001b[39;00m\n",
      "File \u001b[0;32m/opt/anaconda3/envs/orb-partitioning/lib/python3.10/site-packages/networkx/utils/backends.py:967\u001b[0m, in \u001b[0;36m_dispatchable.__call__\u001b[0;34m(self, backend, *args, **kwargs)\u001b[0m\n\u001b[1;32m    965\u001b[0m     \u001b[38;5;28;01mif\u001b[39;00m backend \u001b[38;5;129;01mis\u001b[39;00m \u001b[38;5;129;01mnot\u001b[39;00m \u001b[38;5;28;01mNone\u001b[39;00m \u001b[38;5;129;01mand\u001b[39;00m backend \u001b[38;5;241m!=\u001b[39m \u001b[38;5;124m\"\u001b[39m\u001b[38;5;124mnetworkx\u001b[39m\u001b[38;5;124m\"\u001b[39m:\n\u001b[1;32m    966\u001b[0m         \u001b[38;5;28;01mraise\u001b[39;00m \u001b[38;5;167;01mImportError\u001b[39;00m(\u001b[38;5;124mf\u001b[39m\u001b[38;5;124m\"\u001b[39m\u001b[38;5;124m'\u001b[39m\u001b[38;5;132;01m{\u001b[39;00mbackend\u001b[38;5;132;01m}\u001b[39;00m\u001b[38;5;124m'\u001b[39m\u001b[38;5;124m backend is not installed\u001b[39m\u001b[38;5;124m\"\u001b[39m)\n\u001b[0;32m--> 967\u001b[0m     \u001b[38;5;28;01mreturn\u001b[39;00m \u001b[38;5;28;43mself\u001b[39;49m\u001b[38;5;241;43m.\u001b[39;49m\u001b[43morig_func\u001b[49m\u001b[43m(\u001b[49m\u001b[38;5;241;43m*\u001b[39;49m\u001b[43margs\u001b[49m\u001b[43m,\u001b[49m\u001b[43m \u001b[49m\u001b[38;5;241;43m*\u001b[39;49m\u001b[38;5;241;43m*\u001b[39;49m\u001b[43mkwargs\u001b[49m\u001b[43m)\u001b[49m\n\u001b[1;32m    969\u001b[0m \u001b[38;5;66;03m# Use `backend_name` in this function instead of `backend`.\u001b[39;00m\n\u001b[1;32m    970\u001b[0m \u001b[38;5;66;03m# This is purely for aesthetics and to make it easier to search for this\u001b[39;00m\n\u001b[1;32m    971\u001b[0m \u001b[38;5;66;03m# variable since \"backend\" is used in many comments and log/error messages.\u001b[39;00m\n\u001b[1;32m    972\u001b[0m backend_name \u001b[38;5;241m=\u001b[39m backend\n",
      "File \u001b[0;32m/opt/anaconda3/envs/orb-partitioning/lib/python3.10/site-packages/networkx/algorithms/distance_measures.py:308\u001b[0m, in \u001b[0;36meccentricity\u001b[0;34m(G, v, sp, weight)\u001b[0m\n\u001b[1;32m    306\u001b[0m \u001b[38;5;28;01mfor\u001b[39;00m n \u001b[38;5;129;01min\u001b[39;00m G\u001b[38;5;241m.\u001b[39mnbunch_iter(v):\n\u001b[1;32m    307\u001b[0m     \u001b[38;5;28;01mif\u001b[39;00m sp \u001b[38;5;129;01mis\u001b[39;00m \u001b[38;5;28;01mNone\u001b[39;00m:\n\u001b[0;32m--> 308\u001b[0m         length \u001b[38;5;241m=\u001b[39m \u001b[43mnx\u001b[49m\u001b[38;5;241;43m.\u001b[39;49m\u001b[43mshortest_path_length\u001b[49m\u001b[43m(\u001b[49m\u001b[43mG\u001b[49m\u001b[43m,\u001b[49m\u001b[43m \u001b[49m\u001b[43msource\u001b[49m\u001b[38;5;241;43m=\u001b[39;49m\u001b[43mn\u001b[49m\u001b[43m,\u001b[49m\u001b[43m \u001b[49m\u001b[43mweight\u001b[49m\u001b[38;5;241;43m=\u001b[39;49m\u001b[43mweight\u001b[49m\u001b[43m)\u001b[49m\n\u001b[1;32m    310\u001b[0m         L \u001b[38;5;241m=\u001b[39m \u001b[38;5;28mlen\u001b[39m(length)\n\u001b[1;32m    311\u001b[0m     \u001b[38;5;28;01melse\u001b[39;00m:\n",
      "File \u001b[0;32m<class 'networkx.utils.decorators.argmap'> compilation 28:3\u001b[0m, in \u001b[0;36margmap_shortest_path_length_25\u001b[0;34m(G, source, target, weight, method, backend, **backend_kwargs)\u001b[0m\n\u001b[1;32m      1\u001b[0m \u001b[38;5;28;01mimport\u001b[39;00m\u001b[38;5;250m \u001b[39m\u001b[38;5;21;01mbz2\u001b[39;00m\n\u001b[1;32m      2\u001b[0m \u001b[38;5;28;01mimport\u001b[39;00m\u001b[38;5;250m \u001b[39m\u001b[38;5;21;01mcollections\u001b[39;00m\n\u001b[0;32m----> 3\u001b[0m \u001b[38;5;28;01mimport\u001b[39;00m\u001b[38;5;250m \u001b[39m\u001b[38;5;21;01mgzip\u001b[39;00m\n\u001b[1;32m      4\u001b[0m \u001b[38;5;28;01mimport\u001b[39;00m\u001b[38;5;250m \u001b[39m\u001b[38;5;21;01minspect\u001b[39;00m\n\u001b[1;32m      5\u001b[0m \u001b[38;5;28;01mimport\u001b[39;00m\u001b[38;5;250m \u001b[39m\u001b[38;5;21;01mitertools\u001b[39;00m\n",
      "File \u001b[0;32m/opt/anaconda3/envs/orb-partitioning/lib/python3.10/site-packages/networkx/utils/backends.py:967\u001b[0m, in \u001b[0;36m_dispatchable.__call__\u001b[0;34m(self, backend, *args, **kwargs)\u001b[0m\n\u001b[1;32m    965\u001b[0m     \u001b[38;5;28;01mif\u001b[39;00m backend \u001b[38;5;129;01mis\u001b[39;00m \u001b[38;5;129;01mnot\u001b[39;00m \u001b[38;5;28;01mNone\u001b[39;00m \u001b[38;5;129;01mand\u001b[39;00m backend \u001b[38;5;241m!=\u001b[39m \u001b[38;5;124m\"\u001b[39m\u001b[38;5;124mnetworkx\u001b[39m\u001b[38;5;124m\"\u001b[39m:\n\u001b[1;32m    966\u001b[0m         \u001b[38;5;28;01mraise\u001b[39;00m \u001b[38;5;167;01mImportError\u001b[39;00m(\u001b[38;5;124mf\u001b[39m\u001b[38;5;124m\"\u001b[39m\u001b[38;5;124m'\u001b[39m\u001b[38;5;132;01m{\u001b[39;00mbackend\u001b[38;5;132;01m}\u001b[39;00m\u001b[38;5;124m'\u001b[39m\u001b[38;5;124m backend is not installed\u001b[39m\u001b[38;5;124m\"\u001b[39m)\n\u001b[0;32m--> 967\u001b[0m     \u001b[38;5;28;01mreturn\u001b[39;00m \u001b[38;5;28;43mself\u001b[39;49m\u001b[38;5;241;43m.\u001b[39;49m\u001b[43morig_func\u001b[49m\u001b[43m(\u001b[49m\u001b[38;5;241;43m*\u001b[39;49m\u001b[43margs\u001b[49m\u001b[43m,\u001b[49m\u001b[43m \u001b[49m\u001b[38;5;241;43m*\u001b[39;49m\u001b[38;5;241;43m*\u001b[39;49m\u001b[43mkwargs\u001b[49m\u001b[43m)\u001b[49m\n\u001b[1;32m    969\u001b[0m \u001b[38;5;66;03m# Use `backend_name` in this function instead of `backend`.\u001b[39;00m\n\u001b[1;32m    970\u001b[0m \u001b[38;5;66;03m# This is purely for aesthetics and to make it easier to search for this\u001b[39;00m\n\u001b[1;32m    971\u001b[0m \u001b[38;5;66;03m# variable since \"backend\" is used in many comments and log/error messages.\u001b[39;00m\n\u001b[1;32m    972\u001b[0m backend_name \u001b[38;5;241m=\u001b[39m backend\n",
      "File \u001b[0;32m/opt/anaconda3/envs/orb-partitioning/lib/python3.10/site-packages/networkx/algorithms/shortest_paths/generic.py:316\u001b[0m, in \u001b[0;36mshortest_path_length\u001b[0;34m(G, source, target, weight, method)\u001b[0m\n\u001b[1;32m    313\u001b[0m \u001b[38;5;28;01mif\u001b[39;00m target \u001b[38;5;129;01mis\u001b[39;00m \u001b[38;5;28;01mNone\u001b[39;00m:\n\u001b[1;32m    314\u001b[0m     \u001b[38;5;66;03m# Find paths to all nodes accessible from the source.\u001b[39;00m\n\u001b[1;32m    315\u001b[0m     \u001b[38;5;28;01mif\u001b[39;00m method \u001b[38;5;241m==\u001b[39m \u001b[38;5;124m\"\u001b[39m\u001b[38;5;124munweighted\u001b[39m\u001b[38;5;124m\"\u001b[39m:\n\u001b[0;32m--> 316\u001b[0m         paths \u001b[38;5;241m=\u001b[39m \u001b[43mnx\u001b[49m\u001b[38;5;241;43m.\u001b[39;49m\u001b[43msingle_source_shortest_path_length\u001b[49m\u001b[43m(\u001b[49m\u001b[43mG\u001b[49m\u001b[43m,\u001b[49m\u001b[43m \u001b[49m\u001b[43msource\u001b[49m\u001b[43m)\u001b[49m\n\u001b[1;32m    317\u001b[0m     \u001b[38;5;28;01melif\u001b[39;00m method \u001b[38;5;241m==\u001b[39m \u001b[38;5;124m\"\u001b[39m\u001b[38;5;124mdijkstra\u001b[39m\u001b[38;5;124m\"\u001b[39m:\n\u001b[1;32m    318\u001b[0m         path_length \u001b[38;5;241m=\u001b[39m nx\u001b[38;5;241m.\u001b[39msingle_source_dijkstra_path_length\n",
      "File \u001b[0;32m<class 'networkx.utils.decorators.argmap'> compilation 32:3\u001b[0m, in \u001b[0;36margmap_single_source_shortest_path_length_29\u001b[0;34m(G, source, cutoff, backend, **backend_kwargs)\u001b[0m\n\u001b[1;32m      1\u001b[0m \u001b[38;5;28;01mimport\u001b[39;00m\u001b[38;5;250m \u001b[39m\u001b[38;5;21;01mbz2\u001b[39;00m\n\u001b[1;32m      2\u001b[0m \u001b[38;5;28;01mimport\u001b[39;00m\u001b[38;5;250m \u001b[39m\u001b[38;5;21;01mcollections\u001b[39;00m\n\u001b[0;32m----> 3\u001b[0m \u001b[38;5;28;01mimport\u001b[39;00m\u001b[38;5;250m \u001b[39m\u001b[38;5;21;01mgzip\u001b[39;00m\n\u001b[1;32m      4\u001b[0m \u001b[38;5;28;01mimport\u001b[39;00m\u001b[38;5;250m \u001b[39m\u001b[38;5;21;01minspect\u001b[39;00m\n\u001b[1;32m      5\u001b[0m \u001b[38;5;28;01mimport\u001b[39;00m\u001b[38;5;250m \u001b[39m\u001b[38;5;21;01mitertools\u001b[39;00m\n",
      "File \u001b[0;32m/opt/anaconda3/envs/orb-partitioning/lib/python3.10/site-packages/networkx/utils/backends.py:967\u001b[0m, in \u001b[0;36m_dispatchable.__call__\u001b[0;34m(self, backend, *args, **kwargs)\u001b[0m\n\u001b[1;32m    965\u001b[0m     \u001b[38;5;28;01mif\u001b[39;00m backend \u001b[38;5;129;01mis\u001b[39;00m \u001b[38;5;129;01mnot\u001b[39;00m \u001b[38;5;28;01mNone\u001b[39;00m \u001b[38;5;129;01mand\u001b[39;00m backend \u001b[38;5;241m!=\u001b[39m \u001b[38;5;124m\"\u001b[39m\u001b[38;5;124mnetworkx\u001b[39m\u001b[38;5;124m\"\u001b[39m:\n\u001b[1;32m    966\u001b[0m         \u001b[38;5;28;01mraise\u001b[39;00m \u001b[38;5;167;01mImportError\u001b[39;00m(\u001b[38;5;124mf\u001b[39m\u001b[38;5;124m\"\u001b[39m\u001b[38;5;124m'\u001b[39m\u001b[38;5;132;01m{\u001b[39;00mbackend\u001b[38;5;132;01m}\u001b[39;00m\u001b[38;5;124m'\u001b[39m\u001b[38;5;124m backend is not installed\u001b[39m\u001b[38;5;124m\"\u001b[39m)\n\u001b[0;32m--> 967\u001b[0m     \u001b[38;5;28;01mreturn\u001b[39;00m \u001b[38;5;28;43mself\u001b[39;49m\u001b[38;5;241;43m.\u001b[39;49m\u001b[43morig_func\u001b[49m\u001b[43m(\u001b[49m\u001b[38;5;241;43m*\u001b[39;49m\u001b[43margs\u001b[49m\u001b[43m,\u001b[49m\u001b[43m \u001b[49m\u001b[38;5;241;43m*\u001b[39;49m\u001b[38;5;241;43m*\u001b[39;49m\u001b[43mkwargs\u001b[49m\u001b[43m)\u001b[49m\n\u001b[1;32m    969\u001b[0m \u001b[38;5;66;03m# Use `backend_name` in this function instead of `backend`.\u001b[39;00m\n\u001b[1;32m    970\u001b[0m \u001b[38;5;66;03m# This is purely for aesthetics and to make it easier to search for this\u001b[39;00m\n\u001b[1;32m    971\u001b[0m \u001b[38;5;66;03m# variable since \"backend\" is used in many comments and log/error messages.\u001b[39;00m\n\u001b[1;32m    972\u001b[0m backend_name \u001b[38;5;241m=\u001b[39m backend\n",
      "File \u001b[0;32m/opt/anaconda3/envs/orb-partitioning/lib/python3.10/site-packages/networkx/algorithms/shortest_paths/unweighted.py:63\u001b[0m, in \u001b[0;36msingle_source_shortest_path_length\u001b[0;34m(G, source, cutoff)\u001b[0m\n\u001b[1;32m     61\u001b[0m     cutoff \u001b[38;5;241m=\u001b[39m \u001b[38;5;28mfloat\u001b[39m(\u001b[38;5;124m\"\u001b[39m\u001b[38;5;124minf\u001b[39m\u001b[38;5;124m\"\u001b[39m)\n\u001b[1;32m     62\u001b[0m nextlevel \u001b[38;5;241m=\u001b[39m [source]\n\u001b[0;32m---> 63\u001b[0m \u001b[38;5;28;01mreturn\u001b[39;00m \u001b[38;5;28;43mdict\u001b[39;49m\u001b[43m(\u001b[49m\u001b[43m_single_shortest_path_length\u001b[49m\u001b[43m(\u001b[49m\u001b[43mG\u001b[49m\u001b[38;5;241;43m.\u001b[39;49m\u001b[43m_adj\u001b[49m\u001b[43m,\u001b[49m\u001b[43m \u001b[49m\u001b[43mnextlevel\u001b[49m\u001b[43m,\u001b[49m\u001b[43m \u001b[49m\u001b[43mcutoff\u001b[49m\u001b[43m)\u001b[49m\u001b[43m)\u001b[49m\n",
      "File \u001b[0;32m/opt/anaconda3/envs/orb-partitioning/lib/python3.10/site-packages/networkx/algorithms/shortest_paths/unweighted.py:91\u001b[0m, in \u001b[0;36m_single_shortest_path_length\u001b[0;34m(adj, firstlevel, cutoff)\u001b[0m\n\u001b[1;32m     89\u001b[0m \u001b[38;5;28;01mfor\u001b[39;00m v \u001b[38;5;129;01min\u001b[39;00m thislevel:\n\u001b[1;32m     90\u001b[0m     \u001b[38;5;28;01mfor\u001b[39;00m w \u001b[38;5;129;01min\u001b[39;00m adj[v]:\n\u001b[0;32m---> 91\u001b[0m         \u001b[38;5;28;01mif\u001b[39;00m w \u001b[38;5;129;01mnot\u001b[39;00m \u001b[38;5;129;01min\u001b[39;00m seen:\n\u001b[1;32m     92\u001b[0m             seen\u001b[38;5;241m.\u001b[39madd(w)\n\u001b[1;32m     93\u001b[0m             nextlevel\u001b[38;5;241m.\u001b[39mappend(w)\n",
      "\u001b[0;31mKeyboardInterrupt\u001b[0m: "
     ]
    }
   ],
   "source": [
    "from ase.io import read\n",
    "from orb_models.forcefield.atomic_system import ase_atoms_to_atom_graphs\n",
    "from ase.build import make_supercell\n",
    " \n",
    "atoms = read(\"test.xyz\")\n",
    "atoms = make_supercell(atoms, [[3, 0, 0], [0, 3, 0], [0, 0, 3]])\n",
    "\n",
    "# Instead of using neighborlist, I use the ase_atoms_to_atom_graphs provided by orb. Hopefully this will provide better results\n",
    "atom_graph = ase_atoms_to_atom_graphs(atoms)\n",
    "senders = atom_graph.senders\n",
    "receivers = atom_graph.receivers\n",
    "edge_feats = atom_graph.edge_features\n",
    "\n",
    "G = nx.Graph()\n",
    "G.add_nodes_from(range(len(atoms)))\n",
    "\n",
    "for i, u in enumerate(senders):\n",
    "    G.add_edge(u.item(), receivers[i].item(), weight=edge_feats['r'])\n",
    "\n",
    "# layout = nx.random_layout(G, seed=1)\n",
    "# nx.draw(G, pos=layout, with_labels=True)\n",
    "\n",
    "print(\"Number of atoms\", len(atoms))\n",
    "print(\"Diameter of graph:\", nx.diameter(G))"
   ]
  },
  {
   "cell_type": "markdown",
   "metadata": {},
   "source": [
    "Performing the partitioning"
   ]
  },
  {
   "cell_type": "code",
   "execution_count": 69,
   "metadata": {},
   "outputs": [
    {
     "name": "stdout",
     "output_type": "stream",
     "text": [
      "2867\n",
      "2670\n",
      "2781\n",
      "2808\n",
      "2775\n",
      "2640\n",
      "2827\n",
      "2653\n",
      "2813\n",
      "2873\n",
      "2736\n",
      "2703\n",
      "2693\n",
      "2597\n",
      "2785\n",
      "2666\n",
      "2651\n",
      "2815\n",
      "2624\n",
      "2908\n"
     ]
    }
   ],
   "source": [
    "desired_partitions = 20colors = cm.get_cmap(\"Accent\", lut=num_partitions)\n",
    "# color_map = [None for _ in range(len(G.nodes()))]\n",
    "# for i, part in enumerate(partitions):\n",
    "#     for u in part:\n",
    "#         color_map[u] = colors(i)\n",
    "# nx.draw(G, pos=layout, with_labels=True, node_color=color_map)\n",
    "neighborhood_distance = 4\n",
    "partitions, extended_partitions = part_graph_extended(G, desired_partitions, neighborhood_distance)\n",
    "\n",
    "num_partitions = len(partitions)\n",
    "\n",
    "# Visualization\n",
    "import matplotlib.cm as cm\n",
    "\n",
    "# colors = cm.get_cmap(\"Accent\", lut=num_partitions)\n",
    "# color_map = [None for _ in range(len(G.nodes()))]\n",
    "# for i, part in enumerate(partitions):\n",
    "#     for u in part:\n",
    "#         color_map[u] = colors(i)\n",
    "# nx.draw(G, pos=layout, with_labels=True, node_color=color_map)\n",
    "\n",
    "for x in extended_partitions:\n",
    "    print(len(x))"
   ]
  },
  {
   "cell_type": "markdown",
   "metadata": {},
   "source": [
    "Create the ASE atoms object for each partition"
   ]
  },
  {
   "cell_type": "code",
   "execution_count": 70,
   "metadata": {},
   "outputs": [
    {
     "data": {
      "text/plain": [
       "[Atoms(symbols='C752H1850Ga52S53Si160', pbc=False),\n",
       " Atoms(symbols='C700H1714Ga52S50Si154', pbc=False),\n",
       " Atoms(symbols='C728H1787Ga53S52Si161', pbc=False),\n",
       " Atoms(symbols='C732H1806Ga55S56Si159', pbc=False),\n",
       " Atoms(symbols='C717H1791Ga54S54Si159', pbc=False),\n",
       " Atoms(symbols='C694H1690Ga51S49Si156', pbc=False),\n",
       " Atoms(symbols='C735H1824Ga53S55Si160', pbc=False),\n",
       " Atoms(symbols='C695H1707Ga52S50Si149', pbc=False),\n",
       " Atoms(symbols='C732H1812Ga55S58Si156', pbc=False),\n",
       " Atoms(symbols='C745H1858Ga54S56Si160', pbc=False),\n",
       " Atoms(symbols='C709H1769Ga55S54Si149', pbc=False),\n",
       " Atoms(symbols='C704H1745Ga52S53Si149', pbc=False),\n",
       " Atoms(symbols='C706H1743Ga44S45Si155', pbc=False),\n",
       " Atoms(symbols='C680H1668Ga51S49Si149', pbc=False),\n",
       " Atoms(symbols='C726H1798Ga52S52Si157', pbc=False),\n",
       " Atoms(symbols='C699H1712Ga53S51Si151', pbc=False),\n",
       " Atoms(symbols='C691H1706Ga52S53Si149', pbc=False),\n",
       " Atoms(symbols='C735H1821Ga52S52Si155', pbc=False),\n",
       " Atoms(symbols='C687H1681Ga51S49Si156', pbc=False),\n",
       " Atoms(symbols='C751H1884Ga54S55Si164', pbc=False)]"
      ]
     },
     "execution_count": 70,
     "metadata": {},
     "output_type": "execute_result"
    }
   ],
   "source": [
    "from ase import Atoms\n",
    "\n",
    "partitioned_atoms = []\n",
    "indices_map = [] # Table mapping each atom in each partition back to its index in the original atoms object\n",
    "\n",
    "for part in extended_partitions:\n",
    "    current_partition = []\n",
    "    current_indices_map = []\n",
    "    for atom_index in part:\n",
    "        current_partition.append(atoms[atom_index])\n",
    "        current_indices_map.append(atoms[atom_index].index)\n",
    "\n",
    "    partitioned_atoms.append(Atoms(current_partition))\n",
    "    indices_map.append(current_indices_map)\n",
    "\n",
    "partitioned_atoms\n"
   ]
  },
  {
   "cell_type": "code",
   "execution_count": 71,
   "metadata": {},
   "outputs": [
    {
     "data": {
      "text/plain": [
       "Atoms(symbols='C880H2208Ga64S64Si192', pbc=False)"
      ]
     },
     "execution_count": 71,
     "metadata": {},
     "output_type": "execute_result"
    }
   ],
   "source": [
    "whole_graph = []\n",
    "for atom_index in range(len(atoms)):\n",
    "    whole_graph.append(atoms[atom_index])\n",
    "whole_graph = Atoms(whole_graph)\n",
    "\n",
    "whole_graph"
   ]
  },
  {
   "cell_type": "markdown",
   "metadata": {},
   "source": [
    "## Inference"
   ]
  },
  {
   "cell_type": "code",
   "execution_count": 51,
   "metadata": {},
   "outputs": [],
   "source": [
    "import ase\n",
    "from ase.build import bulk\n",
    "\n",
    "from orb_models.forcefield import atomic_system, pretrained\n",
    "from orb_models.forcefield.base import batch_graphs\n",
    "\n",
    "import torch"
   ]
  },
  {
   "cell_type": "markdown",
   "metadata": {},
   "source": [
    "Load model"
   ]
  },
  {
   "cell_type": "code",
   "execution_count": 52,
   "metadata": {},
   "outputs": [
    {
     "name": "stderr",
     "output_type": "stream",
     "text": [
      "/opt/anaconda3/envs/orb-partitioning/lib/python3.10/site-packages/orb_models/forcefield/pretrained.py:71: FutureWarning: You are using `torch.load` with `weights_only=False` (the current default value), which uses the default pickle module implicitly. It is possible to construct malicious pickle data which will execute arbitrary code during unpickling (See https://github.com/pytorch/pytorch/blob/main/SECURITY.md#untrusted-models for more details). In a future release, the default value for `weights_only` will be flipped to `True`. This limits the functions that could be executed during unpickling. Arbitrary objects will no longer be allowed to be loaded via this mode unless they are explicitly allowlisted by the user via `torch.serialization.add_safe_globals`. We recommend you start setting `weights_only=True` for any use case where you don't have full control of the loaded file. Please open an issue on GitHub for any issues related to this experimental feature.\n",
      "  state_dict = torch.load(local_path, map_location=\"cpu\")\n"
     ]
    }
   ],
   "source": [
    "device = \"cpu\"  # or device=\"cuda\"\n",
    "orbff = pretrained.orb_v2(device=device)"
   ]
  },
  {
   "cell_type": "markdown",
   "metadata": {},
   "source": [
    "Run inference on each partition"
   ]
  },
  {
   "cell_type": "code",
   "execution_count": 72,
   "metadata": {},
   "outputs": [],
   "source": [
    "forces_from_partition = [None for _ in range(len(atoms))]\n",
    "\n",
    "for i, part in enumerate(partitioned_atoms):\n",
    "    input_graph = atomic_system.ase_atoms_to_atom_graphs(part)\n",
    "    result = orbff.predict(input_graph)\n",
    "    for j, node in enumerate(part):\n",
    "        original_index = indices_map[i][j]\n",
    "        if original_index in partitions[i]: # If the node is a root node of the partition\n",
    "            forces_from_partition[original_index] = result[\"node_pred\"][j]\n",
    "\n",
    "forces_from_partition = torch.stack(forces_from_partition)"
   ]
  },
  {
   "cell_type": "markdown",
   "metadata": {},
   "source": [
    "Run inference on the whole, original atom graph"
   ]
  },
  {
   "cell_type": "code",
   "execution_count": 73,
   "metadata": {},
   "outputs": [],
   "source": [
    "input_graph = atomic_system.ase_atoms_to_atom_graphs(whole_graph)\n",
    "result = orbff.predict(input_graph)\n",
    "forces_from_original = result[\"node_pred\"]"
   ]
  },
  {
   "cell_type": "code",
   "execution_count": 79,
   "metadata": {},
   "outputs": [
    {
     "data": {
      "text/plain": [
       "(tensor(7.8128e-07), tensor(0.0007), tensor(0.7463))"
      ]
     },
     "execution_count": 79,
     "metadata": {},
     "output_type": "execute_result"
    }
   ],
   "source": [
    "mse = torch.mean((forces_from_partition - forces_from_original) ** 2)\n",
    "mae = torch.mean(abs(forces_from_partition - forces_from_original))\n",
    "mape = 100 * torch.mean(abs(forces_from_partition - forces_from_original) / forces_from_original)\n",
    "mse, mae, mape"
   ]
  }
 ],
 "metadata": {
  "kernelspec": {
   "display_name": "orb-partitioning",
   "language": "python",
   "name": "python3"
  },
  "language_info": {
   "codemirror_mode": {
    "name": "ipython",
    "version": 3
   },
   "file_extension": ".py",
   "mimetype": "text/x-python",
   "name": "python",
   "nbconvert_exporter": "python",
   "pygments_lexer": "ipython3",
   "version": "3.10.16"
  }
 },
 "nbformat": 4,
 "nbformat_minor": 2
}
