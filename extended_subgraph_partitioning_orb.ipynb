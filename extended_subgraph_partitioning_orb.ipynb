{
 "cells": [
  {
   "cell_type": "markdown",
   "metadata": {},
   "source": [
    "# Extended Subgraph Partitioning (orb-models)"
   ]
  },
  {
   "cell_type": "code",
   "execution_count": 106,
   "metadata": {},
   "outputs": [],
   "source": [
    "import numpy as np\n",
    "import torch\n",
    "\n",
    "from tqdm import tqdm"
   ]
  },
  {
   "cell_type": "markdown",
   "metadata": {},
   "source": [
    "### Extended Partitioning"
   ]
  },
  {
   "cell_type": "code",
   "execution_count": 107,
   "metadata": {},
   "outputs": [],
   "source": [
    "import networkx as nx\n",
    "import metis\n",
    "\n",
    "from collections import deque\n",
    "\n",
    "def part_graph_extended(G, desired_partitions, distance=None):\n",
    "    def descendants_at_distance_multisource(G, sources, distance=None):\n",
    "        if sources in G:\n",
    "            sources = [sources]\n",
    "\n",
    "        queue = deque(sources)\n",
    "        depths = deque([0 for _ in queue])\n",
    "        visited = set(sources)\n",
    "\n",
    "        for source in queue:\n",
    "            if source not in G:\n",
    "                raise nx.NetworkXError(f\"The node {source} is not in the graph.\")\n",
    "\n",
    "        while queue:\n",
    "            node = queue[0]\n",
    "            depth = depths[0]\n",
    "\n",
    "            if distance is not None and depth > distance: return\n",
    "\n",
    "            yield queue[0]\n",
    "\n",
    "            queue.popleft()\n",
    "            depths.popleft()\n",
    "\n",
    "            for child in G[node]:\n",
    "                if child not in visited:\n",
    "                    visited.add(child)\n",
    "                    queue.append(child)\n",
    "                    depths.append(depth + 1)\n",
    "\n",
    "    _, parts = metis.part_graph(G, desired_partitions, objtype=\"cut\")\n",
    "    partition_map = {node: parts[i] for i, node in enumerate(G.nodes())}\n",
    "    num_partitions = desired_partitions\n",
    "\n",
    "    # Find indices of nodes in each partition\n",
    "    partitions = [set() for _ in range(desired_partitions)]\n",
    "\n",
    "    for i, node in enumerate(G.nodes()):\n",
    "        partitions[partition_map[i]].add(node)\n",
    "\n",
    "    # Find boundary nodes (vertices adjacent to vertex not in partition)\n",
    "    boundary_nodes = [set(map(lambda uv: uv[0], nx.edge_boundary(G, partitions[i]))) for i in range(num_partitions)]\n",
    "\n",
    "    # Perform BFS on boundary_nodes to find extended neighbors up to a certain distance\n",
    "    extended_neighbors = [set(descendants_at_distance_multisource(G, boundary_nodes[i], distance=distance)) for i in range(num_partitions)]\n",
    "\n",
    "    extended_partitions = [p.union(a) for p, a in zip(partitions, extended_neighbors)]\n",
    "\n",
    "    return partitions, extended_partitions"
   ]
  },
  {
   "cell_type": "markdown",
   "metadata": {},
   "source": [
    "## Partitioning Atoms"
   ]
  },
  {
   "cell_type": "markdown",
   "metadata": {},
   "source": [
    "Loading a sample atomic dataset and converting it into a graph"
   ]
  },
  {
   "cell_type": "code",
   "execution_count": 108,
   "metadata": {},
   "outputs": [
    {
     "name": "stdout",
     "output_type": "stream",
     "text": [
      "Number of atoms 3408\n"
     ]
    }
   ],
   "source": [
    "from ase.io import read\n",
    "from orb_models.forcefield.atomic_system import ase_atoms_to_atom_graphs\n",
    "from ase.build import make_supercell\n",
    " \n",
    "atoms = read(\"datasets/test.xyz\")\n",
    "atoms = make_supercell(atoms, [[2, 0, 0], [0, 2, 0], [0, 0, 2]])\n",
    "\n",
    "# Instead of using neighborlist, I use the ase_atoms_to_atom_graphs provided by orb. Hopefully this will provide better results\n",
    "atom_graph = ase_atoms_to_atom_graphs(atoms) # Keep this to compare results later\n",
    "\n",
    "senders = atom_graph.senders\n",
    "receivers = atom_graph.receivers\n",
    "edge_feats = atom_graph.edge_features\n",
    "\n",
    "G = nx.Graph()\n",
    "G.add_nodes_from(range(len(atoms)))\n",
    "\n",
    "for i, u in enumerate(senders):\n",
    "    G.add_edge(u.item(), receivers[i].item(), weight=edge_feats['r'])\n",
    "\n",
    "print(\"Number of atoms\", len(atoms))"
   ]
  },
  {
   "cell_type": "markdown",
   "metadata": {},
   "source": [
    "Partition the computational graph into the number of desired partitions with the specified neighborhood distance"
   ]
  },
  {
   "cell_type": "code",
   "execution_count": 109,
   "metadata": {},
   "outputs": [],
   "source": [
    "desired_partitions = 20\n",
    "neighborhood_distance = 5\n",
    "partitions, extended_partitions = part_graph_extended(G, desired_partitions, neighborhood_distance)\n",
    "\n",
    "num_partitions = len(partitions)"
   ]
  },
  {
   "cell_type": "markdown",
   "metadata": {},
   "source": [
    "Create the ASE atoms object for each partition"
   ]
  },
  {
   "cell_type": "code",
   "execution_count": 110,
   "metadata": {},
   "outputs": [],
   "source": [
    "from ase import Atoms\n",
    "\n",
    "partitioned_atoms = []\n",
    "indices_map = [] # Table mapping each atom in each partition back to its index in the original atoms object\n",
    "\n",
    "for part in extended_partitions:\n",
    "    current_partition = []\n",
    "    current_indices_map = []\n",
    "    for atom_index in part:\n",
    "        current_partition.append(atoms[atom_index])\n",
    "        current_indices_map.append(atoms[atom_index].index)\n",
    "\n",
    "    partitioned_atoms.append(Atoms(current_partition, cell=atoms.cell, pbc=atoms.pbc)) # It's important to pass atoms.cell and atoms.pbc here\n",
    "    indices_map.append(current_indices_map)"
   ]
  },
  {
   "cell_type": "code",
   "execution_count": 111,
   "metadata": {},
   "outputs": [
    {
     "data": {
      "text/plain": [
       "Atoms(symbols='C880H2208Ga64S64Si192', pbc=True, cell=[[23.096664428710938, 13.334883689880371, 23.9624080657959], [-23.09648895263672, 13.334826469421387, 23.962270736694336], [3.831999856629409e-05, -26.669597625732422, 23.962278366088867]])"
      ]
     },
     "execution_count": 111,
     "metadata": {},
     "output_type": "execute_result"
    }
   ],
   "source": [
    "reconstructed_atoms = []\n",
    "for atom_index in range(len(atoms)):\n",
    "    reconstructed_atoms.append(atoms[atom_index])\n",
    "reconstructed_atoms = Atoms(reconstructed_atoms, cell=atoms.cell, pbc=atoms.pbc)\n",
    "\n",
    "reconstructed_atoms"
   ]
  },
  {
   "cell_type": "markdown",
   "metadata": {},
   "source": [
    "## Inference"
   ]
  },
  {
   "cell_type": "code",
   "execution_count": 112,
   "metadata": {},
   "outputs": [],
   "source": [
    "from orb_models.forcefield import atomic_system, pretrained\n",
    "from orb_models.forcefield import segment_ops"
   ]
  },
  {
   "cell_type": "markdown",
   "metadata": {},
   "source": [
    "Load model"
   ]
  },
  {
   "cell_type": "code",
   "execution_count": 113,
   "metadata": {},
   "outputs": [
    {
     "name": "stderr",
     "output_type": "stream",
     "text": [
      "/opt/anaconda3/envs/orb-partitioning/lib/python3.10/site-packages/orb_models/forcefield/pretrained.py:71: FutureWarning: You are using `torch.load` with `weights_only=False` (the current default value), which uses the default pickle module implicitly. It is possible to construct malicious pickle data which will execute arbitrary code during unpickling (See https://github.com/pytorch/pytorch/blob/main/SECURITY.md#untrusted-models for more details). In a future release, the default value for `weights_only` will be flipped to `True`. This limits the functions that could be executed during unpickling. Arbitrary objects will no longer be allowed to be loaded via this mode unless they are explicitly allowlisted by the user via `torch.serialization.add_safe_globals`. We recommend you start setting `weights_only=True` for any use case where you don't have full control of the loaded file. Please open an issue on GitHub for any issues related to this experimental feature.\n",
      "  state_dict = torch.load(local_path, map_location=\"cpu\")\n"
     ]
    }
   ],
   "source": [
    "device = \"cpu\"  # or device=\"cuda\"\n",
    "\n",
    "orbff = pretrained.orb_v2(device=device)"
   ]
  },
  {
   "cell_type": "markdown",
   "metadata": {},
   "source": [
    "Run inference on each partition"
   ]
  },
  {
   "cell_type": "code",
   "execution_count": 114,
   "metadata": {},
   "outputs": [
    {
     "name": "stderr",
     "output_type": "stream",
     "text": [
      "100%|██████████| 20/20 [03:27<00:00, 10.37s/it]\n"
     ]
    },
    {
     "data": {
      "text/plain": [
       "tensor([[-0.3629,  0.6121, -0.2159,  ..., -0.1818,  0.5214,  0.2927],\n",
       "        [-0.1475,  0.8231,  0.1479,  ..., -0.0515,  0.2717, -0.3499],\n",
       "        [-0.5161,  0.6599, -0.2023,  ...,  0.0230,  0.3217, -0.8838],\n",
       "        ...,\n",
       "        [ 0.4505, -0.0583,  0.0022,  ...,  0.0957, -0.1776, -0.0512],\n",
       "        [ 0.7821,  0.0331,  0.2452,  ..., -0.0250, -0.0294, -0.4117],\n",
       "        [ 0.8261, -0.0955,  0.0826,  ...,  0.1450, -0.5848, -0.3101]])"
      ]
     },
     "execution_count": 114,
     "metadata": {},
     "output_type": "execute_result"
    }
   ],
   "source": [
    "aggregated_features = torch.zeros((len(atoms), 256), dtype=torch.float32, device=device)\n",
    "\n",
    "for i, part in tqdm(enumerate(partitioned_atoms), total=num_partitions):\n",
    "    input_graph = atomic_system.ase_atoms_to_atom_graphs(part)\n",
    "\n",
    "    batch = orbff.model(input_graph)\n",
    "\n",
    "    feat = batch.node_features[\"feat\"]\n",
    "\n",
    "    for j, node in enumerate(part):\n",
    "        original_index = indices_map[i][j]\n",
    "        if original_index in partitions[i]: # If the node is a root node of the partition\n",
    "            aggregated_features[original_index] = feat[j]\n",
    "\n",
    "aggregated_features"
   ]
  },
  {
   "cell_type": "markdown",
   "metadata": {},
   "source": [
    "## Prediction"
   ]
  },
  {
   "cell_type": "markdown",
   "metadata": {},
   "source": [
    "Run the prediction on the original, unpartitioned graph to obtain a benchmark for our results"
   ]
  },
  {
   "cell_type": "code",
   "execution_count": 115,
   "metadata": {},
   "outputs": [],
   "source": [
    "result = orbff.predict(atom_graph)\n",
    "benchmark_energy = result[\"graph_pred\"]\n",
    "benchmark_forces = result[\"node_pred\"]\n",
    "benchmark_stress = result[\"stress_pred\"]"
   ]
  },
  {
   "cell_type": "code",
   "execution_count": 116,
   "metadata": {},
   "outputs": [],
   "source": [
    "from orb_models.forcefield.graph_regressor import ScalarNormalizer, LinearReferenceEnergy\n",
    "from orb_models.forcefield.reference_energies import REFERENCE_ENERGIES\n",
    "\n",
    "ref = REFERENCE_ENERGIES[\"vasp-shifted\"]\n",
    "reference = LinearReferenceEnergy(\n",
    "    weight_init=ref.coefficients, trainable=True\n",
    ")\n",
    "\n",
    "n_node = torch.tensor([aggregated_features.shape[0]])"
   ]
  },
  {
   "cell_type": "markdown",
   "metadata": {},
   "source": [
    "### Energy"
   ]
  },
  {
   "cell_type": "code",
   "execution_count": 117,
   "metadata": {},
   "outputs": [
    {
     "data": {
      "text/plain": [
       "tensor([-17688.2305], grad_fn=<AddBackward0>)"
      ]
     },
     "execution_count": 117,
     "metadata": {},
     "output_type": "execute_result"
    }
   ],
   "source": [
    "input = segment_ops.aggregate_nodes(\n",
    "    aggregated_features,\n",
    "    n_node,\n",
    "    reduction=\"mean\"\n",
    ")\n",
    "\n",
    "energy = orbff.graph_head.mlp(input)\n",
    "energy = orbff.graph_head.normalizer.inverse(energy).squeeze(-1)\n",
    "energy = energy * n_node\n",
    "energy = energy + reference(atom_graph.atomic_numbers, atom_graph.n_node)\n",
    "energy"
   ]
  },
  {
   "cell_type": "code",
   "execution_count": 123,
   "metadata": {},
   "outputs": [
    {
     "name": "stdout",
     "output_type": "stream",
     "text": [
      "Absolute error: 0.0\n",
      "Percent error: 0.0%\n",
      "Maximum error: 0.0\n"
     ]
    }
   ],
   "source": [
    "print(f\"Absolute error: {torch.abs(benchmark_energy - energy).item()}\")\n",
    "print(f\"Percent error: {torch.abs((benchmark_energy - energy) / benchmark_energy).item() * 100}%\")\n",
    "print(f\"Maximum error: {torch.max(benchmark_energy - energy).item()}\")"
   ]
  },
  {
   "cell_type": "markdown",
   "metadata": {},
   "source": [
    "### Forces"
   ]
  },
  {
   "cell_type": "code",
   "execution_count": 119,
   "metadata": {},
   "outputs": [
    {
     "data": {
      "text/plain": [
       "tensor([[ 0.0349, -0.0312,  0.0005],\n",
       "        [-0.0958, -0.0764, -0.0108],\n",
       "        [-0.0571,  0.0508,  0.0085],\n",
       "        ...,\n",
       "        [ 0.0123, -0.1079,  0.0407],\n",
       "        [-0.1089,  0.0325,  0.0415],\n",
       "        [ 0.0791,  0.0703,  0.0156]])"
      ]
     },
     "execution_count": 119,
     "metadata": {},
     "output_type": "execute_result"
    }
   ],
   "source": [
    "forces = orbff.node_head.mlp(aggregated_features)\n",
    "system_means = segment_ops.aggregate_nodes(\n",
    "    forces, n_node, reduction=\"mean\"\n",
    ")\n",
    "node_broadcasted_means = torch.repeat_interleave(\n",
    "    system_means, n_node, dim=0\n",
    ")\n",
    "forces = forces - node_broadcasted_means\n",
    "forces = orbff.node_head.normalizer.inverse(forces)\n",
    "forces"
   ]
  },
  {
   "cell_type": "code",
   "execution_count": 127,
   "metadata": {},
   "outputs": [
    {
     "name": "stdout",
     "output_type": "stream",
     "text": [
      "Mean absolute error: 6.320112220237206e-07\n",
      "Mean absolute percent error: 0.0020459508523344994%\n",
      "Maximum error: 0.0004204772412776947\n"
     ]
    }
   ],
   "source": [
    "mae = torch.mean(torch.abs(benchmark_forces - forces))\n",
    "mape = 100 * torch.mean(torch.abs((benchmark_forces - forces) / benchmark_forces))\n",
    "max = torch.max(torch.abs(benchmark_forces - forces))\n",
    "\n",
    "print(f\"Mean absolute error: {mae.item()}\")\n",
    "print(f\"Mean absolute percent error: {mape}%\")\n",
    "print(f\"Maximum error: {max}\")"
   ]
  },
  {
   "cell_type": "markdown",
   "metadata": {},
   "source": [
    "### Stress"
   ]
  },
  {
   "cell_type": "code",
   "execution_count": 121,
   "metadata": {},
   "outputs": [
    {
     "data": {
      "text/plain": [
       "tensor([[ 1.1085e-02,  1.1161e-02,  1.2405e-02,  8.0176e-06, -1.8518e-06,\n",
       "         -2.5269e-06]])"
      ]
     },
     "execution_count": 121,
     "metadata": {},
     "output_type": "execute_result"
    }
   ],
   "source": [
    "input = segment_ops.aggregate_nodes(\n",
    "    aggregated_features,\n",
    "    n_node,\n",
    "    reduction=\"mean\",\n",
    ")\n",
    "stress = orbff.stress_head.mlp(input)\n",
    "stress = stress.squeeze(-1)\n",
    "stress = orbff.stress_head.output_activation(stress)\n",
    "stress = orbff.stress_head.normalizer.inverse(stress)\n",
    "stress"
   ]
  },
  {
   "cell_type": "code",
   "execution_count": 125,
   "metadata": {},
   "outputs": [
    {
     "name": "stdout",
     "output_type": "stream",
     "text": [
      "Mean absolute error: 1.1397060006856918e-07\n",
      "Mean absolute percent error: 0.002338955644518137%\n",
      "Max error: 2.3655593395233154e-07\n"
     ]
    }
   ],
   "source": [
    "mae = torch.mean(torch.abs(benchmark_stress - stress))\n",
    "mape = 100 * torch.mean(torch.abs((benchmark_stress - stress) / benchmark_stress))\n",
    "max = torch.max(torch.abs(benchmark_stress - stress))\n",
    "print(f\"Mean absolute error: {mae.item()}\")\n",
    "print(f\"Mean absolute percent error: {mape}%\")\n",
    "print(f\"Max error: {max}\")"
   ]
  }
 ],
 "metadata": {
  "kernelspec": {
   "display_name": "orb-partitioning",
   "language": "python",
   "name": "python3"
  },
  "language_info": {
   "codemirror_mode": {
    "name": "ipython",
    "version": 3
   },
   "file_extension": ".py",
   "mimetype": "text/x-python",
   "name": "python",
   "nbconvert_exporter": "python",
   "pygments_lexer": "ipython3",
   "version": "3.10.16"
  }
 },
 "nbformat": 4,
 "nbformat_minor": 2
}
