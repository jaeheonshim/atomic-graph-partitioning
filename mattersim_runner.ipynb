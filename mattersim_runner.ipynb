{
 "cells": [
  {
   "cell_type": "markdown",
   "metadata": {},
   "source": [
    "This notebook runs the mattersim.ipynb on various parameters"
   ]
  },
  {
   "cell_type": "code",
   "execution_count": 2,
   "metadata": {},
   "outputs": [],
   "source": [
    "import papermill as pm\n",
    "import scrapbook as sb"
   ]
  },
  {
   "cell_type": "code",
   "execution_count": 3,
   "metadata": {},
   "outputs": [],
   "source": [
    "output_file = \"output.temp.ipynb\""
   ]
  },
  {
   "cell_type": "code",
   "execution_count": 15,
   "metadata": {},
   "outputs": [],
   "source": [
    "# data for plotting\n",
    "\n",
    "num_atoms = []\n",
    "energy_error_abs = []\n",
    "energy_error_pct = []\n",
    "energy_error_max = []\n",
    "\n",
    "def append_nb_data():\n",
    "    nb = sb.read_notebook(output_file)\n",
    "\n",
    "    num_atoms.append(nb.scraps[\"num_atoms\"].data)\n",
    "    energy_error_abs.append(nb.scraps[\"energy_error_abs\"].data)\n",
    "    energy_error_pct.append(nb.scraps[\"energy_error_pct\"].data)\n",
    "    energy_error_max.append(nb.scraps[\"energy_error_max\"].data)"
   ]
  },
  {
   "cell_type": "code",
   "execution_count": 16,
   "metadata": {},
   "outputs": [],
   "source": [
    "trials = [\n",
    "    {\n",
    "        \"supercell_scaling\": [[1, 0, 0], [0, 1, 0], [0, 0, 1]]\n",
    "    },\n",
    "    {\n",
    "        \"supercell_scaling\": [[2, 0, 0], [0, 2, 0], [0, 0, 2]]\n",
    "    },\n",
    "    {\n",
    "        \"supercell_scaling\": [[3, 0, 0], [0, 3, 0], [0, 0, 3]]\n",
    "    },\n",
    "    {\n",
    "        \"supercell_scaling\": [[4, 0, 0], [0, 4, 0], [0, 0, 4]]\n",
    "    },\n",
    "    {\n",
    "        \"supercell_scaling\": [[4, 0, 0], [0, 4, 0], [0, 0, 5]]\n",
    "    }\n",
    "]"
   ]
  },
  {
   "cell_type": "code",
   "execution_count": 17,
   "metadata": {},
   "outputs": [
    {
     "name": "stderr",
     "output_type": "stream",
     "text": [
      "Executing: 100%|██████████| 25/25 [00:11<00:00,  2.12cell/s]\n",
      "Executing: 100%|██████████| 25/25 [01:16<00:00,  3.08s/cell]\n"
     ]
    }
   ],
   "source": [
    "for param in trials:\n",
    "    pm.execute_notebook(\"mattersim.ipynb\", output_file, parameters=param)\n",
    "    append_nb_data()"
   ]
  },
  {
   "cell_type": "code",
   "execution_count": 20,
   "metadata": {},
   "outputs": [
    {
     "data": {
      "image/png": "[encoded data removed]",
      "text/plain": [
       "<Figure size 640x480 with 1 Axes>"
      ]
     },
     "metadata": {},
     "output_type": "display_data"
    }
   ],
   "source": [
    "import matplotlib.pyplot as plt\n",
    "plt.plot(num_atoms, energy_error_max, label=\"error_max\")\n",
    "plt.legend()\n",
    "plt.show()"
   ]
  }
 ],
 "metadata": {
  "kernelspec": {
   "display_name": "orb-partitioning",
   "language": "python",
   "name": "python3"
  },
  "language_info": {
   "codemirror_mode": {
    "name": "ipython",
    "version": 3
   },
   "file_extension": ".py",
   "mimetype": "text/x-python",
   "name": "python",
   "nbconvert_exporter": "python",
   "pygments_lexer": "ipython3",
   "version": "3.10.16"
  }
 },
 "nbformat": 4,
 "nbformat_minor": 2
}
