{
 "cells": [
  {
   "cell_type": "code",
   "execution_count": 1,
   "metadata": {},
   "outputs": [
    {
     "name": "stdout",
     "output_type": "stream",
     "text": [
      "\u001b[32m2025-03-26 12:02:25.782\u001b[0m | \u001b[1mINFO    \u001b[0m | \u001b[36mmattersim.forcefield.potential\u001b[0m:\u001b[36mfrom_checkpoint\u001b[0m:\u001b[36m877\u001b[0m - \u001b[1mLoading the pre-trained mattersim-v1.0.0-1M.pth model\u001b[0m\n"
     ]
    }
   ],
   "source": [
    "from wrapper.inference import AtomicPartitionInference\n",
    "from wrapper.implementations.mattersim import MatterSimModelAdapter\n",
    "\n",
    "from mattersim.forcefield import MatterSimCalculator\n",
    "\n",
    "import torch\n",
    "import numpy as np\n",
    "\n",
    "from ase.io import read\n",
    "\n",
    "from tqdm import tqdm"
   ]
  },
  {
   "cell_type": "code",
   "execution_count": 2,
   "metadata": {},
   "outputs": [],
   "source": [
    "device = \"cuda\" if torch.cuda.is_available() else \"cpu\""
   ]
  },
  {
   "cell_type": "code",
   "execution_count": 3,
   "metadata": {},
   "outputs": [
    {
     "name": "stdout",
     "output_type": "stream",
     "text": [
      "Loading the pre-trained mattersim-v1.0.0-1M.pth model\n"
     ]
    },
    {
     "name": "stderr",
     "output_type": "stream",
     "text": [
      "/home/jaeheonshim/georgia_tech/research/atomic-graph-partitioning/wrapper/implementations/mattersim.py:215: FutureWarning: You are using `torch.load` with `weights_only=False` (the current default value), which uses the default pickle module implicitly. It is possible to construct malicious pickle data which will execute arbitrary code during unpickling (See https://github.com/pytorch/pytorch/blob/main/SECURITY.md#untrusted-models for more details). In a future release, the default value for `weights_only` will be flipped to `True`. This limits the functions that could be executed during unpickling. Arbitrary objects will no longer be allowed to be loaded via this mode unless they are explicitly allowlisted by the user via `torch.serialization.add_safe_globals`. We recommend you start setting `weights_only=True` for any use case where you don't have full control of the loaded file. Please open an issue on GitHub for any issues related to this experimental feature.\n",
      "  checkpoint = torch.load(load_path, map_location=device)\n"
     ]
    }
   ],
   "source": [
    "mattersim_partition_inference = AtomicPartitionInference(MatterSimModelAdapter(device=device, num_message_passing=4))"
   ]
  },
  {
   "cell_type": "code",
   "execution_count": 4,
   "metadata": {},
   "outputs": [],
   "source": [
    "def get_mattersim_benchmark(atoms):\n",
    "    mattersim_calc = MatterSimCalculator(compute_stress=False)\n",
    "    atoms.calc = mattersim_calc\n",
    "\n",
    "    return {\n",
    "        \"energy\": atoms.get_potential_energy(),\n",
    "        \"forces\": atoms.get_forces()\n",
    "    }"
   ]
  },
  {
   "cell_type": "code",
   "execution_count": 5,
   "metadata": {},
   "outputs": [],
   "source": [
    "atoms = read('datasets/test.xyz')"
   ]
  },
  {
   "cell_type": "code",
   "execution_count": 6,
   "metadata": {},
   "outputs": [
    {
     "name": "stderr",
     "output_type": "stream",
     "text": [
      "  0%|          | 0/1 [00:00<?, ?it/s]/opt/anaconda3/envs/orb-partitioning/lib/python3.10/site-packages/mattersim/forcefield/potential.py:896: FutureWarning: You are using `torch.load` with `weights_only=False` (the current default value), which uses the default pickle module implicitly. It is possible to construct malicious pickle data which will execute arbitrary code during unpickling (See https://github.com/pytorch/pytorch/blob/main/SECURITY.md#untrusted-models for more details). In a future release, the default value for `weights_only` will be flipped to `True`. This limits the functions that could be executed during unpickling. Arbitrary objects will no longer be allowed to be loaded via this mode unless they are explicitly allowlisted by the user via `torch.serialization.add_safe_globals`. We recommend you start setting `weights_only=True` for any use case where you don't have full control of the loaded file. Please open an issue on GitHub for any issues related to this experimental feature.\n",
      "  checkpoint = torch.load(load_path, map_location=device)\n",
      "100%|██████████| 1/1 [00:00<00:00,  1.16it/s]\n"
     ]
    }
   ],
   "source": [
    "MATTERSIM_ITERATIONS = 1\n",
    "\n",
    "benchmark_forces = []\n",
    "\n",
    "for _ in tqdm(range(MATTERSIM_ITERATIONS)):\n",
    "    benchmark = get_mattersim_benchmark(atoms)\n",
    "    benchmark_forces.append(benchmark[\"forces\"])\n",
    "\n",
    "benchmark_forces = np.mean(benchmark_forces, axis=0)"
   ]
  },
  {
   "cell_type": "code",
   "execution_count": 7,
   "metadata": {},
   "outputs": [
    {
     "name": "stdout",
     "output_type": "stream",
     "text": [
      "\n",
      "=============================================\n",
      "Beginning partitioned inference\n",
      "- Number of atoms                :        426\n",
      "- Desired number of partitions   :         60\n",
      "- Number of partitions per batch :          1\n",
      "=============================================\n",
      "\n",
      "Partitioning graph...\n",
      "Partitioning complete! Created 60 partitions. Average size of partition: 426.0\n",
      "Starting inference...\n"
     ]
    },
    {
     "name": "stderr",
     "output_type": "stream",
     "text": [
      "100%|██████████| 60/60 [00:54<00:00,  1.09it/s]"
     ]
    },
    {
     "name": "stdout",
     "output_type": "stream",
     "text": [
      "Inference complete!\n"
     ]
    },
    {
     "name": "stderr",
     "output_type": "stream",
     "text": [
      "\n"
     ]
    }
   ],
   "source": [
    "result_forces = []\n",
    "for _ in range(MATTERSIM_ITERATIONS):\n",
    "    result = mattersim_partition_inference.run(atoms, desired_partitions=60)\n",
    "    result_forces.append(result[\"forces\"])\n",
    "\n",
    "result_forces = np.mean(result_forces, axis=0)"
   ]
  },
  {
   "cell_type": "code",
   "execution_count": 15,
   "metadata": {},
   "outputs": [],
   "source": [
    "error_ratio =  np.linalg.norm(benchmark_forces - result_forces, ord=1, axis=1) / np.linalg.norm(benchmark_forces, ord=1, axis=1)\n",
    "\n",
    "positions = atoms.positions\n",
    "pos_min = np.min(positions, axis=0)\n",
    "pos_max = np.max(positions, axis=0)\n",
    "positions_normalized = (positions - pos_min) / (pos_max - pos_min)"
   ]
  },
  {
   "cell_type": "code",
   "execution_count": 16,
   "metadata": {},
   "outputs": [
    {
     "data": {
      "application/vnd.plotly.v1+json": {
       "config": {
        "plotlyServerURL": "https://plot.ly"
       },
       "data": [
        {
         "marker": {
          "color": {
           "bdata": "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",
           "dtype": "f4"
          },
          "colorbar": {
           "title": {
            "text": "Normalized Error"
           }
          },
          "colorscale": [
           [
            0,
            "#0d0887"
           ],
           [
            0.1111111111111111,
            "#46039f"
           ],
           [
            0.2222222222222222,
            "#7201a8"
           ],
           [
            0.3333333333333333,
            "#9c179e"
           ],
           [
            0.4444444444444444,
            "#bd3786"
           ],
           [
            0.5555555555555556,
            "#d8576b"
           ],
           [
            0.6666666666666666,
            "#ed7953"
           ],
           [
            0.7777777777777778,
            "#fb9f3a"
           ],
           [
            0.8888888888888888,
            "#fdca26"
           ],
           [
            1,
            "#f0f921"
           ]
          ],
          "opacity": 0.8,
          "size": 6
         },
         "mode": "markers",
         "type": "scatter3d",
         "x": {
          "bdata": "wa/XNhPZ4j/cj6KVkyTbP9b7nKNBKd8/E6bil9lN2j9ajwE7tm3iP19ZBDRfa+A/iYRI8VYA4D8XApMoUv/fPz1r7MTvL8s/LI6iX85x7D/hg/jrcYTZP3hlqxoENOk/FpNTwY1xvD9ZldYPxz3jP/SgbAJN4sE/Hj9iyBGv6T9z2giWWtjhP1aGCstsh+s/uLxz3bhDyT+vUIDZSk/cP5YaMowaj8I/S4VqMFz67D/B2inXusPcP6L52Wg5XOs/BEileh4tuD9pFTSXIp7hP4ne0BnA1d4/IGepk03Z4j+d0X/j3HfbP+TyJ/gfleA/U+BS5GRN2j957hKUEUTiP+CfpyQjBM4/KMvcNZyk7j9o8Yvkt7TTP1KYvEL3fug/TzImnjy2pT+Uh6AZpCXmP8OUaB7CbOc/YeN4oW9d3T+L3+tZ+8jTPw8zrcJ7JtE/mmUWNUhR4T+FkPBeghvmP95JdjJpIdE/4PhulaiH7j+pz49PSc/RP1sJhGZLb+c/TJbtKXiFpz90mB5kWxjnP/cBkiZdg+c/l/rtfeFg1D+QHp/5VpjcP6pYWrJF+dA//9nbRo/P5T8CSAOJ1LPhP5fOswREGek/zOREXZdj1j8g1ez002nXP6TFMO3vmss/5GQwVzTO5D+5bFwLFkvkP61ZygXZhuY/G5QzS4iM2T+gBUcpuWXZPzqp6fNN8tI/PA054Ls54z97VC9xI03jPxqtGke5e9I/GFn8u4aW6D904CZ/PVfcP7wpWWgjwuY/zVQLD+WlzT8OZz9GYdThP2wGW1/ExdM/nR1kWnen6T+VLmIsUOvYPxP9ONwdHeY/00MGxSJiyT//v6HvV4rjP5k9PmvCF9U/mlj7U5LZ6T+cBFD1HjXXP324M9AedOU/vZ6s37aZyD/91CqLcGXkP47WGdiRZ+U/NqHg3Ny40D8g1P2f+DviP3YBclvcMNU/+V01nZGj5z9WBqrLDojbP/DsC1Qm0sM/xqOoebRX5z/rohoyxbPjPxAzvGp2C+s/BBUtDJdQ0T++aHCndZjYP64qdy9BHMo/JE3VCCNY6D/nJxcB0CDhP+rjx7/veOk/jcxEDHSfzj/JXncJYL7dP4Xuk7kJE+I/u6xgOywX0z9YfOuPV2HkP4nRfZjs2ds/7tcO4ml05j/ltc7rUD3XP15dBvJde6g/sGqv/Vgs6j+Qz1N98UvkP3TIniBKeO4/hQ/ZN5xOxz92D/4QHWjXP08CStB/UK8/8SCii/Bq6D+NZpSeCKDlPySOugL4Cu4/ZjV00D1Uzj954XzO7r/UP8v8vRp4g8k/aarsJ4P05z+0Cei+nqrhP8yAUPkhn+k/xgelr/kW0D8tm9WNwqrcP2LQZ89YJNA/d4tz2qMr5z+wv8yTMMLgP84XTJjT7ec/qEWXSrio0T82LwzknnveP9YGuZD39sk/I+zQJjUr5j+MLPPxDVfjP99sdydCguk/4YSpyZWp0z97Vb8n5FHZP5JZ41ojI+Y/l2PDo2G43T+T3wUwQgHWP21NBmK5udM/fiXxM88j4T9/58/tXv/kP5vuHsEITsA/AAAAAAAA8D+0ets0+tjXP6Nyd8997Os/AAAAAAAAAADvGWXrghPkP5c9ZLZFtOM/ygyHU7bD3j+574iQqNPZP2nhtZJ0l9g/xdtM2ySe4D9tX469KxbjP1DsKHNSKKY/Xq8xehce7T/akc26YX/hP4FD2/B6ne4/k4na7EQPtz9jtgCTPAHdP3URPbWA2rc/TCstpNK17D8HVRlR207gPxyMF+mvBO0/8heQ3GpRuj+IBHNpSWLfP65/DN9UZLs/LaJIBh266j/daFT5VtnhP1Oe3WN1k+w/eTDa5YsXxT/b3PwYUk3cP6ESHUjm7dA/YDXhyDGi6z89f+KutM3XP/f21+cMiec/pCsVDDl3wT+sl2GuJRnkPxK90rgU1s8/vOqV7gfG6T+cyCxP5IjcPwd/itF6Cug/NVZCdeDnyD99njLbjbvhPx7KWHcb9c0/VAH0OjHE6z/K4a+kDH3ZP8FNEC65gug/3LMsEzvvwD9k5nqzeUHjP0RyB4ZF2dc/CiYB3DUJ5T8NPhjYRxTePygez0JdE+Q/f2KjU5Tt1T9DuMYZ3PXgPxYYHD0rJNc/F8XeiiSW5D8Sdbg5ia/fPz/LRGfqbeQ/ZCTo9bbT1j8My7VoOyjgPzEEJdzPd9g/myOPYP1j5j9i/oB8OcDaPzNVwBcYxOM/XLmuVgU40z8YWJJH45/iP5QXaZjGtOA/6wNySVbg4z9FA5/WvdXWP2t/09pylt4/u6bBeFM/2D+mVYMaIZXkP3c7IsM6oOA/6Z5W/DlN5T98gz8XFCXUP6U3YYWKv94/wx7RBoxl1T+JFTP6de3lP43dzUMvmOI/RSwv12bX4j8YMBgoyyDVP3nzCYShz9o/B1ZHXTJR2j89v8Zxmm/lPz5OzUwk4N4/qz9GOGRN4j8tBWktEYXcPykwbN/tj+A/PS8Zmzdl2z+1VB5vd73hPxkh5JtFzOE/kADshDHY4T9JuSFHELfYP2Ns3dN0Z9w/dK3NAZ1P3D+k+kHid6TjP5qspZX4p98/tXlZveBN5D8eTzE9QrzXP0Yvv7oDLOA/J7vykD5k1z+7Lzrn3iHkP777n7Ze18M/ZW1Lqx2+6j/OYacxBEzgP1wvF1IoCus/kktsgokHxT+MR9Wn92ffP5sRryZGMsY/vm5vn+SZ6D/hu+b2gtnhP5o7VHZuc+o/KEbcsW2YzT/SNtgd+kzcP14XqJEikc8/VQgUoZ/J6D/jLFgfJKTeP3UoVVu3G+g/2peseoHZzD/XwCb27a3gP+rO8xzHGtA/zvpJGGad5j9VyXjvMFXhP9SYbH2c8uc/8go55zPF0j/uG7QsnlXdP5Y9Vt1kb8s/PCjogvxb5j8EFqj9JcjiP+WeacgmJOk/FrD8EQdI0z+IglUQtG/aP8OEJ/Kmpck/+FW1CVKz6D/AnZ8+QOPgPxpNNUOWluk/P6nECLgyzT+RnlyLfzneP7U6WvKuN7g/IoimP64K6j/pK+aBV+7iP/fmcyEK+ew/uZn8L0fVxz/DVtkHUSPaP1wX/8yZgrs/3g3I8cit5z/cbeI03+HkP2BLH8asj+w/0eQ8NG6k0D/b0uChQTzWPyjVRvylguQ/teABq/ws6D+/jnY8DoO6P0oEGBO0+tY/Wzb1Ug1Mzz9tAH9Qnq/sP0PSTOA3deM/iN0Sczeq6j8oymXVTwmuPxAKDEuQFdk/34m0MyJXxT+q0WgCax/uP1o/Ef4u6ME/bFhBjxVn7D+vUeB4vj3eP/I7OUz0hes/9ENns1PHvD8hOKDIIOHgP2hUIHWhp+g/AY58dyBL2j8rIBxYjGXUP4avGFt6Yc0/SJAUym/a4j81x8TZOc3lP77tRU3UyOc/ljZZVjyi1j+A1bvjDszZPxIlQX1XbtA//zum2uGu5D+I7PST+BnjP1dTB+JKhNI/nq3l2kn66T+wvM2LJofZP53W4praveY/qwJmk9gWyD/y+Ou/bDzjP14jSMzdGsQ/SO6lVe6/6D+LPoixXTniP2931JhI+eo/CwBlqEYAzT9/MZWoRI3bP1hjBgFGyK8/sgKTdQDY6T+3C/pvfCvkP1qavLd7A+4/W/ZNWf6fyD8ml7ErB6nXPzIDFcTZ9ck/dxlQb4eh5z8X9hJBA+HhPzS/+o6Jguk/pyneIPG80D9nwn+J+T3cP6QXfLg6TOU/cjcSZqaL3D8Fbe9Jz9vYP0x/rZqKZ9U/j7vJ0iy64T/HINtgGJLjP9UMTI34/rc/hUFAzeNU7D/qusjNPKvgP61QZAYhAO0/K2b3k+FYvT+BTo9uhqneP4nYqhybQc0/NBBNtcBr6z/SlcaerofaP3H4ekSZr+g/UcBlWv1Qwj9hjG+2KLziP9UJ028oAOA/gfd9K6//3z9OTdTJRDrZPxsIuv8B0+Q/9tT8A84f3T+jsOig3WLjP12eMQz8WdY/0GzUAxlw4T88ZDU1Ae/gP1qFkTi6wuM/eSRPkImc1j8a5jqh/SHeP+GjgpqLetg/C0WrPbux5D/7tnH1FyzgP2XsZ4PZy+I/qA6ykR4Q2j8znUAg0KffP8nV1QRNaNo/9s/5vPD34j9mVrsDaeLEP3WqWD6wQek//qiiN6+F4T+uqvfKZcfqP05XNzY/+co/llxgnKH03D/D+5H0QBXMP/xGqmVyEeg/4sr1kjfp4D9ar5rCr/roP0GdU2g2us8/0hi65ZAt3j84L//rMJzIP3WGZ0Gx4uc/kz7NoT324T95tObQ89jpP6lPr3ydOtA/bjELyIQT3D8b2F5yyO2+P404H2OHveg/0c+90Lpk4z9IU3PxRiLsP+oeHaPiCc0/9bwCXoo22T+AeH3PZQy7P5eZ293RQuk/6Zckv5tb4z86f89Fc57sP89Sjoe49Mo/v35cjchI2T+c70iiVgDgP/UrksZS/98/oQd93JJm4D/QKY8GsFLaPxcpAbApcOI/TZ+rUtoy3z9iQosCqNbiP2Vco6usH9s/",
          "dtype": "f8"
         },
         "y": {
          "bdata": "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",
          "dtype": "f8"
         },
         "z": {
          "bdata": "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",
          "dtype": "f8"
         }
        }
       ],
       "layout": {
        "height": 800,
        "scene": {
         "xaxis": {
          "title": {
           "text": "X (normalized)"
          }
         },
         "yaxis": {
          "title": {
           "text": "Y (normalized)"
          }
         },
         "zaxis": {
          "title": {
           "text": "Z (normalized)"
          }
         }
        },
        "template": {
         "data": {
          "bar": [
           {
            "error_x": {
             "color": "#2a3f5f"
            },
            "error_y": {
             "color": "#2a3f5f"
            },
            "marker": {
             "line": {
              "color": "#E5ECF6",
              "width": 0.5
             },
             "pattern": {
              "fillmode": "overlay",
              "size": 10,
              "solidity": 0.2
             }
            },
            "type": "bar"
           }
          ],
          "barpolar": [
           {
            "marker": {
             "line": {
              "color": "#E5ECF6",
              "width": 0.5
             },
             "pattern": {
              "fillmode": "overlay",
              "size": 10,
              "solidity": 0.2
             }
            },
            "type": "barpolar"
           }
          ],
          "carpet": [
           {
            "aaxis": {
             "endlinecolor": "#2a3f5f",
             "gridcolor": "white",
             "linecolor": "white",
             "minorgridcolor": "white",
             "startlinecolor": "#2a3f5f"
            },
            "baxis": {
             "endlinecolor": "#2a3f5f",
             "gridcolor": "white",
             "linecolor": "white",
             "minorgridcolor": "white",
             "startlinecolor": "#2a3f5f"
            },
            "type": "carpet"
           }
          ],
          "choropleth": [
           {
            "colorbar": {
             "outlinewidth": 0,
             "ticks": ""
            },
            "type": "choropleth"
           }
          ],
          "contour": [
           {
            "colorbar": {
             "outlinewidth": 0,
             "ticks": ""
            },
            "colorscale": [
             [
              0,
              "#0d0887"
             ],
             [
              0.1111111111111111,
              "#46039f"
             ],
             [
              0.2222222222222222,
              "#7201a8"
             ],
             [
              0.3333333333333333,
              "#9c179e"
             ],
             [
              0.4444444444444444,
              "#bd3786"
             ],
             [
              0.5555555555555556,
              "#d8576b"
             ],
             [
              0.6666666666666666,
              "#ed7953"
             ],
             [
              0.7777777777777778,
              "#fb9f3a"
             ],
             [
              0.8888888888888888,
              "#fdca26"
             ],
             [
              1,
              "#f0f921"
             ]
            ],
            "type": "contour"
           }
          ],
          "contourcarpet": [
           {
            "colorbar": {
             "outlinewidth": 0,
             "ticks": ""
            },
            "type": "contourcarpet"
           }
          ],
          "heatmap": [
           {
            "colorbar": {
             "outlinewidth": 0,
             "ticks": ""
            },
            "colorscale": [
             [
              0,
              "#0d0887"
             ],
             [
              0.1111111111111111,
              "#46039f"
             ],
             [
              0.2222222222222222,
              "#7201a8"
             ],
             [
              0.3333333333333333,
              "#9c179e"
             ],
             [
              0.4444444444444444,
              "#bd3786"
             ],
             [
              0.5555555555555556,
              "#d8576b"
             ],
             [
              0.6666666666666666,
              "#ed7953"
             ],
             [
              0.7777777777777778,
              "#fb9f3a"
             ],
             [
              0.8888888888888888,
              "#fdca26"
             ],
             [
              1,
              "#f0f921"
             ]
            ],
            "type": "heatmap"
           }
          ],
          "histogram": [
           {
            "marker": {
             "pattern": {
              "fillmode": "overlay",
              "size": 10,
              "solidity": 0.2
             }
            },
            "type": "histogram"
           }
          ],
          "histogram2d": [
           {
            "colorbar": {
             "outlinewidth": 0,
             "ticks": ""
            },
            "colorscale": [
             [
              0,
              "#0d0887"
             ],
             [
              0.1111111111111111,
              "#46039f"
             ],
             [
              0.2222222222222222,
              "#7201a8"
             ],
             [
              0.3333333333333333,
              "#9c179e"
             ],
             [
              0.4444444444444444,
              "#bd3786"
             ],
             [
              0.5555555555555556,
              "#d8576b"
             ],
             [
              0.6666666666666666,
              "#ed7953"
             ],
             [
              0.7777777777777778,
              "#fb9f3a"
             ],
             [
              0.8888888888888888,
              "#fdca26"
             ],
             [
              1,
              "#f0f921"
             ]
            ],
            "type": "histogram2d"
           }
          ],
          "histogram2dcontour": [
           {
            "colorbar": {
             "outlinewidth": 0,
             "ticks": ""
            },
            "colorscale": [
             [
              0,
              "#0d0887"
             ],
             [
              0.1111111111111111,
              "#46039f"
             ],
             [
              0.2222222222222222,
              "#7201a8"
             ],
             [
              0.3333333333333333,
              "#9c179e"
             ],
             [
              0.4444444444444444,
              "#bd3786"
             ],
             [
              0.5555555555555556,
              "#d8576b"
             ],
             [
              0.6666666666666666,
              "#ed7953"
             ],
             [
              0.7777777777777778,
              "#fb9f3a"
             ],
             [
              0.8888888888888888,
              "#fdca26"
             ],
             [
              1,
              "#f0f921"
             ]
            ],
            "type": "histogram2dcontour"
           }
          ],
          "mesh3d": [
           {
            "colorbar": {
             "outlinewidth": 0,
             "ticks": ""
            },
            "type": "mesh3d"
           }
          ],
          "parcoords": [
           {
            "line": {
             "colorbar": {
              "outlinewidth": 0,
              "ticks": ""
             }
            },
            "type": "parcoords"
           }
          ],
          "pie": [
           {
            "automargin": true,
            "type": "pie"
           }
          ],
          "scatter": [
           {
            "fillpattern": {
             "fillmode": "overlay",
             "size": 10,
             "solidity": 0.2
            },
            "type": "scatter"
           }
          ],
          "scatter3d": [
           {
            "line": {
             "colorbar": {
              "outlinewidth": 0,
              "ticks": ""
             }
            },
            "marker": {
             "colorbar": {
              "outlinewidth": 0,
              "ticks": ""
             }
            },
            "type": "scatter3d"
           }
          ],
          "scattercarpet": [
           {
            "marker": {
             "colorbar": {
              "outlinewidth": 0,
              "ticks": ""
             }
            },
            "type": "scattercarpet"
           }
          ],
          "scattergeo": [
           {
            "marker": {
             "colorbar": {
              "outlinewidth": 0,
              "ticks": ""
             }
            },
            "type": "scattergeo"
           }
          ],
          "scattergl": [
           {
            "marker": {
             "colorbar": {
              "outlinewidth": 0,
              "ticks": ""
             }
            },
            "type": "scattergl"
           }
          ],
          "scattermap": [
           {
            "marker": {
             "colorbar": {
              "outlinewidth": 0,
              "ticks": ""
             }
            },
            "type": "scattermap"
           }
          ],
          "scattermapbox": [
           {
            "marker": {
             "colorbar": {
              "outlinewidth": 0,
              "ticks": ""
             }
            },
            "type": "scattermapbox"
           }
          ],
          "scatterpolar": [
           {
            "marker": {
             "colorbar": {
              "outlinewidth": 0,
              "ticks": ""
             }
            },
            "type": "scatterpolar"
           }
          ],
          "scatterpolargl": [
           {
            "marker": {
             "colorbar": {
              "outlinewidth": 0,
              "ticks": ""
             }
            },
            "type": "scatterpolargl"
           }
          ],
          "scatterternary": [
           {
            "marker": {
             "colorbar": {
              "outlinewidth": 0,
              "ticks": ""
             }
            },
            "type": "scatterternary"
           }
          ],
          "surface": [
           {
            "colorbar": {
             "outlinewidth": 0,
             "ticks": ""
            },
            "colorscale": [
             [
              0,
              "#0d0887"
             ],
             [
              0.1111111111111111,
              "#46039f"
             ],
             [
              0.2222222222222222,
              "#7201a8"
             ],
             [
              0.3333333333333333,
              "#9c179e"
             ],
             [
              0.4444444444444444,
              "#bd3786"
             ],
             [
              0.5555555555555556,
              "#d8576b"
             ],
             [
              0.6666666666666666,
              "#ed7953"
             ],
             [
              0.7777777777777778,
              "#fb9f3a"
             ],
             [
              0.8888888888888888,
              "#fdca26"
             ],
             [
              1,
              "#f0f921"
             ]
            ],
            "type": "surface"
           }
          ],
          "table": [
           {
            "cells": {
             "fill": {
              "color": "#EBF0F8"
             },
             "line": {
              "color": "white"
             }
            },
            "header": {
             "fill": {
              "color": "#C8D4E3"
             },
             "line": {
              "color": "white"
             }
            },
            "type": "table"
           }
          ]
         },
         "layout": {
          "annotationdefaults": {
           "arrowcolor": "#2a3f5f",
           "arrowhead": 0,
           "arrowwidth": 1
          },
          "autotypenumbers": "strict",
          "coloraxis": {
           "colorbar": {
            "outlinewidth": 0,
            "ticks": ""
           }
          },
          "colorscale": {
           "diverging": [
            [
             0,
             "#8e0152"
            ],
            [
             0.1,
             "#c51b7d"
            ],
            [
             0.2,
             "#de77ae"
            ],
            [
             0.3,
             "#f1b6da"
            ],
            [
             0.4,
             "#fde0ef"
            ],
            [
             0.5,
             "#f7f7f7"
            ],
            [
             0.6,
             "#e6f5d0"
            ],
            [
             0.7,
             "#b8e186"
            ],
            [
             0.8,
             "#7fbc41"
            ],
            [
             0.9,
             "#4d9221"
            ],
            [
             1,
             "#276419"
            ]
           ],
           "sequential": [
            [
             0,
             "#0d0887"
            ],
            [
             0.1111111111111111,
             "#46039f"
            ],
            [
             0.2222222222222222,
             "#7201a8"
            ],
            [
             0.3333333333333333,
             "#9c179e"
            ],
            [
             0.4444444444444444,
             "#bd3786"
            ],
            [
             0.5555555555555556,
             "#d8576b"
            ],
            [
             0.6666666666666666,
             "#ed7953"
            ],
            [
             0.7777777777777778,
             "#fb9f3a"
            ],
            [
             0.8888888888888888,
             "#fdca26"
            ],
            [
             1,
             "#f0f921"
            ]
           ],
           "sequentialminus": [
            [
             0,
             "#0d0887"
            ],
            [
             0.1111111111111111,
             "#46039f"
            ],
            [
             0.2222222222222222,
             "#7201a8"
            ],
            [
             0.3333333333333333,
             "#9c179e"
            ],
            [
             0.4444444444444444,
             "#bd3786"
            ],
            [
             0.5555555555555556,
             "#d8576b"
            ],
            [
             0.6666666666666666,
             "#ed7953"
            ],
            [
             0.7777777777777778,
             "#fb9f3a"
            ],
            [
             0.8888888888888888,
             "#fdca26"
            ],
            [
             1,
             "#f0f921"
            ]
           ]
          },
          "colorway": [
           "#636efa",
           "#EF553B",
           "#00cc96",
           "#ab63fa",
           "#FFA15A",
           "#19d3f3",
           "#FF6692",
           "#B6E880",
           "#FF97FF",
           "#FECB52"
          ],
          "font": {
           "color": "#2a3f5f"
          },
          "geo": {
           "bgcolor": "white",
           "lakecolor": "white",
           "landcolor": "#E5ECF6",
           "showlakes": true,
           "showland": true,
           "subunitcolor": "white"
          },
          "hoverlabel": {
           "align": "left"
          },
          "hovermode": "closest",
          "mapbox": {
           "style": "light"
          },
          "paper_bgcolor": "white",
          "plot_bgcolor": "#E5ECF6",
          "polar": {
           "angularaxis": {
            "gridcolor": "white",
            "linecolor": "white",
            "ticks": ""
           },
           "bgcolor": "#E5ECF6",
           "radialaxis": {
            "gridcolor": "white",
            "linecolor": "white",
            "ticks": ""
           }
          },
          "scene": {
           "xaxis": {
            "backgroundcolor": "#E5ECF6",
            "gridcolor": "white",
            "gridwidth": 2,
            "linecolor": "white",
            "showbackground": true,
            "ticks": "",
            "zerolinecolor": "white"
           },
           "yaxis": {
            "backgroundcolor": "#E5ECF6",
            "gridcolor": "white",
            "gridwidth": 2,
            "linecolor": "white",
            "showbackground": true,
            "ticks": "",
            "zerolinecolor": "white"
           },
           "zaxis": {
            "backgroundcolor": "#E5ECF6",
            "gridcolor": "white",
            "gridwidth": 2,
            "linecolor": "white",
            "showbackground": true,
            "ticks": "",
            "zerolinecolor": "white"
           }
          },
          "shapedefaults": {
           "line": {
            "color": "#2a3f5f"
           }
          },
          "ternary": {
           "aaxis": {
            "gridcolor": "white",
            "linecolor": "white",
            "ticks": ""
           },
           "baxis": {
            "gridcolor": "white",
            "linecolor": "white",
            "ticks": ""
           },
           "bgcolor": "#E5ECF6",
           "caxis": {
            "gridcolor": "white",
            "linecolor": "white",
            "ticks": ""
           }
          },
          "title": {
           "x": 0.05
          },
          "xaxis": {
           "automargin": true,
           "gridcolor": "white",
           "linecolor": "white",
           "ticks": "",
           "title": {
            "standoff": 15
           },
           "zerolinecolor": "white",
           "zerolinewidth": 2
          },
          "yaxis": {
           "automargin": true,
           "gridcolor": "white",
           "linecolor": "white",
           "ticks": "",
           "title": {
            "standoff": 15
           },
           "zerolinecolor": "white",
           "zerolinewidth": 2
          }
         }
        },
        "title": {
         "text": "Atomic Force Normalized Error"
        }
       }
      }
     },
     "metadata": {},
     "output_type": "display_data"
    }
   ],
   "source": [
    "import plotly.graph_objects as go\n",
    "\n",
    "fig = go.Figure(data=[go.Scatter3d(\n",
    "    x=positions_normalized[:, 0],\n",
    "    y=positions_normalized[:, 1],\n",
    "    z=positions_normalized[:, 2],\n",
    "    mode='markers',\n",
    "    marker=dict(\n",
    "        size=6,\n",
    "        color=error_ratio,\n",
    "        colorscale='plasma',\n",
    "        opacity=0.8,\n",
    "        colorbar=dict(title=\"Normalized Error\")\n",
    "    )\n",
    ")])\n",
    "\n",
    "fig.update_layout(\n",
    "    title=\"Atomic Force Normalized Error\",\n",
    "    height=800,\n",
    "    scene=dict(\n",
    "        xaxis_title=\"X (normalized)\",\n",
    "        yaxis_title=\"Y (normalized)\",\n",
    "        zaxis_title=\"Z (normalized)\"\n",
    "    )\n",
    ")\n",
    "\n",
    "fig.show()"
   ]
  }
 ],
 "metadata": {
  "kernelspec": {
   "display_name": "orb-partitioning",
   "language": "python",
   "name": "python3"
  },
  "language_info": {
   "codemirror_mode": {
    "name": "ipython",
    "version": 3
   },
   "file_extension": ".py",
   "mimetype": "text/x-python",
   "name": "python",
   "nbconvert_exporter": "python",
   "pygments_lexer": "ipython3",
   "version": "3.10.16"
  }
 },
 "nbformat": 4,
 "nbformat_minor": 2
}
