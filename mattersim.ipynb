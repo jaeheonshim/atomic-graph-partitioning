{
 "cells": [
  {
   "cell_type": "markdown",
   "metadata": {},
   "source": [
    "# Extended Subgraph Partitioning (mattersim)"
   ]
  },
  {
   "cell_type": "code",
   "execution_count": 107,
   "metadata": {
    "tags": [
     "parameters"
    ]
   },
   "outputs": [],
   "source": [
    "# Papermill parameters\n",
    "\n",
    "supercell_size = 3\n",
    "supercell_scaling = [[supercell_size, 0, 0], [0, supercell_size, 0], [0, 0, supercell_size]]\n",
    "desired_partitions = 20\n",
    "num_message_passing = 3"
   ]
  },
  {
   "cell_type": "code",
   "execution_count": 108,
   "metadata": {},
   "outputs": [],
   "source": [
    "# Imports\n",
    "\n",
    "import scrapbook as sb\n",
    "\n",
    "import numpy as np\n",
    "import torch\n",
    "\n",
    "from tqdm import tqdm\n",
    "\n",
    "from partitioner import part_graph_extended\n",
    "import networkx as nx"
   ]
  },
  {
   "cell_type": "markdown",
   "metadata": {},
   "source": [
    "## Partitioning Atoms"
   ]
  },
  {
   "cell_type": "markdown",
   "metadata": {},
   "source": [
    "Loading a sample atomic dataset and converting it into a graph"
   ]
  },
  {
   "cell_type": "code",
   "execution_count": 109,
   "metadata": {},
   "outputs": [
    {
     "data": {
      "application/scrapbook.scrap.json+json": {
       "data": 426,
       "encoder": "json",
       "name": "num_atoms",
       "version": 1
      }
     },
     "metadata": {
      "scrapbook": {
       "data": true,
       "display": false,
       "name": "num_atoms"
      }
     },
     "output_type": "display_data"
    },
    {
     "name": "stdout",
     "output_type": "stream",
     "text": [
      "Number of atoms 426\n"
     ]
    }
   ],
   "source": [
    "from ase.io import read\n",
    "from ase.build import make_supercell\n",
    "from mattersim.datasets.utils.convertor import GraphConvertor\n",
    "from torch_geometric.utils import to_networkx\n",
    " \n",
    "atoms = read(\"datasets/H2O.xyz\")\n",
    "atoms = make_supercell(atoms, supercell_scaling)\n",
    "\n",
    "converter = GraphConvertor(\"m3gnet\", 5.0, True, 4.0)\n",
    "\n",
    "length = len(atoms)\n",
    "atom_graph = converter.convert(atoms.copy(), None, None, None)\n",
    "\n",
    "G = to_networkx(atom_graph)\n",
    "\n",
    "sb.glue(\"num_atoms\", len(atoms))\n",
    "print(\"Number of atoms\", len(atoms))"
   ]
  },
  {
   "cell_type": "markdown",
   "metadata": {},
   "source": [
    "Partition the computational graph into the number of desired partitions with the specified neighborhood distance"
   ]
  },
  {
   "cell_type": "code",
   "execution_count": 110,
   "metadata": {},
   "outputs": [
    {
     "name": "stdout",
     "output_type": "stream",
     "text": [
      "Created 20 partitions\n",
      "Average partition size: 426.0\n"
     ]
    }
   ],
   "source": [
    "partitions, extended_partitions = part_graph_extended(G, desired_partitions, num_message_passing)\n",
    "\n",
    "num_partitions = len(partitions)\n",
    "\n",
    "print(f\"Created {num_partitions} partitions\")\n",
    "print(f\"Average partition size: {sum(len(x) for x in extended_partitions) / num_partitions}\")"
   ]
  },
  {
   "cell_type": "markdown",
   "metadata": {},
   "source": [
    "Create the ASE atoms object for each partition"
   ]
  },
  {
   "cell_type": "code",
   "execution_count": 111,
   "metadata": {},
   "outputs": [],
   "source": [
    "from ase import Atoms\n",
    "\n",
    "partitioned_atoms = []\n",
    "indices_map = [] # Table mapping each atom in each partition back to its index in the original atoms object\n",
    "\n",
    "for part in extended_partitions:\n",
    "    current_partition = []\n",
    "    current_indices_map = []\n",
    "    for atom_index in part:\n",
    "        current_partition.append(atoms[atom_index])\n",
    "        current_indices_map.append(atoms[atom_index].index)\n",
    "\n",
    "    partitioned_atoms.append(Atoms(current_partition, cell=atoms.cell, pbc=atoms.pbc)) # It's important to pass atoms.cell and atoms.pbc here\n",
    "    indices_map.append(current_indices_map)"
   ]
  },
  {
   "cell_type": "code",
   "execution_count": 22,
   "metadata": {},
   "outputs": [
    {
     "data": {
      "text/plain": [
       "Atoms(symbols='H128O64', pbc=True, cell=[8.65320864, 15.05202152, 14.13541336])"
      ]
     },
     "execution_count": 112,
     "metadata": {},
     "output_type": "execute_result"
    }
   ],
   "source": [
    "reconstructed_atoms = []\n",
    "for atom_index in range(len(atoms)):\n",
    "    reconstructed_atoms.append(atoms[atom_index])\n",
    "reconstructed_atoms = Atoms(reconstructed_atoms, cell=atoms.cell, pbc=atoms.pbc)\n",
    "\n",
    "reconstructed_atoms"
   ]
  },
  {
   "cell_type": "markdown",
   "metadata": {},
   "source": [
    "## Inference"
   ]
  },
  {
   "cell_type": "code",
   "execution_count": 113,
   "metadata": {},
   "outputs": [],
   "source": [
    "device = \"cuda\" if torch.cuda.is_available() else \"cpu\""
   ]
  },
  {
   "cell_type": "markdown",
   "metadata": {},
   "source": [
    "I need to modify the M3Gnet model so that the node features can be intercepted before they are passed into the final MLP"
   ]
  },
  {
   "cell_type": "code",
   "execution_count": 114,
   "metadata": {},
   "outputs": [],
   "source": [
    "from typing import Dict\n",
    "\n",
    "import os\n",
    "\n",
    "from mattersim.forcefield.m3gnet.m3gnet import M3Gnet\n",
    "from torch_runstats.scatter import scatter\n",
    "from mattersim.utils.download_utils import download_checkpoint\n",
    "\n",
    "class M3GnetModified(M3Gnet):\n",
    "    def forward(\n",
    "        self,\n",
    "        input: Dict[str, torch.Tensor],\n",
    "        dataset_idx: int = -1,\n",
    "    ) -> torch.Tensor:\n",
    "        # Exact data from input_dictionary\n",
    "        pos = input[\"atom_pos\"]\n",
    "        cell = input[\"cell\"]\n",
    "        pbc_offsets = input[\"pbc_offsets\"].float()\n",
    "        atom_attr = input[\"atom_attr\"]\n",
    "        edge_index = input[\"edge_index\"].long()\n",
    "        three_body_indices = input[\"three_body_indices\"].long()\n",
    "        num_three_body = input[\"num_three_body\"]\n",
    "        num_bonds = input[\"num_bonds\"]\n",
    "        num_triple_ij = input[\"num_triple_ij\"]\n",
    "        num_atoms = input[\"num_atoms\"]\n",
    "        num_graphs = input[\"num_graphs\"]\n",
    "        batch = input[\"batch\"]\n",
    "\n",
    "        # -------------------------------------------------------------#\n",
    "        cumsum = torch.cumsum(num_bonds, dim=0) - num_bonds\n",
    "        index_bias = torch.repeat_interleave(  # noqa: F501\n",
    "            cumsum, num_three_body, dim=0\n",
    "        ).unsqueeze(-1)\n",
    "        three_body_indices = three_body_indices + index_bias\n",
    "\n",
    "        # === Refer to the implementation of M3GNet,        ===\n",
    "        # === we should re-compute the following attributes ===\n",
    "        # edge_length, edge_vector(optional), triple_edge_length, theta_jik\n",
    "        atoms_batch = torch.repeat_interleave(repeats=num_atoms)\n",
    "        edge_batch = atoms_batch[edge_index[0]]\n",
    "        edge_vector = pos[edge_index[0]] - (\n",
    "            pos[edge_index[1]]\n",
    "            + torch.einsum(\"bi, bij->bj\", pbc_offsets, cell[edge_batch])\n",
    "        )\n",
    "        edge_length = torch.linalg.norm(edge_vector, dim=1)\n",
    "        vij = edge_vector[three_body_indices[:, 0].clone()]\n",
    "        vik = edge_vector[three_body_indices[:, 1].clone()]\n",
    "        rij = edge_length[three_body_indices[:, 0].clone()]\n",
    "        rik = edge_length[three_body_indices[:, 1].clone()]\n",
    "        cos_jik = torch.sum(vij * vik, dim=1) / (rij * rik)\n",
    "        # eps = 1e-7 avoid nan in torch.acos function\n",
    "        cos_jik = torch.clamp(cos_jik, min=-1.0 + 1e-7, max=1.0 - 1e-7)\n",
    "        triple_edge_length = rik.view(-1)\n",
    "        edge_length = edge_length.unsqueeze(-1)\n",
    "        atomic_numbers = atom_attr.squeeze(1).long()\n",
    "\n",
    "        # featurize\n",
    "        atom_attr = self.atom_embedding(self.one_hot_atoms(atomic_numbers))\n",
    "        edge_attr = self.rbf(edge_length.view(-1))\n",
    "        edge_attr_zero = edge_attr  # e_ij^0\n",
    "        edge_attr = self.edge_encoder(edge_attr)\n",
    "        three_basis = self.sbf(triple_edge_length, torch.acos(cos_jik))\n",
    "\n",
    "        # Main Loop\n",
    "        for idx, conv in enumerate(self.graph_conv):\n",
    "            atom_attr, edge_attr = conv(\n",
    "                atom_attr,\n",
    "                edge_attr,\n",
    "                edge_attr_zero,\n",
    "                edge_index,\n",
    "                three_basis,\n",
    "                three_body_indices,\n",
    "                edge_length,\n",
    "                num_bonds,\n",
    "                num_triple_ij,\n",
    "                num_atoms,\n",
    "            )\n",
    "\n",
    "        return atom_attr  # [batch_size]\n",
    "    \n",
    "def load_modified_from_checkpoint(\n",
    "    load_path: str = None,\n",
    "    *,\n",
    "    device: str = \"cuda\" if torch.cuda.is_available() else \"cpu\",\n",
    "):\n",
    "    checkpoint_folder = os.path.expanduser(\"~/.local/mattersim/pretrained_models\")\n",
    "    os.makedirs(checkpoint_folder, exist_ok=True)\n",
    "    if (\n",
    "        load_path is None\n",
    "        or load_path.lower() == \"mattersim-v1.0.0-1m.pth\"\n",
    "        or load_path.lower() == \"mattersim-v1.0.0-1m\"\n",
    "    ):\n",
    "        load_path = os.path.join(checkpoint_folder, \"mattersim-v1.0.0-1M.pth\")\n",
    "        if not os.path.exists(load_path):\n",
    "            print(\n",
    "                \"The pre-trained model is not found locally, \"\n",
    "                \"attempting to download it from the server.\"\n",
    "            )\n",
    "            download_checkpoint(\n",
    "                \"mattersim-v1.0.0-1M.pth\", save_folder=checkpoint_folder\n",
    "            )\n",
    "        print(f\"Loading the pre-trained {os.path.basename(load_path)} model\")\n",
    "    elif (\n",
    "        load_path.lower() == \"mattersim-v1.0.0-5m.pth\"\n",
    "        or load_path.lower() == \"mattersim-v1.0.0-5m\"\n",
    "    ):\n",
    "        load_path = os.path.join(checkpoint_folder, \"mattersim-v1.0.0-5M.pth\")\n",
    "        if not os.path.exists(load_path):\n",
    "            print(\n",
    "                \"The pre-trained model is not found locally, \"\n",
    "                \"attempting to download it from the server.\"\n",
    "            )\n",
    "            download_checkpoint(\n",
    "                \"mattersim-v1.0.0-5M.pth\", save_folder=checkpoint_folder\n",
    "            )\n",
    "        print(f\"Loading the pre-trained {os.path.basename(load_path)} model\")\n",
    "    else:\n",
    "        print(\"Loading the model from %s\" % load_path)\n",
    "    assert os.path.exists(load_path), f\"Model file {load_path} not found\"\n",
    "\n",
    "    checkpoint = torch.load(load_path, map_location=device)\n",
    "\n",
    "    model = M3GnetModified(device=device, **checkpoint[\"model_args\"]).to(device)\n",
    "    model.load_state_dict(checkpoint[\"model\"], strict=False)\n",
    "\n",
    "    model.eval()\n",
    "\n",
    "    return model"
   ]
  },
  {
   "cell_type": "code",
   "execution_count": 25,
   "metadata": {},
   "outputs": [
    {
     "name": "stdout",
     "output_type": "stream",
     "text": [
      "Loading the pre-trained mattersim-v1.0.0-1M.pth model\n"
     ]
    },
    {
     "name": "stderr",
     "output_type": "stream",
     "text": [
      "/tmp/ipykernel_35081/1315528432.py:121: FutureWarning: You are using `torch.load` with `weights_only=False` (the current default value), which uses the default pickle module implicitly. It is possible to construct malicious pickle data which will execute arbitrary code during unpickling (See https://github.com/pytorch/pytorch/blob/main/SECURITY.md#untrusted-models for more details). In a future release, the default value for `weights_only` will be flipped to `True`. This limits the functions that could be executed during unpickling. Arbitrary objects will no longer be allowed to be loaded via this mode unless they are explicitly allowlisted by the user via `torch.serialization.add_safe_globals`. We recommend you start setting `weights_only=True` for any use case where you don't have full control of the loaded file. Please open an issue on GitHub for any issues related to this experimental feature.\n",
      "  checkpoint = torch.load(load_path, map_location=device)\n"
     ]
    }
   ],
   "source": [
    "model = load_modified_from_checkpoint(device=device)"
   ]
  },
  {
   "cell_type": "markdown",
   "metadata": {},
   "source": [
    "Run inference on each partition"
   ]
  },
  {
   "cell_type": "code",
   "execution_count": 26,
   "metadata": {},
   "outputs": [
    {
     "name": "stderr",
     "output_type": "stream",
     "text": [
      "100%|██████████| 20/20 [00:05<00:00,  3.77it/s]\n"
     ]
    }
   ],
   "source": [
    "from mattersim.forcefield.potential import batch_to_dict\n",
    "from torch_geometric.loader import DataLoader\n",
    "\n",
    "aggregated_atomic_numbers = torch.zeros((len(atoms), 1), dtype=torch.float32, device=device)\n",
    "aggregated_features = torch.zeros((len(atoms), 128), dtype=torch.float32, device=device)\n",
    "\n",
    "dataloader = DataLoader([converter.convert(part.copy(), None, None, None) for part in partitioned_atoms])\n",
    "\n",
    "for part_idx, input_graph in tqdm(enumerate(dataloader), total=num_partitions):\n",
    "    input_graph = input_graph.to(device)\n",
    "    input_dict = batch_to_dict(input_graph)\n",
    "    atomic_numbers = input_dict[\"atom_attr\"]\n",
    "\n",
    "    with torch.no_grad():\n",
    "        feat = model.forward(input_dict)\n",
    "\n",
    "    part = partitioned_atoms[part_idx]\n",
    "    for j, node in enumerate(part):\n",
    "        original_index = indices_map[part_idx][j]\n",
    "        if original_index in partitions[part_idx]: # If the node is a root node of the partition\n",
    "            aggregated_features[original_index] = feat[j]\n",
    "            aggregated_atomic_numbers[original_index] = atomic_numbers[j]\n",
    "\n",
    "    del input_graph, input_dict, atomic_numbers, feat\n",
    "    torch.cuda.empty_cache()"
   ]
  },
  {
   "cell_type": "code",
   "execution_count": 117,
   "metadata": {},
   "outputs": [
    {
     "data": {
      "application/scrapbook.scrap.json+json": {
       "data": -952.7579956054688,
       "encoder": "json",
       "name": "partition_energy",
       "version": 1
      }
     },
     "metadata": {
      "scrapbook": {
       "data": true,
       "display": false,
       "name": "partition_energy"
      }
     },
     "output_type": "display_data"
    },
    {
     "data": {
      "text/plain": [
       "tensor([-952.7580], grad_fn=<ScatterAddBackward0>)"
      ]
     },
     "execution_count": 117,
     "metadata": {},
     "output_type": "execute_result"
    }
   ],
   "source": [
    "atomic_numbers = aggregated_atomic_numbers.squeeze(1).long()\n",
    "batch = torch.zeros((len(atoms)), dtype=torch.int64, device=device)\n",
    "\n",
    "energy = model.final(aggregated_features).view(-1)\n",
    "energy = model.normalizer(energy, atomic_numbers)\n",
    "energy = scatter(energy, batch, dim=0, dim_size=1)\n",
    "\n",
    "sb.glue(\"partition_energy\", energy.item())\n",
    "energy"
   ]
  },
  {
   "cell_type": "markdown",
   "metadata": {},
   "source": [
    "## Prediction"
   ]
  },
  {
   "cell_type": "markdown",
   "metadata": {},
   "source": [
    "Run the prediction on the original, unpartitioned graph to obtain a benchmark for our results"
   ]
  },
  {
   "cell_type": "code",
   "execution_count": 118,
   "metadata": {},
   "outputs": [
    {
     "data": {
      "application/scrapbook.scrap.json+json": {
       "data": -952.7579956054688,
       "encoder": "json",
       "name": "benchmark_energy",
       "version": 1
      }
     },
     "metadata": {
      "scrapbook": {
       "data": true,
       "display": false,
       "name": "benchmark_energy"
      }
     },
     "output_type": "display_data"
    },
    {
     "data": {
      "text/plain": [
       "(-952.758,\n",
       " array([[-1.66473910e-08, -1.85820535e-02, -4.08356488e-01],\n",
       "        [-3.58969828e-07,  1.85802449e-02, -4.08347845e-01],\n",
       "        [-7.40692485e-09, -4.23084080e-01,  1.11127883e-01],\n",
       "        [-1.27110980e-07,  4.23082590e-01,  1.11129329e-01],\n",
       "        [ 3.46074581e-01, -2.11748719e-01, -1.41425997e-01],\n",
       "        [-3.46071154e-01, -2.11747557e-01, -1.41425401e-01],\n",
       "        [-3.46075475e-01,  2.11747527e-01, -1.41425848e-01],\n",
       "        [ 3.46075416e-01,  2.11747408e-01, -1.41425774e-01],\n",
       "        [ 7.04312697e-09, -1.85810234e-02, -4.08356190e-01],\n",
       "        [ 1.10594556e-08,  1.85800772e-02, -4.08348352e-01],\n",
       "        [-5.51226549e-08, -4.23080891e-01,  1.11128017e-01],\n",
       "        [ 1.34969014e-07,  4.23084199e-01,  1.11130156e-01],\n",
       "        [ 3.46076488e-01, -2.11750761e-01, -1.41427398e-01],\n",
       "        [-3.46075267e-01, -2.11750418e-01, -1.41427100e-01],\n",
       "        [-3.46069723e-01,  2.11745262e-01, -1.41423717e-01],\n",
       "        [ 3.46073300e-01,  2.11746454e-01, -1.41424656e-01],\n",
       "        [ 1.43307261e-07,  4.24949318e-01,  3.08559924e-01],\n",
       "        [-5.58793545e-07, -4.24949706e-01,  3.08548093e-01],\n",
       "        [ 2.64612027e-06,  4.36397582e-01,  2.71523237e-01],\n",
       "        [ 9.31322575e-08, -4.36395288e-01,  2.71521926e-01],\n",
       "        [-7.20843673e-07,  4.24947500e-01,  3.08559120e-01],\n",
       "        [-7.05476850e-08, -4.24950302e-01,  3.08548689e-01],\n",
       "        [-1.36566814e-06,  4.36401188e-01,  2.71525085e-01],\n",
       "        [ 2.89245509e-06, -4.36393142e-01,  2.71519631e-01],\n",
       "        [ 6.95290510e-08, -1.85806956e-02, -4.08366263e-01],\n",
       "        [-6.07396942e-08,  1.85799021e-02, -4.08366948e-01],\n",
       "        [ 1.77009497e-07, -4.23083842e-01,  1.11129642e-01],\n",
       "        [-5.39148459e-08,  4.23083305e-01,  1.11130089e-01],\n",
       "        [ 3.46075326e-01, -2.11749166e-01, -1.41426787e-01],\n",
       "        [-3.46071184e-01, -2.11747363e-01, -1.41425654e-01],\n",
       "        [-3.46075416e-01,  2.11747214e-01, -1.41425759e-01],\n",
       "        [ 3.46075535e-01,  2.11747438e-01, -1.41425878e-01],\n",
       "        [-1.68045517e-07, -1.85795426e-02, -4.08365667e-01],\n",
       "        [ 6.69388101e-09,  1.85793750e-02, -4.08366352e-01],\n",
       "        [-6.80738594e-08, -4.23081905e-01,  1.11130178e-01],\n",
       "        [ 6.58765202e-08,  4.23084795e-01,  1.11130640e-01],\n",
       "        [ 3.46076190e-01, -2.11751133e-01, -1.41427830e-01],\n",
       "        [-3.46074939e-01, -2.11750627e-01, -1.41427562e-01],\n",
       "        [-3.46069336e-01,  2.11745292e-01, -1.41423553e-01],\n",
       "        [ 3.46073091e-01,  2.11746708e-01, -1.41424686e-01],\n",
       "        [ 5.80796041e-07,  4.24948573e-01,  3.08569372e-01],\n",
       "        [-1.27498060e-06, -4.24949408e-01,  3.08567762e-01],\n",
       "        [ 1.04581704e-06,  4.36397821e-01,  2.71522582e-01],\n",
       "        [-1.62748620e-07, -4.36394960e-01,  2.71520585e-01],\n",
       "        [-5.73461875e-07,  4.24947172e-01,  3.08567524e-01],\n",
       "        [ 3.96859832e-07, -4.24950242e-01,  3.08566332e-01],\n",
       "        [-1.20722689e-06,  4.36400771e-01,  2.71524251e-01],\n",
       "        [ 2.87720468e-06, -4.36392218e-01,  2.71518946e-01],\n",
       "        [ 6.34972821e-08, -1.85813084e-02, -4.08355504e-01],\n",
       "        [ 7.68231985e-08,  1.85790583e-02, -4.08346415e-01],\n",
       "        [ 1.38312316e-07, -4.23081666e-01,  1.11128539e-01],\n",
       "        [-7.64455663e-08,  4.23085064e-01,  1.11130774e-01],\n",
       "        [ 3.46075356e-01, -2.11750180e-01, -1.41426951e-01],\n",
       "        [-3.46073866e-01, -2.11749673e-01, -1.41426548e-01],\n",
       "        [-3.46068799e-01,  2.11741731e-01, -1.41422316e-01],\n",
       "        [ 3.46069217e-01,  2.11741969e-01, -1.41422153e-01],\n",
       "        [-2.07190169e-07, -1.85810123e-02, -4.08356011e-01],\n",
       "        [-6.10743882e-08,  1.85794272e-02, -4.08348411e-01],\n",
       "        [-5.82876964e-08, -4.23081219e-01,  1.11128494e-01],\n",
       "        [ 1.47148967e-07,  4.23082650e-01,  1.11129425e-01],\n",
       "        [ 3.46075743e-01, -2.11750686e-01, -1.41427353e-01],\n",
       "        [-3.46075535e-01, -2.11750448e-01, -1.41427293e-01],\n",
       "        [-3.46062362e-01,  2.11738288e-01, -1.41419828e-01],\n",
       "        [ 3.46067011e-01,  2.11740524e-01, -1.41421258e-01],\n",
       "        [ 4.18629497e-07,  4.24947709e-01,  3.08557928e-01],\n",
       "        [-5.34462743e-07, -4.24952894e-01,  3.08546960e-01],\n",
       "        [ 2.02060642e-06,  4.36401337e-01,  2.71524429e-01],\n",
       "        [-4.44124453e-07, -4.36382473e-01,  2.71513700e-01],\n",
       "        [-2.67405994e-07,  4.24947441e-01,  3.08558643e-01],\n",
       "        [-3.05008143e-08, -4.24947917e-01,  3.08550000e-01],\n",
       "        [-4.87198122e-07,  4.36403275e-01,  2.71524310e-01],\n",
       "        [ 2.44489638e-06, -4.36380088e-01,  2.71512657e-01],\n",
       "        [ 1.31640263e-08, -1.85796525e-02, -4.08365667e-01],\n",
       "        [-2.83362169e-08,  1.85789112e-02, -4.08367157e-01],\n",
       "        [ 1.51456334e-07, -4.23082083e-01,  1.11130327e-01],\n",
       "        [-1.30922416e-07,  4.23085034e-01,  1.11130849e-01],\n",
       "        [ 3.46075416e-01, -2.11750388e-01, -1.41427577e-01],\n",
       "        [-3.46073598e-01, -2.11749643e-01, -1.41426831e-01],\n",
       "        [-3.46069634e-01,  2.11742014e-01, -1.41422272e-01],\n",
       "        [ 3.46069574e-01,  2.11741894e-01, -1.41422242e-01],\n",
       "        [-2.91969627e-07, -1.85798388e-02, -4.08365816e-01],\n",
       "        [-1.47065293e-08,  1.85792167e-02, -4.08367395e-01],\n",
       "        [-4.65661287e-08, -4.23082054e-01,  1.11130022e-01],\n",
       "        [ 3.77185643e-08,  4.23082799e-01,  1.11129776e-01],\n",
       "        [ 3.46076280e-01, -2.11751327e-01, -1.41428217e-01],\n",
       "        [-3.46074820e-01, -2.11750418e-01, -1.41427666e-01],\n",
       "        [-3.46062064e-01,  2.11738318e-01, -1.41419709e-01],\n",
       "        [ 3.46066475e-01,  2.11740032e-01, -1.41420811e-01],\n",
       "        [ 6.68223947e-08,  4.24947262e-01,  3.08567405e-01],\n",
       "        [-1.11102236e-06, -4.24951613e-01,  3.08567494e-01],\n",
       "        [ 2.07975381e-06,  4.36401010e-01,  2.71524519e-01],\n",
       "        [-1.89873390e-07, -4.36382324e-01,  2.71512151e-01],\n",
       "        [-6.00703061e-08,  4.24947828e-01,  3.08567613e-01],\n",
       "        [ 3.98489647e-07, -4.24947262e-01,  3.08569312e-01],\n",
       "        [-1.77498441e-06,  4.36402619e-01,  2.71524459e-01],\n",
       "        [ 3.08261951e-06, -4.36378300e-01,  2.71511197e-01],\n",
       "        [ 7.47468221e-09, -1.85820665e-02, -4.08356428e-01],\n",
       "        [ 1.49509560e-07,  1.85802411e-02, -4.08348531e-01],\n",
       "        [-4.73519322e-08, -4.23083812e-01,  1.11127958e-01],\n",
       "        [-1.65964593e-08,  4.23082739e-01,  1.11129537e-01],\n",
       "        [ 3.46077502e-01, -2.11751193e-01, -1.41427875e-01],\n",
       "        [-3.46077442e-01, -2.11750388e-01, -1.41427189e-01],\n",
       "        [-3.46074760e-01,  2.11748138e-01, -1.41426265e-01],\n",
       "        [ 3.46060336e-01,  2.11739719e-01, -1.41420409e-01],\n",
       "        [ 1.27183739e-07, -1.85809247e-02, -4.08355892e-01],\n",
       "        [-1.97362738e-07,  1.85800698e-02, -4.08347547e-01],\n",
       "        [ 1.44878868e-07, -4.23082054e-01,  1.11128300e-01],\n",
       "        [-9.89662396e-09,  4.23083603e-01,  1.11129858e-01],\n",
       "        [ 3.46066415e-01, -2.11746067e-01, -1.41424239e-01],\n",
       "        [-3.46075863e-01, -2.11751446e-01, -1.41427994e-01],\n",
       "        [-3.46075624e-01,  2.11747825e-01, -1.41425431e-01],\n",
       "        [ 3.46075654e-01,  2.11748540e-01, -1.41426250e-01],\n",
       "        [ 5.32664444e-07,  4.24949408e-01,  3.08559179e-01],\n",
       "        [-9.59262252e-07, -4.24948692e-01,  3.08548033e-01],\n",
       "        [-6.92968024e-06,  4.36397851e-01,  2.71522880e-01],\n",
       "        [ 1.63328132e-05, -4.36387599e-01,  2.71516919e-01],\n",
       "        [-1.90339051e-07,  4.24947381e-01,  3.08557510e-01],\n",
       "        [ 2.45090405e-07, -4.24949825e-01,  3.08547914e-01],\n",
       "        [ 1.04564242e-05,  4.36397493e-01,  2.71521747e-01],\n",
       "        [-6.65453263e-06, -4.36392605e-01,  2.71519601e-01],\n",
       "        [ 1.83616066e-07, -1.85809508e-02, -4.08366501e-01],\n",
       "        [ 7.14499038e-08,  1.85799543e-02, -4.08366501e-01],\n",
       "        [ 1.52154826e-07, -4.23085093e-01,  1.11129925e-01],\n",
       "        [ 2.62298272e-08,  4.23084110e-01,  1.11130327e-01],\n",
       "        [ 3.46077085e-01, -2.11750686e-01, -1.41427994e-01],\n",
       "        [-3.46076936e-01, -2.11749867e-01, -1.41427383e-01],\n",
       "        [-3.46074700e-01,  2.11748138e-01, -1.41426399e-01],\n",
       "        [ 3.46059650e-01,  2.11739272e-01, -1.41420171e-01],\n",
       "        [ 8.99890438e-08, -1.85797047e-02, -4.08365130e-01],\n",
       "        [-3.00700776e-07,  1.85797140e-02, -4.08367723e-01],\n",
       "        [ 1.07625965e-07, -4.23082113e-01,  1.11130103e-01],\n",
       "        [-1.11016561e-07,  4.23084438e-01,  1.11130163e-01],\n",
       "        [ 3.46065998e-01, -2.11746186e-01, -1.41424373e-01],\n",
       "        [-3.46075386e-01, -2.11751595e-01, -1.41428366e-01],\n",
       "        [-3.46075833e-01,  2.11748064e-01, -1.41425535e-01],\n",
       "        [ 3.46076399e-01,  2.11749107e-01, -1.41426474e-01],\n",
       "        [ 3.61094635e-07,  4.24949050e-01,  3.08569074e-01],\n",
       "        [-1.07684173e-07, -4.24948096e-01,  3.08566332e-01],\n",
       "        [-6.59469515e-06,  4.36396986e-01,  2.71522015e-01],\n",
       "        [ 1.68192200e-05, -4.36386824e-01,  2.71515369e-01],\n",
       "        [-7.69738108e-07,  4.24946487e-01,  3.08566928e-01],\n",
       "        [ 5.90225682e-08, -4.24949229e-01,  3.08567286e-01],\n",
       "        [ 1.07379165e-05,  4.36396509e-01,  2.71521866e-01],\n",
       "        [-6.95267227e-06, -4.36391830e-01,  2.71518230e-01],\n",
       "        [-1.25306542e-07, -1.85811128e-02, -4.08355922e-01],\n",
       "        [-5.99408452e-08,  1.85789298e-02, -4.08347011e-01],\n",
       "        [-2.38951543e-07, -4.23081338e-01,  1.11128569e-01],\n",
       "        [-4.56600020e-08,  4.23085034e-01,  1.11130863e-01],\n",
       "        [ 3.46077681e-01, -2.11751863e-01, -1.41428098e-01],\n",
       "        [-3.46077681e-01, -2.11751416e-01, -1.41427636e-01],\n",
       "        [-3.46068799e-01,  2.11743116e-01, -1.41422719e-01],\n",
       "        [ 3.46057713e-01,  2.11736709e-01, -1.41418368e-01],\n",
       "        [ 6.71425369e-08, -1.85808539e-02, -4.08355564e-01],\n",
       "        [-7.96935637e-08,  1.85797568e-02, -4.08348441e-01],\n",
       "        [ 2.50318408e-07, -4.23081815e-01,  1.11128598e-01],\n",
       "        [-2.64262781e-08,  4.23083007e-01,  1.11129656e-01],\n",
       "        [ 3.46066386e-01, -2.11746141e-01, -1.41424239e-01],\n",
       "        [-3.46076250e-01, -2.11751848e-01, -1.41428173e-01],\n",
       "        [-3.46069753e-01,  2.11742073e-01, -1.41422048e-01],\n",
       "        [ 3.46070111e-01,  2.11743027e-01, -1.41422749e-01],\n",
       "        [ 2.02096999e-07,  4.24947023e-01,  3.08557987e-01],\n",
       "        [-9.28861425e-07, -4.24951434e-01,  3.08546662e-01],\n",
       "        [-3.85072781e-06,  4.36400980e-01,  2.71524251e-01],\n",
       "        [ 1.25996303e-05, -4.36377704e-01,  2.71510094e-01],\n",
       "        [ 2.61701643e-07,  4.24947202e-01,  3.08558106e-01],\n",
       "        [ 1.35158189e-07, -4.24948603e-01,  3.08549911e-01],\n",
       "        [ 1.02830818e-05,  4.36398864e-01,  2.71521509e-01],\n",
       "        [-7.74499495e-06, -4.36378509e-01,  2.71511286e-01],\n",
       "        [ 6.02067303e-08, -1.85800064e-02, -4.08365667e-01],\n",
       "        [ 6.40284270e-10,  1.85790434e-02, -4.08367753e-01],\n",
       "        [-1.36946881e-07, -4.23081309e-01,  1.11129731e-01],\n",
       "        [-1.25946826e-08,  4.23085153e-01,  1.11130774e-01],\n",
       "        [ 3.46077561e-01, -2.11752117e-01, -1.41428143e-01],\n",
       "        [-3.46077710e-01, -2.11751729e-01, -1.41428232e-01],\n",
       "        [-3.46068621e-01,  2.11742729e-01, -1.41422480e-01],\n",
       "        [ 3.46056759e-01,  2.11735591e-01, -1.41417712e-01],\n",
       "        [ 4.39031282e-08, -1.85798593e-02, -4.08365488e-01],\n",
       "        [-2.09149221e-07,  1.85794104e-02, -4.08367544e-01],\n",
       "        [ 3.13175406e-08, -4.23082501e-01,  1.11130320e-01],\n",
       "        [-2.38416646e-08,  4.23083186e-01,  1.11129858e-01],\n",
       "        [ 3.46066386e-01, -2.11746469e-01, -1.41424716e-01],\n",
       "        [-3.46076161e-01, -2.11751968e-01, -1.41428724e-01],\n",
       "        [-3.46069694e-01,  2.11741880e-01, -1.41422048e-01],\n",
       "        [ 3.46069813e-01,  2.11742759e-01, -1.41422674e-01],\n",
       "        [ 5.08967787e-07,  4.24946904e-01,  3.08567166e-01],\n",
       "        [-3.81260179e-07, -4.24950778e-01,  3.08566630e-01],\n",
       "        [-4.31609806e-06,  4.36401248e-01,  2.71524489e-01],\n",
       "        [ 1.33122085e-05, -4.36376125e-01,  2.71508217e-01],\n",
       "        [-2.85006536e-07,  4.24947202e-01,  3.08566809e-01],\n",
       "        [-2.51748133e-08, -4.24947679e-01,  3.08568716e-01],\n",
       "        [ 1.06933294e-05,  4.36399996e-01,  2.71521628e-01],\n",
       "        [-7.56618101e-06, -4.36377645e-01,  2.71510333e-01]], dtype=float32))"
      ]
     },
     "execution_count": 118,
     "metadata": {},
     "output_type": "execute_result"
    }
   ],
   "source": [
    "from mattersim.forcefield import MatterSimCalculator\n",
    "\n",
    "atoms.calc = MatterSimCalculator(device=device)\n",
    "benchmark_energy = atoms.get_potential_energy()\n",
    "benchmark_forces = atoms.get_forces()\n",
    "\n",
    "sb.glue(\"benchmark_energy\", benchmark_energy.item())\n",
    "benchmark_energy, benchmark_forces"
   ]
  },
  {
   "cell_type": "markdown",
   "metadata": {},
   "source": [
    "### Energy"
   ]
  },
  {
   "cell_type": "code",
   "execution_count": 16,
   "metadata": {},
   "outputs": [],
   "source": [
    "energy_error_abs = torch.abs(benchmark_energy - energy).item()\n",
    "energy_error_pct = torch.abs((benchmark_energy - energy) / benchmark_energy).item() * 100\n",
    "energy_error_max = torch.max(benchmark_energy - energy).item()\n",
    "\n",
    "sb.glue(\"energy_error_abs\", energy_error_abs)\n",
    "sb.glue(\"energy_error_pct\", energy_error_pct)\n",
    "sb.glue(\"energy_error_max\", energy_error_max)\n",
    "\n",
    "print(f\"Absolute error: {energy_error_abs}\")\n",
    "print(f\"Percent error: {energy_error_pct}%\")\n",
    "print(f\"Maximum error: {energy_error_max}\")"
   ]
  }
 ],
 "metadata": {
  "kernelspec": {
   "display_name": "Python 3",
   "language": "python",
   "name": "python3"
  },
  "language_info": {
   "codemirror_mode": {
    "name": "ipython",
    "version": 3
   },
   "file_extension": ".py",
   "mimetype": "text/x-python",
   "name": "python",
   "nbconvert_exporter": "python",
   "pygments_lexer": "ipython3",
   "version": "3.11.11"
  }
 },
 "nbformat": 4,
 "nbformat_minor": 4
}
