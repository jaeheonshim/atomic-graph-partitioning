{
 "cells": [
  {
   "cell_type": "code",
   "execution_count": 1,
   "metadata": {},
   "outputs": [],
   "source": [
    "# import packages\n",
    "\n",
    "from mattertune import configs as MC\n",
    "import mattertune as mt\n",
    "from pathlib import Path"
   ]
  },
  {
   "cell_type": "code",
   "execution_count": 2,
   "metadata": {},
   "outputs": [
    {
     "name": "stderr",
     "output_type": "stream",
     "text": [
      "/opt/anaconda3/envs/orb-partitioning/lib/python3.10/site-packages/tqdm/auto.py:21: TqdmWarning: IProgress not found. Please update jupyter and ipywidgets. See https://ipywidgets.readthedocs.io/en/stable/user_install.html\n",
      "  from .autonotebook import tqdm as notebook_tqdm\n",
      "/opt/anaconda3/envs/orb-partitioning/lib/python3.10/site-packages/orb_models/forcefield/pretrained.py:71: FutureWarning: You are using `torch.load` with `weights_only=False` (the current default value), which uses the default pickle module implicitly. It is possible to construct malicious pickle data which will execute arbitrary code during unpickling (See https://github.com/pytorch/pytorch/blob/main/SECURITY.md#untrusted-models for more details). In a future release, the default value for `weights_only` will be flipped to `True`. This limits the functions that could be executed during unpickling. Arbitrary objects will no longer be allowed to be loaded via this mode unless they are explicitly allowlisted by the user via `torch.serialization.add_safe_globals`. We recommend you start setting `weights_only=True` for any use case where you don't have full control of the loaded file. Please open an issue on GitHub for any issues related to this experimental feature.\n",
      "  state_dict = torch.load(local_path, map_location=\"cpu\")\n"
     ]
    }
   ],
   "source": [
    "# load orb-v2 model\n",
    "\n",
    "config = MC.ORBBackboneConfig(\n",
    "    pretrained_model=\"orb-v2\",\n",
    "    system=MC.ORBSystemConfig(\n",
    "        radius=10.0,\n",
    "        max_num_neighbors=20\n",
    "    ),\n",
    "    properties=[\n",
    "        MC.EnergyPropertyConfig(\n",
    "            loss=MC.MAELossConfig(),\n",
    "            loss_coefficient=1.0\n",
    "        ),\n",
    "        MC.ForcesPropertyConfig(\n",
    "            loss=MC.MAELossConfig(),\n",
    "            loss_coefficient=10.0,\n",
    "            conservative=False\n",
    "        ),\n",
    "    ],\n",
    "    optimizer=MC.AdamWConfig(lr=1e-4),\n",
    ")\n",
    "\n",
    "model = config.create_model()"
   ]
  },
  {
   "cell_type": "code",
   "execution_count": 3,
   "metadata": {},
   "outputs": [],
   "source": [
    "# imports for calculation\n",
    "from ase.optimize import BFGS\n",
    "from ase import Atoms\n",
    "from ase.visualize import view\n",
    "from ase.io import read"
   ]
  },
  {
   "cell_type": "code",
   "execution_count": 4,
   "metadata": {},
   "outputs": [],
   "source": [
    "# create the calculator\n",
    "calculator = model.ase_calculator()"
   ]
  },
  {
   "cell_type": "code",
   "execution_count": 5,
   "metadata": {},
   "outputs": [],
   "source": [
    "atoms = read(\"H2O.xyz\")\n",
    "atoms.calc = calculator"
   ]
  },
  {
   "cell_type": "code",
   "execution_count": 6,
   "metadata": {},
   "outputs": [
    {
     "name": "stderr",
     "output_type": "stream",
     "text": [
      "You are running in `Trainer(barebones=True)` mode. All features that may impact raw speed have been disabled to facilitate analyzing the Trainer overhead. Specifically, the following features are deactivated:\n",
      " - Checkpointing: `Trainer(enable_checkpointing=True)`\n",
      " - Progress bar: `Trainer(enable_progress_bar=True)`\n",
      " - Model summary: `Trainer(enable_model_summary=True)`\n",
      " - Logging: `Trainer(logger=True)`, `Trainer(log_every_n_steps>0)`, `LightningModule.log(...)`, `LightningModule.log_dict(...)`\n",
      " - Sanity checking: `Trainer(num_sanity_val_steps>0)`\n",
      " - Development run: `Trainer(fast_dev_run=True)`\n",
      " - Anomaly detection: `Trainer(detect_anomaly=True)`\n",
      " - Profiling: `Trainer(profiler=...)`\n",
      "GPU available: False, used: False\n",
      "TPU available: False, using: 0 TPU cores\n",
      "HPU available: False, using: 0 HPUs\n",
      "`Trainer(barebones=True)` started running. The progress bar is disabled so you might want to manually print the progress in your model.\n",
      "/opt/anaconda3/envs/orb-partitioning/lib/python3.10/site-packages/lightning/pytorch/trainer/connectors/data_connector.py:425: The 'predict_dataloader' does not have many workers which may be a bottleneck. Consider increasing the value of the `num_workers` argument` to `num_workers=15` in the `DataLoader` to improve performance.\n"
     ]
    },
    {
     "name": "stdout",
     "output_type": "stream",
     "text": [
      "Final energy: -0.005859195254743099\n"
     ]
    }
   ],
   "source": [
    "# Calculate potential energy\n",
    "print(\"Final energy:\", atoms.get_potential_energy())"
   ]
  },
  {
   "cell_type": "markdown",
   "metadata": {},
   "source": [
    "# Partitioning"
   ]
  },
  {
   "cell_type": "code",
   "execution_count": 7,
   "metadata": {},
   "outputs": [],
   "source": [
    "from ase import Atoms"
   ]
  },
  {
   "cell_type": "markdown",
   "metadata": {},
   "source": [
    "## Functions"
   ]
  },
  {
   "cell_type": "markdown",
   "metadata": {},
   "source": [
    "The `atoms_to_graph` function takes in an `ase.Atoms` object and outputs a networkx graph. Edges are created between two nodes if they are within the natural cutoffs provided."
   ]
  },
  {
   "cell_type": "code",
   "execution_count": 8,
   "metadata": {},
   "outputs": [],
   "source": [
    "import networkx as nx\n",
    "from ase.neighborlist import NeighborList, natural_cutoffs\n",
    "\n",
    "def atoms_to_graph(atoms: Atoms):\n",
    "    G = nx.Graph()\n",
    "\n",
    "    G.add_nodes_from(range(len(atoms)))\n",
    "\n",
    "    # Create graph\n",
    "\n",
    "    # Generate radial cutoffs (https://wiki.fysik.dtu.dk/ase/ase/neighborlist.html#ase.neighborlist.natural_cutoffs)\n",
    "    cutoffs = natural_cutoffs(atoms)\n",
    "\n",
    "    # Create the neighborlist and update with atoms\n",
    "    neighbor_list = NeighborList(cutoffs, self_interaction=False, bothways=True)\n",
    "    neighbor_list.update(atoms)\n",
    "\n",
    "    # Create appropriate edges in G\n",
    "    for u in range(len(atoms)):\n",
    "        neighbors, offsets = neighbor_list.get_neighbors(u)\n",
    "        for v in neighbors:\n",
    "            dist = ((atoms.positions[u] - atoms.positions[v])**2).sum()**0.5\n",
    "            G.add_edge(u, v, weight=dist)\n",
    "\n",
    "    return G"
   ]
  },
  {
   "cell_type": "markdown",
   "metadata": {},
   "source": [
    "The `partition_graph` function takes a graph and partitions it using METIS"
   ]
  },
  {
   "cell_type": "code",
   "execution_count": 9,
   "metadata": {},
   "outputs": [],
   "source": [
    "import metis\n",
    "\n",
    "def partition_graph(G: nx.Graph, num_partitions: int = 2):\n",
    "    edgecuts, parts = metis.part_graph(G, num_partitions)\n",
    "    return parts"
   ]
  },
  {
   "cell_type": "markdown",
   "metadata": {},
   "source": [
    "The `partitions_to_atoms` function takes the original Atoms object, the partitions from a partitioning algorithm, and creates separate Atoms objects containing the atoms from each partition"
   ]
  },
  {
   "cell_type": "code",
   "execution_count": 10,
   "metadata": {},
   "outputs": [],
   "source": [
    "def partitions_to_atoms(atoms: Atoms, partitions: list):\n",
    "    num_partitions = len(set(partitions))\n",
    "\n",
    "    # Right now I will only restore the atomic numbers and positions\n",
    "    numbers = [[] for _ in range(num_partitions)]\n",
    "    positions = [[] for _ in range(num_partitions)]\n",
    "\n",
    "    for i in range(len(atoms)):\n",
    "        number = atoms.get_atomic_numbers()[i]\n",
    "        position = atoms.get_positions()[i]\n",
    "\n",
    "        partition = partitions[i]\n",
    "\n",
    "        numbers[partition].append(number)\n",
    "        positions[partition].append(position)\n",
    "\n",
    "    return [Atoms(numbers=numbers[i], positions=positions[i]) for i in range(num_partitions)]"
   ]
  },
  {
   "cell_type": "markdown",
   "metadata": {},
   "source": [
    "## Step-by-step partitioning and inference"
   ]
  },
  {
   "cell_type": "code",
   "execution_count": 11,
   "metadata": {},
   "outputs": [],
   "source": [
    "from ase.io import read\n",
    "\n",
    "# Read atoms\n",
    "atoms = Atoms('H2O',\n",
    "             positions=[[0, 0, 0], [0, 0, 1], [0, 1, 0]],\n",
    "             cell=[10, 10, 10],\n",
    "             pbc=True)\n",
    "\n",
    "# Convert to graph\n",
    "G = atoms_to_graph(atoms)"
   ]
  },
  {
   "cell_type": "markdown",
   "metadata": {},
   "source": [
    "Partitioning"
   ]
  },
  {
   "cell_type": "code",
   "execution_count": 12,
   "metadata": {},
   "outputs": [
    {
     "data": {
      "text/plain": [
       "1"
      ]
     },
     "execution_count": 12,
     "metadata": {},
     "output_type": "execute_result"
    }
   ],
   "source": [
    "partitions = partition_graph(G)\n",
    "len(set(partitions))"
   ]
  },
  {
   "cell_type": "markdown",
   "metadata": {},
   "source": [
    "We can optionally visualize the partition (this might be really laggy)"
   ]
  },
  {
   "cell_type": "code",
   "execution_count": 13,
   "metadata": {},
   "outputs": [],
   "source": [
    "visualize = False\n",
    "\n",
    "if visualize:\n",
    "    import py3Dmol\n",
    "\n",
    "    positions = atoms.get_positions()\n",
    "    colors = [\"red\", \"blue\", \"green\"]\n",
    "\n",
    "    view = py3Dmol.view(width=800, height=600)\n",
    "\n",
    "    for i, pos in enumerate(positions):\n",
    "        view.addSphere({\n",
    "            'center': {'x': pos[0], 'y': pos[1], 'z': pos[2]},\n",
    "            'radius': 0.5,\n",
    "            'color': colors[partitions[i]]\n",
    "        })\n",
    "\n",
    "    view.show()\n"
   ]
  },
  {
   "cell_type": "markdown",
   "metadata": {},
   "source": [
    "Now we take the partitioned atoms and convert them back into their own `ase.Atoms` objects"
   ]
  },
  {
   "cell_type": "code",
   "execution_count": 14,
   "metadata": {},
   "outputs": [
    {
     "ename": "IndexError",
     "evalue": "list index out of range",
     "output_type": "error",
     "traceback": [
      "\u001b[0;31m---------------------------------------------------------------------------\u001b[0m",
      "\u001b[0;31mIndexError\u001b[0m                                Traceback (most recent call last)",
      "Cell \u001b[0;32mIn[14], line 1\u001b[0m\n\u001b[0;32m----> 1\u001b[0m partitioned_atoms \u001b[38;5;241m=\u001b[39m \u001b[43mpartitions_to_atoms\u001b[49m\u001b[43m(\u001b[49m\u001b[43matoms\u001b[49m\u001b[43m,\u001b[49m\u001b[43m \u001b[49m\u001b[43mpartitions\u001b[49m\u001b[43m)\u001b[49m\n",
      "Cell \u001b[0;32mIn[10], line 14\u001b[0m, in \u001b[0;36mpartitions_to_atoms\u001b[0;34m(atoms, partitions)\u001b[0m\n\u001b[1;32m     10\u001b[0m     position \u001b[38;5;241m=\u001b[39m atoms\u001b[38;5;241m.\u001b[39mget_positions()[i]\n\u001b[1;32m     12\u001b[0m     partition \u001b[38;5;241m=\u001b[39m partitions[i]\n\u001b[0;32m---> 14\u001b[0m     \u001b[43mnumbers\u001b[49m\u001b[43m[\u001b[49m\u001b[43mpartition\u001b[49m\u001b[43m]\u001b[49m\u001b[38;5;241m.\u001b[39mappend(number)\n\u001b[1;32m     15\u001b[0m     positions[partition]\u001b[38;5;241m.\u001b[39mappend(position)\n\u001b[1;32m     17\u001b[0m \u001b[38;5;28;01mreturn\u001b[39;00m [Atoms(numbers\u001b[38;5;241m=\u001b[39mnumbers[i], positions\u001b[38;5;241m=\u001b[39mpositions[i]) \u001b[38;5;28;01mfor\u001b[39;00m i \u001b[38;5;129;01min\u001b[39;00m \u001b[38;5;28mrange\u001b[39m(num_partitions)]\n",
      "\u001b[0;31mIndexError\u001b[0m: list index out of range"
     ]
    }
   ],
   "source": [
    "partitioned_atoms = partitions_to_atoms(atoms, partitions)"
   ]
  },
  {
   "cell_type": "markdown",
   "metadata": {},
   "source": [
    "Now we can run inference on each of the atoms using mattertune"
   ]
  },
  {
   "cell_type": "code",
   "execution_count": 57,
   "metadata": {},
   "outputs": [
    {
     "name": "stderr",
     "output_type": "stream",
     "text": [
      "You are running in `Trainer(barebones=True)` mode. All features that may impact raw speed have been disabled to facilitate analyzing the Trainer overhead. Specifically, the following features are deactivated:\n",
      " - Checkpointing: `Trainer(enable_checkpointing=True)`\n",
      " - Progress bar: `Trainer(enable_progress_bar=True)`\n",
      " - Model summary: `Trainer(enable_model_summary=True)`\n",
      " - Logging: `Trainer(logger=True)`, `Trainer(log_every_n_steps>0)`, `LightningModule.log(...)`, `LightningModule.log_dict(...)`\n",
      " - Sanity checking: `Trainer(num_sanity_val_steps>0)`\n",
      " - Development run: `Trainer(fast_dev_run=True)`\n",
      " - Anomaly detection: `Trainer(detect_anomaly=True)`\n",
      " - Profiling: `Trainer(profiler=...)`\n",
      "GPU available: False, used: False\n",
      "TPU available: False, using: 0 TPU cores\n",
      "HPU available: False, using: 0 HPUs\n",
      "`Trainer(barebones=True)` started running. The progress bar is disabled so you might want to manually print the progress in your model.\n",
      "You are running in `Trainer(barebones=True)` mode. All features that may impact raw speed have been disabled to facilitate analyzing the Trainer overhead. Specifically, the following features are deactivated:\n",
      " - Checkpointing: `Trainer(enable_checkpointing=True)`\n",
      " - Progress bar: `Trainer(enable_progress_bar=True)`\n",
      " - Model summary: `Trainer(enable_model_summary=True)`\n",
      " - Logging: `Trainer(logger=True)`, `Trainer(log_every_n_steps>0)`, `LightningModule.log(...)`, `LightningModule.log_dict(...)`\n",
      " - Sanity checking: `Trainer(num_sanity_val_steps>0)`\n",
      " - Development run: `Trainer(fast_dev_run=True)`\n",
      " - Anomaly detection: `Trainer(detect_anomaly=True)`\n",
      " - Profiling: `Trainer(profiler=...)`\n",
      "GPU available: False, used: False\n",
      "TPU available: False, using: 0 TPU cores\n",
      "HPU available: False, using: 0 HPUs\n",
      "`Trainer(barebones=True)` started running. The progress bar is disabled so you might want to manually print the progress in your model.\n",
      "You are running in `Trainer(barebones=True)` mode. All features that may impact raw speed have been disabled to facilitate analyzing the Trainer overhead. Specifically, the following features are deactivated:\n",
      " - Checkpointing: `Trainer(enable_checkpointing=True)`\n",
      " - Progress bar: `Trainer(enable_progress_bar=True)`\n",
      " - Model summary: `Trainer(enable_model_summary=True)`\n",
      " - Logging: `Trainer(logger=True)`, `Trainer(log_every_n_steps>0)`, `LightningModule.log(...)`, `LightningModule.log_dict(...)`\n",
      " - Sanity checking: `Trainer(num_sanity_val_steps>0)`\n",
      " - Development run: `Trainer(fast_dev_run=True)`\n",
      " - Anomaly detection: `Trainer(detect_anomaly=True)`\n",
      " - Profiling: `Trainer(profiler=...)`\n",
      "GPU available: False, used: False\n",
      "TPU available: False, using: 0 TPU cores\n",
      "HPU available: False, using: 0 HPUs\n",
      "`Trainer(barebones=True)` started running. The progress bar is disabled so you might want to manually print the progress in your model.\n",
      "You are running in `Trainer(barebones=True)` mode. All features that may impact raw speed have been disabled to facilitate analyzing the Trainer overhead. Specifically, the following features are deactivated:\n",
      " - Checkpointing: `Trainer(enable_checkpointing=True)`\n",
      " - Progress bar: `Trainer(enable_progress_bar=True)`\n",
      " - Model summary: `Trainer(enable_model_summary=True)`\n",
      " - Logging: `Trainer(logger=True)`, `Trainer(log_every_n_steps>0)`, `LightningModule.log(...)`, `LightningModule.log_dict(...)`\n",
      " - Sanity checking: `Trainer(num_sanity_val_steps>0)`\n",
      " - Development run: `Trainer(fast_dev_run=True)`\n",
      " - Anomaly detection: `Trainer(detect_anomaly=True)`\n",
      " - Profiling: `Trainer(profiler=...)`\n",
      "GPU available: False, used: False\n",
      "TPU available: False, using: 0 TPU cores\n",
      "HPU available: False, using: 0 HPUs\n",
      "`Trainer(barebones=True)` started running. The progress bar is disabled so you might want to manually print the progress in your model.\n"
     ]
    }
   ],
   "source": [
    "atoms.calc = calculator\n",
    "\n",
    "for part in partitioned_atoms:\n",
    "    part.calc = calculator\n",
    "\n",
    "total_potential = atoms.get_potential_energy()\n",
    "\n",
    "partition_potentials = []\n",
    "\n",
    "for i, part in enumerate(partitioned_atoms):\n",
    "    partition_potentials.append(part.get_potential_energy())"
   ]
  },
  {
   "cell_type": "markdown",
   "metadata": {},
   "source": [
    "Print results"
   ]
  },
  {
   "cell_type": "code",
   "execution_count": 58,
   "metadata": {},
   "outputs": [
    {
     "name": "stdout",
     "output_type": "stream",
     "text": [
      "Potential energy of all atoms: -0.014182958751916885\n",
      "Sum of potential energies across partitions -0.0107995574362576\n",
      "Potential energy of Partiton #0: -0.004986708052456379\n",
      "Potential energy of Partiton #1: 0.0003144163638353348\n",
      "Potential energy of Partiton #2: -0.006127265747636557\n"
     ]
    }
   ],
   "source": [
    "print(f\"Potential energy of all atoms:\", total_potential)\n",
    "print(f\"Sum of potential energies across partitions\", sum(partition_potentials))\n",
    "\n",
    "for i, pe in enumerate(partition_potentials):\n",
    "    print(f\"Potential energy of Partiton #{i}:\", pe)"
   ]
  },
  {
   "cell_type": "code",
   "execution_count": 59,
   "metadata": {},
   "outputs": [
    {
     "name": "stderr",
     "output_type": "stream",
     "text": [
      "You are running in `Trainer(barebones=True)` mode. All features that may impact raw speed have been disabled to facilitate analyzing the Trainer overhead. Specifically, the following features are deactivated:\n",
      " - Checkpointing: `Trainer(enable_checkpointing=True)`\n",
      " - Progress bar: `Trainer(enable_progress_bar=True)`\n",
      " - Model summary: `Trainer(enable_model_summary=True)`\n",
      " - Logging: `Trainer(logger=True)`, `Trainer(log_every_n_steps>0)`, `LightningModule.log(...)`, `LightningModule.log_dict(...)`\n",
      " - Sanity checking: `Trainer(num_sanity_val_steps>0)`\n",
      " - Development run: `Trainer(fast_dev_run=True)`\n",
      " - Anomaly detection: `Trainer(detect_anomaly=True)`\n",
      " - Profiling: `Trainer(profiler=...)`\n",
      "GPU available: False, used: False\n",
      "TPU available: False, using: 0 TPU cores\n",
      "HPU available: False, using: 0 HPUs\n",
      "`Trainer(barebones=True)` started running. The progress bar is disabled so you might want to manually print the progress in your model.\n"
     ]
    },
    {
     "data": {
      "text/plain": [
       "array([[-0.06008359,  0.01884918,  0.00663478],\n",
       "       [-0.05677664,  0.01673258,  0.02490705],\n",
       "       [-0.06625177,  0.0693715 ,  0.06599157],\n",
       "       [ 0.02383402,  0.03705235,  0.03745429],\n",
       "       [-0.08792569,  0.01976779,  0.06394845],\n",
       "       [-0.04984496,  0.05295379,  0.0098209 ],\n",
       "       [ 0.00734235,  0.08901956,  0.01151881],\n",
       "       [-0.03085612, -0.03642404,  0.05945247],\n",
       "       [-0.06008349,  0.01884929,  0.00663496],\n",
       "       [-0.05677638,  0.01673249,  0.02490694],\n",
       "       [-0.06625135,  0.06937159,  0.06599185],\n",
       "       [ 0.02383389,  0.03705242,  0.03745428],\n",
       "       [-0.0879261 ,  0.01976755,  0.06394785],\n",
       "       [-0.04984542,  0.05295397,  0.00982062],\n",
       "       [ 0.00734282,  0.0890191 ,  0.01151911],\n",
       "       [-0.03085601, -0.03642388,  0.0594525 ],\n",
       "       [ 0.09576453, -0.04970675, -0.07404261],\n",
       "       [ 0.05001447, -0.04833011, -0.0577336 ],\n",
       "       [ 0.11192495, -0.09128665, -0.07252418],\n",
       "       [ 0.06285973, -0.07800005, -0.0754272 ],\n",
       "       [ 0.09576452, -0.04970677, -0.07404252],\n",
       "       [ 0.05001449, -0.04833002, -0.05773362],\n",
       "       [ 0.1119251 , -0.09128675, -0.07252425],\n",
       "       [ 0.06285965, -0.07799993, -0.07542724],\n",
       "       [-0.06008453,  0.01884839,  0.00663412],\n",
       "       [-0.05677853,  0.01673154,  0.02490586],\n",
       "       [-0.06625083,  0.06937095,  0.06599188],\n",
       "       [ 0.02383407,  0.03705223,  0.03745421],\n",
       "       [-0.08792517,  0.01976768,  0.0639485 ],\n",
       "       [-0.04984477,  0.0529535 ,  0.00982096],\n",
       "       [ 0.00734201,  0.08901979,  0.01151902],\n",
       "       [-0.03085643, -0.03642382,  0.05945239],\n",
       "       [-0.06008453,  0.01884846,  0.00663424],\n",
       "       [-0.05677832,  0.01673141,  0.02490578],\n",
       "       [-0.0662505 ,  0.0693711 ,  0.06599195],\n",
       "       [ 0.023834  ,  0.03705232,  0.03745419],\n",
       "       [-0.08792563,  0.01976733,  0.06394809],\n",
       "       [-0.04984522,  0.05295359,  0.00982057],\n",
       "       [ 0.00734257,  0.08901928,  0.01151915],\n",
       "       [-0.03085637, -0.03642364,  0.05945246],\n",
       "       [ 0.09576465, -0.04970645, -0.0740428 ],\n",
       "       [ 0.05001448, -0.04832975, -0.05773357],\n",
       "       [ 0.11192492, -0.09128632, -0.07252436],\n",
       "       [ 0.06285948, -0.07799995, -0.07542741],\n",
       "       [ 0.09576462, -0.04970643, -0.07404274],\n",
       "       [ 0.05001437, -0.04832961, -0.05773359],\n",
       "       [ 0.11192502, -0.09128641, -0.07252444],\n",
       "       [ 0.06285939, -0.07799996, -0.07542747],\n",
       "       [-0.06008377,  0.01884921,  0.00663488],\n",
       "       [-0.05677686,  0.01673289,  0.024907  ],\n",
       "       [-0.06625116,  0.06937142,  0.0659918 ],\n",
       "       [ 0.02383384,  0.03705257,  0.03745451],\n",
       "       [-0.08792621,  0.01976763,  0.06394807],\n",
       "       [-0.04984533,  0.05295394,  0.00982064],\n",
       "       [ 0.00734239,  0.08901972,  0.01151939],\n",
       "       [-0.03085579, -0.03642312,  0.05945279],\n",
       "       [-0.06008381,  0.01884935,  0.00663495],\n",
       "       [-0.05677668,  0.01673261,  0.02490699],\n",
       "       [-0.06625143,  0.06937142,  0.06599176],\n",
       "       [ 0.02383384,  0.03705236,  0.03745428],\n",
       "       [-0.08792612,  0.01976757,  0.06394795],\n",
       "       [-0.04984531,  0.05295391,  0.00982071],\n",
       "       [ 0.00734279,  0.08901947,  0.01151964],\n",
       "       [-0.03085575, -0.03642291,  0.059453  ],\n",
       "       [ 0.09576437, -0.04970676, -0.07404261],\n",
       "       [ 0.05001418, -0.04832999, -0.05773344],\n",
       "       [ 0.11192484, -0.09128694, -0.07252444],\n",
       "       [ 0.06285978, -0.07799964, -0.07542688],\n",
       "       [ 0.09576444, -0.04970679, -0.07404252],\n",
       "       [ 0.05001443, -0.04833005, -0.05773345],\n",
       "       [ 0.11192508, -0.09128682, -0.07252429],\n",
       "       [ 0.06285976, -0.07799958, -0.07542691],\n",
       "       [-0.06008482,  0.01884864,  0.00663416],\n",
       "       [-0.05677873,  0.01673176,  0.02490584],\n",
       "       [-0.0662505 ,  0.06937105,  0.06599183],\n",
       "       [ 0.02383397,  0.03705255,  0.03745445],\n",
       "       [-0.08792563,  0.0197675 ,  0.06394819],\n",
       "       [-0.04984508,  0.05295353,  0.00982056],\n",
       "       [ 0.00734203,  0.08901997,  0.01151943],\n",
       "       [-0.03085608, -0.03642302,  0.05945276],\n",
       "       [-0.0600848 ,  0.01884867,  0.00663429],\n",
       "       [-0.0567786 ,  0.01673163,  0.02490588],\n",
       "       [-0.06625061,  0.06937103,  0.06599185],\n",
       "       [ 0.0238339 ,  0.03705229,  0.03745429],\n",
       "       [-0.08792575,  0.01976747,  0.06394811],\n",
       "       [-0.0498452 ,  0.05295368,  0.00982068],\n",
       "       [ 0.0073425 ,  0.08901961,  0.01151969],\n",
       "       [-0.03085594, -0.03642273,  0.05945298],\n",
       "       [ 0.09576449, -0.04970646, -0.07404277],\n",
       "       [ 0.05001419, -0.04832958, -0.05773336],\n",
       "       [ 0.11192495, -0.09128673, -0.07252456],\n",
       "       [ 0.06285948, -0.07799955, -0.07542709],\n",
       "       [ 0.09576453, -0.04970647, -0.07404272],\n",
       "       [ 0.05001433, -0.04832968, -0.0577334 ],\n",
       "       [ 0.11192508, -0.09128649, -0.07252439],\n",
       "       [ 0.06285954, -0.07799953, -0.07542702],\n",
       "       [-0.06008394,  0.01884914,  0.00663461],\n",
       "       [-0.05677643,  0.01673241,  0.02490715],\n",
       "       [-0.06625183,  0.06937146,  0.06599149],\n",
       "       [ 0.02383399,  0.03705232,  0.03745413],\n",
       "       [-0.08792584,  0.01976788,  0.06394825],\n",
       "       [-0.04984536,  0.05295388,  0.00982093],\n",
       "       [ 0.00734242,  0.08901951,  0.01151886],\n",
       "       [-0.03085511, -0.03642254,  0.0594529 ],\n",
       "       [-0.06008353,  0.01884911,  0.00663492],\n",
       "       [-0.05677645,  0.01673241,  0.02490693],\n",
       "       [-0.06625131,  0.06937139,  0.06599171],\n",
       "       [ 0.02383386,  0.03705246,  0.03745428],\n",
       "       [-0.08792551,  0.01976844,  0.06394832],\n",
       "       [-0.0498457 ,  0.05295417,  0.00982032],\n",
       "       [ 0.00734224,  0.08901925,  0.01151882],\n",
       "       [-0.03085609, -0.03642379,  0.05945253],\n",
       "       [ 0.0957644 , -0.04970667, -0.07404261],\n",
       "       [ 0.05001444, -0.0483301 , -0.05773367],\n",
       "       [ 0.1119251 , -0.09128642, -0.07252394],\n",
       "       [ 0.06285958, -0.07800001, -0.0754272 ],\n",
       "       [ 0.09576432, -0.04970662, -0.07404269],\n",
       "       [ 0.05001441, -0.04832989, -0.0577336 ],\n",
       "       [ 0.11192466, -0.09128682, -0.07252436],\n",
       "       [ 0.06285994, -0.07799975, -0.07542711],\n",
       "       [-0.06008482,  0.01884843,  0.00663408],\n",
       "       [-0.05677843,  0.01673135,  0.02490582],\n",
       "       [-0.06625083,  0.06937087,  0.06599182],\n",
       "       [ 0.0238341 ,  0.03705212,  0.03745414],\n",
       "       [-0.08792545,  0.01976767,  0.06394833],\n",
       "       [-0.04984519,  0.05295349,  0.00982083],\n",
       "       [ 0.00734206,  0.08901974,  0.01151882],\n",
       "       [-0.03085537, -0.03642227,  0.05945277],\n",
       "       [-0.06008453,  0.01884844,  0.00663421],\n",
       "       [-0.05677829,  0.01673133,  0.0249058 ],\n",
       "       [-0.06625052,  0.06937093,  0.06599182],\n",
       "       [ 0.02383398,  0.0370523 ,  0.03745413],\n",
       "       [-0.08792512,  0.01976836,  0.06394838],\n",
       "       [-0.04984533,  0.05295385,  0.00982025],\n",
       "       [ 0.00734197,  0.08901956,  0.01151893],\n",
       "       [-0.03085623, -0.03642359,  0.05945252],\n",
       "       [ 0.09576446, -0.04970644, -0.07404296],\n",
       "       [ 0.05001448, -0.04832964, -0.05773363],\n",
       "       [ 0.11192515, -0.09128612, -0.07252409],\n",
       "       [ 0.06285931, -0.07799998, -0.07542742],\n",
       "       [ 0.09576446, -0.04970625, -0.07404288],\n",
       "       [ 0.0500144 , -0.04832962, -0.05773356],\n",
       "       [ 0.11192477, -0.09128653, -0.07252463],\n",
       "       [ 0.06285978, -0.07799967, -0.07542715],\n",
       "       [-0.06008399,  0.01884925,  0.00663481],\n",
       "       [-0.05677686,  0.0167328 ,  0.02490693],\n",
       "       [-0.06625143,  0.0693715 ,  0.06599172],\n",
       "       [ 0.02383377,  0.0370525 ,  0.0374544 ],\n",
       "       [-0.08792628,  0.01976766,  0.0639479 ],\n",
       "       [-0.04984566,  0.05295391,  0.00982061],\n",
       "       [ 0.00734238,  0.08901963,  0.01151936],\n",
       "       [-0.03085484, -0.03642176,  0.05945314],\n",
       "       [-0.06008383,  0.01884924,  0.00663492],\n",
       "       [-0.05677682,  0.01673256,  0.02490692],\n",
       "       [-0.06625138,  0.06937134,  0.06599171],\n",
       "       [ 0.02383391,  0.03705242,  0.03745428],\n",
       "       [-0.08792552,  0.01976861,  0.06394836],\n",
       "       [-0.04984557,  0.05295424,  0.0098203 ],\n",
       "       [ 0.00734239,  0.08901965,  0.01151945],\n",
       "       [-0.03085573, -0.03642299,  0.05945295],\n",
       "       [ 0.09576431, -0.04970673, -0.07404261],\n",
       "       [ 0.05001423, -0.04832995, -0.05773357],\n",
       "       [ 0.11192504, -0.0912867 , -0.07252422],\n",
       "       [ 0.06285949, -0.07799955, -0.07542706],\n",
       "       [ 0.09576429, -0.04970669, -0.07404262],\n",
       "       [ 0.05001443, -0.04833006, -0.05773353],\n",
       "       [ 0.11192472, -0.09128689, -0.07252436],\n",
       "       [ 0.06286006, -0.07799933, -0.07542665],\n",
       "       [-0.06008508,  0.01884866,  0.0066342 ],\n",
       "       [-0.05677861,  0.01673162,  0.02490586],\n",
       "       [-0.06625059,  0.06937084,  0.06599179],\n",
       "       [ 0.02383392,  0.03705239,  0.03745431],\n",
       "       [-0.08792584,  0.01976755,  0.06394789],\n",
       "       [-0.04984557,  0.05295354,  0.00982054],\n",
       "       [ 0.007342  ,  0.08901993,  0.01151935],\n",
       "       [-0.03085506, -0.03642161,  0.05945317],\n",
       "       [-0.06008494,  0.01884859,  0.00663422],\n",
       "       [-0.05677878,  0.01673141,  0.02490584],\n",
       "       [-0.0662505 ,  0.0693708 ,  0.0659918 ],\n",
       "       [ 0.02383393,  0.03705236,  0.03745423],\n",
       "       [-0.08792503,  0.01976853,  0.06394835],\n",
       "       [-0.04984521,  0.05295397,  0.00982028],\n",
       "       [ 0.00734202,  0.0890198 ,  0.01151947],\n",
       "       [-0.03085588, -0.03642284,  0.05945291],\n",
       "       [ 0.09576437, -0.04970644, -0.07404286],\n",
       "       [ 0.05001413, -0.04832952, -0.05773344],\n",
       "       [ 0.11192505, -0.09128638, -0.07252438],\n",
       "       [ 0.06285929, -0.07799951, -0.07542718],\n",
       "       [ 0.09576443, -0.04970634, -0.07404291],\n",
       "       [ 0.05001445, -0.04832965, -0.05773344],\n",
       "       [ 0.11192471, -0.09128671, -0.07252447],\n",
       "       [ 0.0628598 , -0.07799914, -0.07542679]], dtype=float32)"
      ]
     },
     "execution_count": 59,
     "metadata": {},
     "output_type": "execute_result"
    }
   ],
   "source": [
    "atoms.get_forces()"
   ]
  },
  {
   "cell_type": "code",
   "execution_count": 60,
   "metadata": {},
   "outputs": [
    {
     "name": "stderr",
     "output_type": "stream",
     "text": [
      "You are running in `Trainer(barebones=True)` mode. All features that may impact raw speed have been disabled to facilitate analyzing the Trainer overhead. Specifically, the following features are deactivated:\n",
      " - Checkpointing: `Trainer(enable_checkpointing=True)`\n",
      " - Progress bar: `Trainer(enable_progress_bar=True)`\n",
      " - Model summary: `Trainer(enable_model_summary=True)`\n",
      " - Logging: `Trainer(logger=True)`, `Trainer(log_every_n_steps>0)`, `LightningModule.log(...)`, `LightningModule.log_dict(...)`\n",
      " - Sanity checking: `Trainer(num_sanity_val_steps>0)`\n",
      " - Development run: `Trainer(fast_dev_run=True)`\n",
      " - Anomaly detection: `Trainer(detect_anomaly=True)`\n",
      " - Profiling: `Trainer(profiler=...)`\n",
      "GPU available: False, used: False\n",
      "TPU available: False, using: 0 TPU cores\n",
      "HPU available: False, using: 0 HPUs\n",
      "`Trainer(barebones=True)` started running. The progress bar is disabled so you might want to manually print the progress in your model.\n"
     ]
    },
    {
     "data": {
      "text/plain": [
       "array([[-0.05746779,  0.00080313,  0.12661447],\n",
       "       [-0.10788871, -0.02014599,  0.05303428],\n",
       "       [ 0.05374903,  0.05866078, -0.03771198],\n",
       "       [-0.01675874,  0.13633163, -0.08589168],\n",
       "       [-0.04854517,  0.11762728,  0.13012366],\n",
       "       [-0.04776288, -0.023279  , -0.03332747],\n",
       "       [-0.08673859,  0.12991345,  0.1950409 ],\n",
       "       [-0.15330528,  0.01722046,  0.01433091],\n",
       "       [ 0.00583186,  0.03620213, -0.03271572],\n",
       "       [ 0.0959549 , -0.09083721, -0.02315849],\n",
       "       [ 0.12546074, -0.188864  , -0.15655266],\n",
       "       [ 0.01770594, -0.01356754, -0.02894782],\n",
       "       [-0.06997534,  0.2795211 , -0.14156042],\n",
       "       [ 0.00067682,  0.03435623,  0.04708203],\n",
       "       [-0.05347244,  0.08428054,  0.10131614],\n",
       "       [-0.04653954, -0.01101781,  0.07732672],\n",
       "       [-0.03427304,  0.05284649, -0.00170678],\n",
       "       [-0.06692598,  0.00469148,  0.01999888],\n",
       "       [-0.04072165,  0.06063529,  0.04145567],\n",
       "       [ 0.04041349, -0.03222631, -0.05054692],\n",
       "       [-0.04039866, -0.05009482, -0.05843851],\n",
       "       [ 0.05238361, -0.0567369 , -0.03081266],\n",
       "       [-0.02509111,  0.03323294,  0.00440437],\n",
       "       [-0.07414651,  0.11365777,  0.1278693 ],\n",
       "       [-0.04145348,  0.07414425,  0.07896274],\n",
       "       [-0.03147309,  0.07358564,  0.01857428],\n",
       "       [-0.29481828,  0.01055594,  0.07923152],\n",
       "       [-0.06364088,  0.06013095,  0.13104524],\n",
       "       [ 0.18147598, -0.10203415, -0.02690416],\n",
       "       [ 0.0877487 , -0.20183621, -0.15502264],\n",
       "       [ 0.12292515, -0.11834033, -0.05607659],\n",
       "       [ 0.07352281, -0.11120629, -0.08362025],\n",
       "       [ 0.03569971,  0.10807423,  0.12297915],\n",
       "       [ 0.01164739,  0.12568331,  0.19444455],\n",
       "       [ 0.08008885, -0.07219762,  0.03893185],\n",
       "       [-0.16358836,  0.20436439,  0.12073258],\n",
       "       [ 0.04235743,  0.06183349,  0.09550387],\n",
       "       [-0.04614088, -0.04419177, -0.13360392],\n",
       "       [ 0.05623539, -0.00115691,  0.00865377],\n",
       "       [-0.10019093,  0.02093958,  0.03137303],\n",
       "       [ 0.00824299,  0.10919914,  0.11576936],\n",
       "       [ 0.04400096, -0.0317745 , -0.06482049],\n",
       "       [ 0.02228944, -0.21511763, -0.16814096],\n",
       "       [ 0.11046112, -0.10329524, -0.1210779 ],\n",
       "       [ 0.09959247, -0.15584616, -0.12086402],\n",
       "       [ 0.04724079, -0.04562012, -0.02803548],\n",
       "       [ 0.09083033, -0.17897908, -0.20121743],\n",
       "       [ 0.03007246,  0.12501824,  0.05866034],\n",
       "       [-0.03958027,  0.10788036,  0.03716563],\n",
       "       [-0.05022792, -0.00060538,  0.01364607],\n",
       "       [ 0.09559278, -0.10833327, -0.05784501],\n",
       "       [ 0.05945748, -0.10620674, -0.07303656],\n",
       "       [ 0.01620101,  0.07582825,  0.07243928],\n",
       "       [-0.00030295, -0.04490601, -0.0761831 ],\n",
       "       [-0.04084014, -0.03967562, -0.12244578],\n",
       "       [-0.05983261,  0.021871  ,  0.04875818],\n",
       "       [-0.07542018,  0.16386512,  0.13100907],\n",
       "       [-0.05707262, -0.00652805,  0.02204182],\n",
       "       [-0.04192838,  0.03687527,  0.04420747],\n",
       "       [ 0.03881872, -0.04819084, -0.02467954],\n",
       "       [ 0.15659486, -0.10409219, -0.01386343],\n",
       "       [ 0.0185597 , -0.13102508, -0.14730923],\n",
       "       [ 0.15468909, -0.08190122, -0.0466099 ]], dtype=float32)"
      ]
     },
     "execution_count": 60,
     "metadata": {},
     "output_type": "execute_result"
    }
   ],
   "source": [
    "partitioned_atoms[0].get_forces()"
   ]
  }
 ],
 "metadata": {
  "kernelspec": {
   "display_name": "orb-partitioning",
   "language": "python",
   "name": "python3"
  },
  "language_info": {
   "codemirror_mode": {
    "name": "ipython",
    "version": 3
   },
   "file_extension": ".py",
   "mimetype": "text/x-python",
   "name": "python",
   "nbconvert_exporter": "python",
   "pygments_lexer": "ipython3",
   "version": "3.10.16"
  }
 },
 "nbformat": 4,
 "nbformat_minor": 2
}
