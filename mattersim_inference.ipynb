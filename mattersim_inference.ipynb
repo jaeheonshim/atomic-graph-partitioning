{
 "cells": [
  {
   "cell_type": "markdown",
   "metadata": {},
   "source": [
    "# Testing mattersim inference"
   ]
  },
  {
   "cell_type": "code",
   "execution_count": 4,
   "metadata": {},
   "outputs": [
    {
     "name": "stderr",
     "output_type": "stream",
     "text": [
      "/opt/anaconda3/envs/orb-partitioning/lib/python3.10/site-packages/mattersim/forcefield/potential.py:896: FutureWarning: You are using `torch.load` with `weights_only=False` (the current default value), which uses the default pickle module implicitly. It is possible to construct malicious pickle data which will execute arbitrary code during unpickling (See https://github.com/pytorch/pytorch/blob/main/SECURITY.md#untrusted-models for more details). In a future release, the default value for `weights_only` will be flipped to `True`. This limits the functions that could be executed during unpickling. Arbitrary objects will no longer be allowed to be loaded via this mode unless they are explicitly allowlisted by the user via `torch.serialization.add_safe_globals`. We recommend you start setting `weights_only=True` for any use case where you don't have full control of the loaded file. Please open an issue on GitHub for any issues related to this experimental feature.\n",
      "  checkpoint = torch.load(load_path, map_location=device)\n"
     ]
    }
   ],
   "source": [
    "import torch\n",
    "from loguru import logger\n",
    "from ase.build import bulk\n",
    "from ase.units import GPa\n",
    "from mattersim.forcefield import MatterSimCalculator\n",
    "\n",
    "device = \"cuda\" if torch.cuda.is_available() else \"cpu\"\n",
    "logger.info(f\"Running MatterSim on {device}\")\n",
    "\n",
    "si = bulk(\"Si\", \"diamond\", a=5.43)\n",
    "si.calc = MatterSimCalculator(device=device)\n",
    "logger.info(f\"Energy (eV)                 = {si.get_potential_energy()}\")\n",
    "logger.info(f\"Energy per atom (eV/atom)   = {si.get_potential_energy()/len(si)}\")\n",
    "logger.info(f\"Forces of first atom (eV/A) = {si.get_forces()[0]}\")\n",
    "logger.info(f\"Stress[0][0] (eV/A^3)       = {si.get_stress(voigt=False)[0][0]}\")\n",
    "logger.info(f\"Stress[0][0] (GPa)          = {si.get_stress(voigt=False)[0][0] / GPa}\")"
   ]
  }
 ],
 "metadata": {
  "kernelspec": {
   "display_name": "orb-partitioning",
   "language": "python",
   "name": "python3"
  },
  "language_info": {
   "codemirror_mode": {
    "name": "ipython",
    "version": 3
   },
   "file_extension": ".py",
   "mimetype": "text/x-python",
   "name": "python",
   "nbconvert_exporter": "python",
   "pygments_lexer": "ipython3",
   "version": "3.10.16"
  }
 },
 "nbformat": 4,
 "nbformat_minor": 2
}
