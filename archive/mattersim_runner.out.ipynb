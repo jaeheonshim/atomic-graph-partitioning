{
 "cells": [
  {
   "cell_type": "markdown",
   "id": "2ac13caf",
   "metadata": {
    "tags": [
     "papermill-error-cell-tag"
    ]
   },
   "source": [
    "<span style=\"color:red; font-family:Helvetica Neue, Helvetica, Arial, sans-serif; font-size:2em;\">An Exception was encountered at '<a href=\"#papermill-error-cell\">In [5]</a>'.</span>"
   ]
  },
  {
   "cell_type": "markdown",
   "id": "a95ebfd3",
   "metadata": {
    "papermill": {
     "duration": 0.004901,
     "end_time": "2025-02-19T15:26:47.835864",
     "exception": false,
     "start_time": "2025-02-19T15:26:47.830963",
     "status": "completed"
    },
    "tags": []
   },
   "source": [
    "This notebook runs the mattersim.ipynb on various parameters"
   ]
  },
  {
   "cell_type": "code",
   "execution_count": 1,
   "id": "21c72625",
   "metadata": {
    "execution": {
     "iopub.execute_input": "2025-02-19T15:26:47.841547Z",
     "iopub.status.busy": "2025-02-19T15:26:47.841421Z",
     "iopub.status.idle": "2025-02-19T15:26:54.591354Z",
     "shell.execute_reply": "2025-02-19T15:26:54.590981Z"
    },
    "papermill": {
     "duration": 6.753138,
     "end_time": "2025-02-19T15:26:54.592282",
     "exception": false,
     "start_time": "2025-02-19T15:26:47.839144",
     "status": "completed"
    },
    "tags": []
   },
   "outputs": [],
   "source": [
    "import papermill as pm\n",
    "import scrapbook as sb"
   ]
  },
  {
   "cell_type": "code",
   "execution_count": 2,
   "id": "6c4eac7d",
   "metadata": {
    "execution": {
     "iopub.execute_input": "2025-02-19T15:26:54.598302Z",
     "iopub.status.busy": "2025-02-19T15:26:54.597770Z",
     "iopub.status.idle": "2025-02-19T15:26:54.600207Z",
     "shell.execute_reply": "2025-02-19T15:26:54.599919Z"
    },
    "papermill": {
     "duration": 0.006084,
     "end_time": "2025-02-19T15:26:54.600855",
     "exception": false,
     "start_time": "2025-02-19T15:26:54.594771",
     "status": "completed"
    },
    "tags": []
   },
   "outputs": [],
   "source": [
    "output_file = \"output.temp.ipynb\""
   ]
  },
  {
   "cell_type": "code",
   "execution_count": 3,
   "id": "8ce0334d",
   "metadata": {
    "execution": {
     "iopub.execute_input": "2025-02-19T15:26:54.606174Z",
     "iopub.status.busy": "2025-02-19T15:26:54.605728Z",
     "iopub.status.idle": "2025-02-19T15:26:54.608778Z",
     "shell.execute_reply": "2025-02-19T15:26:54.608458Z"
    },
    "papermill": {
     "duration": 0.00618,
     "end_time": "2025-02-19T15:26:54.609396",
     "exception": false,
     "start_time": "2025-02-19T15:26:54.603216",
     "status": "completed"
    },
    "tags": []
   },
   "outputs": [],
   "source": [
    "# data for plotting\n",
    "\n",
    "num_atoms = []\n",
    "energy_error_abs = []\n",
    "energy_error_pct = []\n",
    "energy_error_max = []\n",
    "\n",
    "def append_nb_data():\n",
    "    nb = sb.read_notebook(output_file)\n",
    "\n",
    "    num_atoms.append(nb.scraps[\"num_atoms\"].data)\n",
    "    energy_error_abs.append(nb.scraps[\"energy_error_abs\"].data)\n",
    "    energy_error_pct.append(nb.scraps[\"energy_error_pct\"].data)\n",
    "    energy_error_max.append(nb.scraps[\"energy_error_max\"].data)"
   ]
  },
  {
   "cell_type": "code",
   "execution_count": 4,
   "id": "75a9f989",
   "metadata": {
    "execution": {
     "iopub.execute_input": "2025-02-19T15:26:54.614599Z",
     "iopub.status.busy": "2025-02-19T15:26:54.614154Z",
     "iopub.status.idle": "2025-02-19T15:26:54.617395Z",
     "shell.execute_reply": "2025-02-19T15:26:54.617108Z"
    },
    "papermill": {
     "duration": 0.006484,
     "end_time": "2025-02-19T15:26:54.618019",
     "exception": false,
     "start_time": "2025-02-19T15:26:54.611535",
     "status": "completed"
    },
    "tags": []
   },
   "outputs": [],
   "source": [
    "trials = [\n",
    "    {\n",
    "        \"supercell_scaling\": [[1, 0, 0], [0, 1, 0], [0, 0, 1]]\n",
    "    },\n",
    "    {\n",
    "        \"supercell_scaling\": [[2, 0, 0], [0, 2, 0], [0, 0, 2]]\n",
    "    },\n",
    "    {\n",
    "        \"supercell_scaling\": [[3, 0, 0], [0, 3, 0], [0, 0, 3]]\n",
    "    },\n",
    "    {\n",
    "        \"supercell_scaling\": [[4, 0, 0], [0, 4, 0], [0, 0, 4]]\n",
    "    },\n",
    "    {\n",
    "        \"supercell_scaling\": [[4, 0, 0], [0, 4, 0], [0, 0, 5]]\n",
    "    }\n",
    "]"
   ]
  },
  {
   "cell_type": "markdown",
   "id": "2ed4963e",
   "metadata": {
    "tags": [
     "papermill-error-cell-tag"
    ]
   },
   "source": [
    "<span id=\"papermill-error-cell\" style=\"color:red; font-family:Helvetica Neue, Helvetica, Arial, sans-serif; font-size:2em;\">Execution using papermill encountered an exception here and stopped:</span>"
   ]
  },
  {
   "cell_type": "code",
   "execution_count": 5,
   "id": "d03f72e8",
   "metadata": {
    "execution": {
     "iopub.execute_input": "2025-02-19T15:26:54.623502Z",
     "iopub.status.busy": "2025-02-19T15:26:54.623062Z",
     "iopub.status.idle": "2025-02-19T15:27:41.203589Z",
     "shell.execute_reply": "2025-02-19T15:27:41.202814Z"
    },
    "papermill": {
     "duration": 46.58363,
     "end_time": "2025-02-19T15:27:41.204052",
     "exception": true,
     "start_time": "2025-02-19T15:26:54.620422",
     "status": "failed"
    },
    "tags": []
   },
   "outputs": [
    {
     "name": "stderr",
     "output_type": "stream",
     "text": [
      "/storage/home/hcoda1/7/jshim87/.conda/envs/graph_partitioning/lib/python3.11/site-packages/tqdm/auto.py:21: TqdmWarning: IProgress not found. Please update jupyter and ipywidgets. See https://ipywidgets.readthedocs.io/en/stable/user_install.html\n",
      "  from .autonotebook import tqdm as notebook_tqdm\n"
     ]
    },
    {
     "name": "stderr",
     "output_type": "stream",
     "text": [
      "\r\n",
      "Executing:   0%|          | 0/25 [00:00<?, ?cell/s]"
     ]
    },
    {
     "name": "stderr",
     "output_type": "stream",
     "text": [
      "\r\n",
      "Executing:   4%|▍         | 1/25 [00:00<00:20,  1.15cell/s]"
     ]
    },
    {
     "name": "stderr",
     "output_type": "stream",
     "text": [
      "\r\n",
      "Executing:  16%|█▌        | 4/25 [00:42<04:01, 11.49s/cell]"
     ]
    },
    {
     "name": "stderr",
     "output_type": "stream",
     "text": [
      "\r\n",
      "Executing:  16%|█▌        | 4/25 [00:46<04:01, 11.52s/cell]"
     ]
    },
    {
     "name": "stderr",
     "output_type": "stream",
     "text": [
      "\n"
     ]
    },
    {
     "ename": "PapermillExecutionError",
     "evalue": "\n---------------------------------------------------------------------------\nException encountered at \"In [3]\":\n---------------------------------------------------------------------------\nOSError                                   Traceback (most recent call last)\nFile ~/.conda/envs/graph_partitioning/lib/python3.11/site-packages/metis.py:430\n    429 try:\n--> 430     _dll = ctypes.cdll.LoadLibrary(_dll_filename)\n    431 except:\n\nFile ~/.conda/envs/graph_partitioning/lib/python3.11/ctypes/__init__.py:454, in LibraryLoader.LoadLibrary(self, name)\n    453 def LoadLibrary(self, name):\n--> 454     return self._dlltype(name)\n\nFile ~/.conda/envs/graph_partitioning/lib/python3.11/ctypes/__init__.py:376, in CDLL.__init__(self, name, mode, handle, use_errno, use_last_error, winmode)\n    375 if handle is None:\n--> 376     self._handle = _dlopen(self._name, mode)\n    377 else:\n\nOSError: /storage/home/hcoda1/7/jshim87/local/lib/libmetis.so: undefined symbol: gk_jbufs\n\nDuring handling of the above exception, another exception occurred:\n\nRuntimeError                              Traceback (most recent call last)\nCell In[3], line 10\n      6 import torch\n      8 from tqdm import tqdm\n---> 10 from partitioner import part_graph_extended\n     11 import networkx as nx\n\nFile ~/atomic-graph-partitioning/partitioner.py:2\n      1 import networkx as nx\n----> 2 import metis\n      4 from collections import deque\n      6 def part_graph_extended(G, desired_partitions, distance=None):\n\nFile ~/.conda/envs/graph_partitioning/lib/python3.11/site-packages/metis.py:432\n    430         _dll = ctypes.cdll.LoadLibrary(_dll_filename)\n    431     except:\n--> 432         raise RuntimeError('Could not load METIS dll: %s' % _dll_filename)\n    433 else:\n    434     if os.environ.get('READTHEDOCS', None) == 'True':\n    435         # Don't care if we can load the DLL on RTD.\n\nRuntimeError: Could not load METIS dll: /storage/home/hcoda1/7/jshim87/local/lib/libmetis.so\n",
     "output_type": "error",
     "traceback": [
      "\u001b[0;31m---------------------------------------------------------------------------\u001b[0m",
      "\u001b[0;31mPapermillExecutionError\u001b[0m                   Traceback (most recent call last)",
      "Cell \u001b[0;32mIn[5], line 2\u001b[0m\n\u001b[1;32m      1\u001b[0m \u001b[38;5;28;01mfor\u001b[39;00m param \u001b[38;5;129;01min\u001b[39;00m trials:\n\u001b[0;32m----> 2\u001b[0m     pm\u001b[38;5;241m.\u001b[39mexecute_notebook(\u001b[38;5;124m\"\u001b[39m\u001b[38;5;124mmattersim.ipynb\u001b[39m\u001b[38;5;124m\"\u001b[39m, output_file, parameters\u001b[38;5;241m=\u001b[39mparam)\n\u001b[1;32m      3\u001b[0m     append_nb_data()\n",
      "File \u001b[0;32m~/.conda/envs/graph_partitioning/lib/python3.11/site-packages/papermill/execute.py:131\u001b[0m, in \u001b[0;36mexecute_notebook\u001b[0;34m(input_path, output_path, parameters, engine_name, request_save_on_cell_execute, prepare_only, kernel_name, language, progress_bar, log_output, stdout_file, stderr_file, start_timeout, report_mode, cwd, **engine_kwargs)\u001b[0m\n\u001b[1;32m    116\u001b[0m         nb \u001b[38;5;241m=\u001b[39m papermill_engines\u001b[38;5;241m.\u001b[39mexecute_notebook_with_engine(\n\u001b[1;32m    117\u001b[0m             engine_name,\n\u001b[1;32m    118\u001b[0m             nb,\n\u001b[0;32m   (...)\u001b[0m\n\u001b[1;32m    127\u001b[0m             \u001b[38;5;241m*\u001b[39m\u001b[38;5;241m*\u001b[39mengine_kwargs,\n\u001b[1;32m    128\u001b[0m         )\n\u001b[1;32m    130\u001b[0m     \u001b[38;5;66;03m# Check for errors first (it saves on error before raising)\u001b[39;00m\n\u001b[0;32m--> 131\u001b[0m     raise_for_execution_errors(nb, output_path)\n\u001b[1;32m    133\u001b[0m \u001b[38;5;66;03m# Write final output in case the engine didn't write it on cell completion.\u001b[39;00m\n\u001b[1;32m    134\u001b[0m write_ipynb(nb, output_path)\n",
      "File \u001b[0;32m~/.conda/envs/graph_partitioning/lib/python3.11/site-packages/papermill/execute.py:251\u001b[0m, in \u001b[0;36mraise_for_execution_errors\u001b[0;34m(nb, output_path)\u001b[0m\n\u001b[1;32m    248\u001b[0m nb\u001b[38;5;241m.\u001b[39mcells\u001b[38;5;241m.\u001b[39minsert(\u001b[38;5;241m0\u001b[39m, error_msg_cell)\n\u001b[1;32m    250\u001b[0m write_ipynb(nb, output_path)\n\u001b[0;32m--> 251\u001b[0m \u001b[38;5;28;01mraise\u001b[39;00m error\n",
      "\u001b[0;31mPapermillExecutionError\u001b[0m: \n---------------------------------------------------------------------------\nException encountered at \"In [3]\":\n---------------------------------------------------------------------------\nOSError                                   Traceback (most recent call last)\nFile ~/.conda/envs/graph_partitioning/lib/python3.11/site-packages/metis.py:430\n    429 try:\n--> 430     _dll = ctypes.cdll.LoadLibrary(_dll_filename)\n    431 except:\n\nFile ~/.conda/envs/graph_partitioning/lib/python3.11/ctypes/__init__.py:454, in LibraryLoader.LoadLibrary(self, name)\n    453 def LoadLibrary(self, name):\n--> 454     return self._dlltype(name)\n\nFile ~/.conda/envs/graph_partitioning/lib/python3.11/ctypes/__init__.py:376, in CDLL.__init__(self, name, mode, handle, use_errno, use_last_error, winmode)\n    375 if handle is None:\n--> 376     self._handle = _dlopen(self._name, mode)\n    377 else:\n\nOSError: /storage/home/hcoda1/7/jshim87/local/lib/libmetis.so: undefined symbol: gk_jbufs\n\nDuring handling of the above exception, another exception occurred:\n\nRuntimeError                              Traceback (most recent call last)\nCell In[3], line 10\n      6 import torch\n      8 from tqdm import tqdm\n---> 10 from partitioner import part_graph_extended\n     11 import networkx as nx\n\nFile ~/atomic-graph-partitioning/partitioner.py:2\n      1 import networkx as nx\n----> 2 import metis\n      4 from collections import deque\n      6 def part_graph_extended(G, desired_partitions, distance=None):\n\nFile ~/.conda/envs/graph_partitioning/lib/python3.11/site-packages/metis.py:432\n    430         _dll = ctypes.cdll.LoadLibrary(_dll_filename)\n    431     except:\n--> 432         raise RuntimeError('Could not load METIS dll: %s' % _dll_filename)\n    433 else:\n    434     if os.environ.get('READTHEDOCS', None) == 'True':\n    435         # Don't care if we can load the DLL on RTD.\n\nRuntimeError: Could not load METIS dll: /storage/home/hcoda1/7/jshim87/local/lib/libmetis.so\n"
     ]
    }
   ],
   "source": [
    "for param in trials:\n",
    "    pm.execute_notebook(\"mattersim.ipynb\", output_file, parameters=param)\n",
    "    append_nb_data()"
   ]
  },
  {
   "cell_type": "code",
   "execution_count": null,
   "id": "048c04ad",
   "metadata": {
    "papermill": {
     "duration": null,
     "end_time": null,
     "exception": null,
     "start_time": null,
     "status": "pending"
    },
    "tags": []
   },
   "outputs": [],
   "source": [
    "import matplotlib.pyplot as plt\n",
    "plt.plot(num_atoms, energy_error_max, label=\"error_max\")\n",
    "plt.legend()\n",
    "plt.show()"
   ]
  }
 ],
 "metadata": {
  "kernelspec": {
   "display_name": "Python 3",
   "language": "python",
   "name": "python3"
  },
  "language_info": {
   "codemirror_mode": {
    "name": "ipython",
    "version": 3
   },
   "file_extension": ".py",
   "mimetype": "text/x-python",
   "name": "python",
   "nbconvert_exporter": "python",
   "pygments_lexer": "ipython3",
   "version": "3.11.11"
  },
  "papermill": {
   "default_parameters": {},
   "duration": 58.376419,
   "end_time": "2025-02-19T15:27:43.715442",
   "environment_variables": {},
   "exception": true,
   "input_path": "mattersim_runner.ipynb",
   "output_path": "mattersim_runner.out.ipynb",
   "parameters": {},
   "start_time": "2025-02-19T15:26:45.339023",
   "version": "2.6.0"
  }
 },
 "nbformat": 4,
 "nbformat_minor": 5
}
