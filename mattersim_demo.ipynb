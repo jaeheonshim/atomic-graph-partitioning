{
 "cells": [
  {
   "cell_type": "code",
   "execution_count": 1,
   "metadata": {},
   "outputs": [
    {
     "name": "stdout",
     "output_type": "stream",
     "text": [
      "\u001b[32m2025-02-25 20:13:44.608\u001b[0m | \u001b[1mINFO    \u001b[0m | \u001b[36m__main__\u001b[0m:\u001b[36m<module>\u001b[0m:\u001b[36m8\u001b[0m - \u001b[1mRunning MatterSim on cpu\u001b[0m\n",
      "\u001b[32m2025-02-25 20:13:44.609\u001b[0m | \u001b[1mINFO    \u001b[0m | \u001b[36mmattersim.forcefield.potential\u001b[0m:\u001b[36mfrom_checkpoint\u001b[0m:\u001b[36m877\u001b[0m - \u001b[1mLoading the pre-trained mattersim-v1.0.0-1M.pth model\u001b[0m\n",
      "\u001b[32m2025-02-25 20:13:44.703\u001b[0m | \u001b[1mINFO    \u001b[0m | \u001b[36m__main__\u001b[0m:\u001b[36m<module>\u001b[0m:\u001b[36m12\u001b[0m - \u001b[1mEnergy (eV)                 = -10.825024604797363\u001b[0m\n",
      "\u001b[32m2025-02-25 20:13:44.703\u001b[0m | \u001b[1mINFO    \u001b[0m | \u001b[36m__main__\u001b[0m:\u001b[36m<module>\u001b[0m:\u001b[36m13\u001b[0m - \u001b[1mEnergy per atom (eV/atom)   = -5.412512302398682\u001b[0m\n"
     ]
    },
    {
     "name": "stderr",
     "output_type": "stream",
     "text": [
      "/opt/anaconda3/envs/orb-partitioning/lib/python3.10/site-packages/mattersim/forcefield/potential.py:896: FutureWarning: You are using `torch.load` with `weights_only=False` (the current default value), which uses the default pickle module implicitly. It is possible to construct malicious pickle data which will execute arbitrary code during unpickling (See https://github.com/pytorch/pytorch/blob/main/SECURITY.md#untrusted-models for more details). In a future release, the default value for `weights_only` will be flipped to `True`. This limits the functions that could be executed during unpickling. Arbitrary objects will no longer be allowed to be loaded via this mode unless they are explicitly allowlisted by the user via `torch.serialization.add_safe_globals`. We recommend you start setting `weights_only=True` for any use case where you don't have full control of the loaded file. Please open an issue on GitHub for any issues related to this experimental feature.\n",
      "  checkpoint = torch.load(load_path, map_location=device)\n"
     ]
    },
    {
     "name": "stdout",
     "output_type": "stream",
     "text": [
      "\u001b[32m2025-02-25 20:13:44.704\u001b[0m | \u001b[1mINFO    \u001b[0m | \u001b[36m__main__\u001b[0m:\u001b[36m<module>\u001b[0m:\u001b[36m14\u001b[0m - \u001b[1mForces of first atom (eV/A) = [-2.1215528e-06 -2.4568290e-06 -2.2407621e-06]\u001b[0m\n",
      "\u001b[32m2025-02-25 20:13:44.704\u001b[0m | \u001b[1mINFO    \u001b[0m | \u001b[36m__main__\u001b[0m:\u001b[36m<module>\u001b[0m:\u001b[36m15\u001b[0m - \u001b[1mStress[0][0] (eV/A^3)       = -0.010885622456194188\u001b[0m\n",
      "\u001b[32m2025-02-25 20:13:44.704\u001b[0m | \u001b[1mINFO    \u001b[0m | \u001b[36m__main__\u001b[0m:\u001b[36m<module>\u001b[0m:\u001b[36m16\u001b[0m - \u001b[1mStress[0][0] (GPa)          = -1.74406898021698\u001b[0m\n"
     ]
    }
   ],
   "source": [
    "import torch\n",
    "from loguru import logger\n",
    "from ase.build import bulk\n",
    "from ase.units import GPa\n",
    "from mattersim.forcefield import MatterSimCalculator\n",
    "\n",
    "device = \"cuda\" if torch.cuda.is_available() else \"cpu\"\n",
    "logger.info(f\"Running MatterSim on {device}\")\n",
    "\n",
    "si = bulk(\"Si\", \"diamond\", a=5.43)\n",
    "si.calc = MatterSimCalculator(device=device)\n",
    "logger.info(f\"Energy (eV)                 = {si.get_potential_energy()}\")\n",
    "logger.info(f\"Energy per atom (eV/atom)   = {si.get_potential_energy()/len(si)}\")\n",
    "logger.info(f\"Forces of first atom (eV/A) = {si.get_forces()[0]}\")\n",
    "logger.info(f\"Stress[0][0] (eV/A^3)       = {si.get_stress(voigt=False)[0][0]}\")\n",
    "logger.info(f\"Stress[0][0] (GPa)          = {si.get_stress(voigt=False)[0][0] / GPa}\")"
   ]
  }
 ],
 "metadata": {
  "kernelspec": {
   "display_name": "orb-partitioning",
   "language": "python",
   "name": "python3"
  },
  "language_info": {
   "codemirror_mode": {
    "name": "ipython",
    "version": 3
   },
   "file_extension": ".py",
   "mimetype": "text/x-python",
   "name": "python",
   "nbconvert_exporter": "python",
   "pygments_lexer": "ipython3",
   "version": "3.10.16"
  }
 },
 "nbformat": 4,
 "nbformat_minor": 2
}
