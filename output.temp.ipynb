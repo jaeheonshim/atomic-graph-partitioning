{
 "cells": [
  {
   "cell_type": "markdown",
   "id": "a4f1b68c",
   "metadata": {
    "papermill": {
     "duration": 0.003317,
     "end_time": "2025-02-19T05:25:14.339678",
     "exception": false,
     "start_time": "2025-02-19T05:25:14.336361",
     "status": "completed"
    },
    "tags": []
   },
   "source": [
    "# Extended Subgraph Partitioning (mattersim)"
   ]
  },
  {
   "cell_type": "code",
   "execution_count": 1,
   "id": "8f9be452",
   "metadata": {
    "execution": {
     "iopub.execute_input": "2025-02-19T05:25:14.345591Z",
     "iopub.status.busy": "2025-02-19T05:25:14.345202Z",
     "iopub.status.idle": "2025-02-19T05:25:14.349847Z",
     "shell.execute_reply": "2025-02-19T05:25:14.349588Z"
    },
    "papermill": {
     "duration": 0.00835,
     "end_time": "2025-02-19T05:25:14.350336",
     "exception": false,
     "start_time": "2025-02-19T05:25:14.341986",
     "status": "completed"
    },
    "tags": [
     "parameters"
    ]
   },
   "outputs": [],
   "source": [
    "# Papermill parameters\n",
    "\n",
    "supercell_scaling = [[2, 0, 0], [0, 2, 0], [0, 0, 2]]\n",
    "desired_partitions = 20\n",
    "neighborhood_distance = 5"
   ]
  },
  {
   "cell_type": "code",
   "execution_count": 2,
   "id": "574e8c46",
   "metadata": {
    "execution": {
     "iopub.execute_input": "2025-02-19T05:25:14.355370Z",
     "iopub.status.busy": "2025-02-19T05:25:14.355063Z",
     "iopub.status.idle": "2025-02-19T05:25:14.357332Z",
     "shell.execute_reply": "2025-02-19T05:25:14.356905Z"
    },
    "papermill": {
     "duration": 0.005504,
     "end_time": "2025-02-19T05:25:14.357958",
     "exception": false,
     "start_time": "2025-02-19T05:25:14.352454",
     "status": "completed"
    },
    "tags": [
     "injected-parameters"
    ]
   },
   "outputs": [],
   "source": [
    "# Parameters\n",
    "supercell_scaling = [[2, 0, 0], [0, 2, 0], [0, 0, 2]]\n"
   ]
  },
  {
   "cell_type": "code",
   "execution_count": 3,
   "id": "946dff59",
   "metadata": {
    "execution": {
     "iopub.execute_input": "2025-02-19T05:25:14.363019Z",
     "iopub.status.busy": "2025-02-19T05:25:14.362654Z",
     "iopub.status.idle": "2025-02-19T05:25:16.069357Z",
     "shell.execute_reply": "2025-02-19T05:25:16.068943Z"
    },
    "papermill": {
     "duration": 1.710607,
     "end_time": "2025-02-19T05:25:16.070723",
     "exception": false,
     "start_time": "2025-02-19T05:25:14.360116",
     "status": "completed"
    },
    "tags": []
   },
   "outputs": [],
   "source": [
    "# Imports\n",
    "\n",
    "import scrapbook as sb\n",
    "\n",
    "import numpy as np\n",
    "import torch\n",
    "\n",
    "from tqdm import tqdm\n",
    "\n",
    "from partitioner import part_graph_extended\n",
    "import networkx as nx"
   ]
  },
  {
   "cell_type": "markdown",
   "id": "a21dfff9",
   "metadata": {
    "papermill": {
     "duration": 0.002226,
     "end_time": "2025-02-19T05:25:16.076032",
     "exception": false,
     "start_time": "2025-02-19T05:25:16.073806",
     "status": "completed"
    },
    "tags": []
   },
   "source": [
    "## Partitioning Atoms"
   ]
  },
  {
   "cell_type": "markdown",
   "id": "28dfd611",
   "metadata": {
    "papermill": {
     "duration": 0.001758,
     "end_time": "2025-02-19T05:25:16.080191",
     "exception": false,
     "start_time": "2025-02-19T05:25:16.078433",
     "status": "completed"
    },
    "tags": []
   },
   "source": [
    "Loading a sample atomic dataset and converting it into a graph"
   ]
  },
  {
   "cell_type": "code",
   "execution_count": 4,
   "id": "45e65540",
   "metadata": {
    "execution": {
     "iopub.execute_input": "2025-02-19T05:25:16.085067Z",
     "iopub.status.busy": "2025-02-19T05:25:16.084670Z",
     "iopub.status.idle": "2025-02-19T05:25:17.644455Z",
     "shell.execute_reply": "2025-02-19T05:25:17.644110Z"
    },
    "papermill": {
     "duration": 1.563031,
     "end_time": "2025-02-19T05:25:17.645041",
     "exception": false,
     "start_time": "2025-02-19T05:25:16.082010",
     "status": "completed"
    },
    "tags": []
   },
   "outputs": [
    {
     "data": {
      "application/scrapbook.scrap.json+json": {
       "data": 3408,
       "encoder": "json",
       "name": "num_atoms",
       "version": 1
      }
     },
     "metadata": {
      "scrapbook": {
       "data": true,
       "display": false,
       "name": "num_atoms"
      }
     },
     "output_type": "display_data"
    },
    {
     "name": "stdout",
     "output_type": "stream",
     "text": [
      "Number of atoms 3408\n"
     ]
    }
   ],
   "source": [
    "from ase.io import read\n",
    "from ase.build import make_supercell\n",
    "from mattersim.datasets.utils.convertor import GraphConvertor\n",
    "from torch_geometric.utils import to_networkx\n",
    " \n",
    "atoms = read(\"datasets/test.xyz\")\n",
    "atoms = make_supercell(atoms, supercell_scaling)\n",
    "\n",
    "converter = GraphConvertor(\"m3gnet\", 5.0, True, 4.0)\n",
    "\n",
    "length = len(atoms)\n",
    "atom_graph = converter.convert(atoms.copy(), None, None, None)\n",
    "\n",
    "G = to_networkx(atom_graph)\n",
    "\n",
    "sb.glue(\"num_atoms\", len(atoms))\n",
    "print(\"Number of atoms\", len(atoms))"
   ]
  },
  {
   "cell_type": "markdown",
   "id": "8b0b963a",
   "metadata": {
    "papermill": {
     "duration": 0.002443,
     "end_time": "2025-02-19T05:25:17.650883",
     "exception": false,
     "start_time": "2025-02-19T05:25:17.648440",
     "status": "completed"
    },
    "tags": []
   },
   "source": [
    "Partition the computational graph into the number of desired partitions with the specified neighborhood distance"
   ]
  },
  {
   "cell_type": "code",
   "execution_count": 5,
   "id": "2ce444f5",
   "metadata": {
    "execution": {
     "iopub.execute_input": "2025-02-19T05:25:17.656719Z",
     "iopub.status.busy": "2025-02-19T05:25:17.656063Z",
     "iopub.status.idle": "2025-02-19T05:25:17.993658Z",
     "shell.execute_reply": "2025-02-19T05:25:17.993309Z"
    },
    "papermill": {
     "duration": 0.341322,
     "end_time": "2025-02-19T05:25:17.994226",
     "exception": false,
     "start_time": "2025-02-19T05:25:17.652904",
     "status": "completed"
    },
    "tags": []
   },
   "outputs": [
    {
     "name": "stdout",
     "output_type": "stream",
     "text": [
      "Created 20 partitions\n",
      "Average partition size: 3407.95\n"
     ]
    }
   ],
   "source": [
    "partitions, extended_partitions = part_graph_extended(G, desired_partitions, neighborhood_distance)\n",
    "\n",
    "num_partitions = len(partitions)\n",
    "\n",
    "print(f\"Created {num_partitions} partitions\")\n",
    "print(f\"Average partition size: {sum(len(x) for x in extended_partitions) / num_partitions}\")"
   ]
  },
  {
   "cell_type": "markdown",
   "id": "5938b465",
   "metadata": {
    "papermill": {
     "duration": 0.002166,
     "end_time": "2025-02-19T05:25:17.999301",
     "exception": false,
     "start_time": "2025-02-19T05:25:17.997135",
     "status": "completed"
    },
    "tags": []
   },
   "source": [
    "Create the ASE atoms object for each partition"
   ]
  },
  {
   "cell_type": "code",
   "execution_count": 6,
   "id": "11b53a86",
   "metadata": {
    "execution": {
     "iopub.execute_input": "2025-02-19T05:25:18.004336Z",
     "iopub.status.busy": "2025-02-19T05:25:18.003917Z",
     "iopub.status.idle": "2025-02-19T05:25:18.216928Z",
     "shell.execute_reply": "2025-02-19T05:25:18.216379Z"
    },
    "papermill": {
     "duration": 0.216982,
     "end_time": "2025-02-19T05:25:18.218174",
     "exception": false,
     "start_time": "2025-02-19T05:25:18.001192",
     "status": "completed"
    },
    "tags": []
   },
   "outputs": [],
   "source": [
    "from ase import Atoms\n",
    "\n",
    "partitioned_atoms = []\n",
    "indices_map = [] # Table mapping each atom in each partition back to its index in the original atoms object\n",
    "\n",
    "for part in extended_partitions:\n",
    "    current_partition = []\n",
    "    current_indices_map = []\n",
    "    for atom_index in part:\n",
    "        current_partition.append(atoms[atom_index])\n",
    "        current_indices_map.append(atoms[atom_index].index)\n",
    "\n",
    "    partitioned_atoms.append(Atoms(current_partition, cell=atoms.cell, pbc=atoms.pbc)) # It's important to pass atoms.cell and atoms.pbc here\n",
    "    indices_map.append(current_indices_map)"
   ]
  },
  {
   "cell_type": "code",
   "execution_count": 7,
   "id": "0883a71c",
   "metadata": {
    "execution": {
     "iopub.execute_input": "2025-02-19T05:25:18.224543Z",
     "iopub.status.busy": "2025-02-19T05:25:18.224368Z",
     "iopub.status.idle": "2025-02-19T05:25:18.239623Z",
     "shell.execute_reply": "2025-02-19T05:25:18.239262Z"
    },
    "papermill": {
     "duration": 0.018811,
     "end_time": "2025-02-19T05:25:18.240232",
     "exception": false,
     "start_time": "2025-02-19T05:25:18.221421",
     "status": "completed"
    },
    "tags": []
   },
   "outputs": [
    {
     "data": {
      "text/plain": [
       "Atoms(symbols='C880H2208Ga64S64Si192', pbc=True, cell=[[23.096664428710938, 13.334883689880371, 23.9624080657959], [-23.09648895263672, 13.334826469421387, 23.962270736694336], [3.831999856629409e-05, -26.669597625732422, 23.962278366088867]])"
      ]
     },
     "execution_count": 7,
     "metadata": {},
     "output_type": "execute_result"
    }
   ],
   "source": [
    "reconstructed_atoms = []\n",
    "for atom_index in range(len(atoms)):\n",
    "    reconstructed_atoms.append(atoms[atom_index])\n",
    "reconstructed_atoms = Atoms(reconstructed_atoms, cell=atoms.cell, pbc=atoms.pbc)\n",
    "\n",
    "reconstructed_atoms"
   ]
  },
  {
   "cell_type": "markdown",
   "id": "3d3b2e19",
   "metadata": {
    "papermill": {
     "duration": 0.00203,
     "end_time": "2025-02-19T05:25:18.245029",
     "exception": false,
     "start_time": "2025-02-19T05:25:18.242999",
     "status": "completed"
    },
    "tags": []
   },
   "source": [
    "## Inference"
   ]
  },
  {
   "cell_type": "code",
   "execution_count": 8,
   "id": "c0e4f2cc",
   "metadata": {
    "execution": {
     "iopub.execute_input": "2025-02-19T05:25:18.249841Z",
     "iopub.status.busy": "2025-02-19T05:25:18.249524Z",
     "iopub.status.idle": "2025-02-19T05:25:18.251609Z",
     "shell.execute_reply": "2025-02-19T05:25:18.251353Z"
    },
    "papermill": {
     "duration": 0.0051,
     "end_time": "2025-02-19T05:25:18.252061",
     "exception": false,
     "start_time": "2025-02-19T05:25:18.246961",
     "status": "completed"
    },
    "tags": []
   },
   "outputs": [],
   "source": [
    "device = \"cuda\" if torch.cuda.is_available() else \"cpu\""
   ]
  },
  {
   "cell_type": "markdown",
   "id": "732a2f1f",
   "metadata": {
    "papermill": {
     "duration": 0.0026,
     "end_time": "2025-02-19T05:25:18.256848",
     "exception": false,
     "start_time": "2025-02-19T05:25:18.254248",
     "status": "completed"
    },
    "tags": []
   },
   "source": [
    "I need to modify the M3Gnet model so that the node features can be intercepted before they are passed into the final MLP"
   ]
  },
  {
   "cell_type": "code",
   "execution_count": 9,
   "id": "468aea1c",
   "metadata": {
    "execution": {
     "iopub.execute_input": "2025-02-19T05:25:18.261980Z",
     "iopub.status.busy": "2025-02-19T05:25:18.261686Z",
     "iopub.status.idle": "2025-02-19T05:25:18.689103Z",
     "shell.execute_reply": "2025-02-19T05:25:18.688627Z"
    },
    "papermill": {
     "duration": 0.431296,
     "end_time": "2025-02-19T05:25:18.690136",
     "exception": false,
     "start_time": "2025-02-19T05:25:18.258840",
     "status": "completed"
    },
    "tags": []
   },
   "outputs": [],
   "source": [
    "from typing import Dict\n",
    "\n",
    "import os\n",
    "\n",
    "from mattersim.forcefield.m3gnet.m3gnet import M3Gnet\n",
    "from torch_runstats.scatter import scatter\n",
    "from mattersim.utils.download_utils import download_checkpoint\n",
    "\n",
    "class M3GnetModified(M3Gnet):\n",
    "    def forward(\n",
    "        self,\n",
    "        input: Dict[str, torch.Tensor],\n",
    "        dataset_idx: int = -1,\n",
    "    ) -> torch.Tensor:\n",
    "        # Exact data from input_dictionary\n",
    "        pos = input[\"atom_pos\"]\n",
    "        cell = input[\"cell\"]\n",
    "        pbc_offsets = input[\"pbc_offsets\"].float()\n",
    "        atom_attr = input[\"atom_attr\"]\n",
    "        edge_index = input[\"edge_index\"].long()\n",
    "        three_body_indices = input[\"three_body_indices\"].long()\n",
    "        num_three_body = input[\"num_three_body\"]\n",
    "        num_bonds = input[\"num_bonds\"]\n",
    "        num_triple_ij = input[\"num_triple_ij\"]\n",
    "        num_atoms = input[\"num_atoms\"]\n",
    "        num_graphs = input[\"num_graphs\"]\n",
    "        batch = input[\"batch\"]\n",
    "\n",
    "        # -------------------------------------------------------------#\n",
    "        cumsum = torch.cumsum(num_bonds, dim=0) - num_bonds\n",
    "        index_bias = torch.repeat_interleave(  # noqa: F501\n",
    "            cumsum, num_three_body, dim=0\n",
    "        ).unsqueeze(-1)\n",
    "        three_body_indices = three_body_indices + index_bias\n",
    "\n",
    "        # === Refer to the implementation of M3GNet,        ===\n",
    "        # === we should re-compute the following attributes ===\n",
    "        # edge_length, edge_vector(optional), triple_edge_length, theta_jik\n",
    "        atoms_batch = torch.repeat_interleave(repeats=num_atoms)\n",
    "        edge_batch = atoms_batch[edge_index[0]]\n",
    "        edge_vector = pos[edge_index[0]] - (\n",
    "            pos[edge_index[1]]\n",
    "            + torch.einsum(\"bi, bij->bj\", pbc_offsets, cell[edge_batch])\n",
    "        )\n",
    "        edge_length = torch.linalg.norm(edge_vector, dim=1)\n",
    "        vij = edge_vector[three_body_indices[:, 0].clone()]\n",
    "        vik = edge_vector[three_body_indices[:, 1].clone()]\n",
    "        rij = edge_length[three_body_indices[:, 0].clone()]\n",
    "        rik = edge_length[three_body_indices[:, 1].clone()]\n",
    "        cos_jik = torch.sum(vij * vik, dim=1) / (rij * rik)\n",
    "        # eps = 1e-7 avoid nan in torch.acos function\n",
    "        cos_jik = torch.clamp(cos_jik, min=-1.0 + 1e-7, max=1.0 - 1e-7)\n",
    "        triple_edge_length = rik.view(-1)\n",
    "        edge_length = edge_length.unsqueeze(-1)\n",
    "        atomic_numbers = atom_attr.squeeze(1).long()\n",
    "\n",
    "        # featurize\n",
    "        atom_attr = self.atom_embedding(self.one_hot_atoms(atomic_numbers))\n",
    "        edge_attr = self.rbf(edge_length.view(-1))\n",
    "        edge_attr_zero = edge_attr  # e_ij^0\n",
    "        edge_attr = self.edge_encoder(edge_attr)\n",
    "        three_basis = self.sbf(triple_edge_length, torch.acos(cos_jik))\n",
    "\n",
    "        # Main Loop\n",
    "        for idx, conv in enumerate(self.graph_conv):\n",
    "            atom_attr, edge_attr = conv(\n",
    "                atom_attr,\n",
    "                edge_attr,\n",
    "                edge_attr_zero,\n",
    "                edge_index,\n",
    "                three_basis,\n",
    "                three_body_indices,\n",
    "                edge_length,\n",
    "                num_bonds,\n",
    "                num_triple_ij,\n",
    "                num_atoms,\n",
    "            )\n",
    "\n",
    "        return atom_attr  # [batch_size]\n",
    "    \n",
    "def load_modified_from_checkpoint(\n",
    "    load_path: str = None,\n",
    "    *,\n",
    "    device: str = \"cuda\" if torch.cuda.is_available() else \"cpu\",\n",
    "):\n",
    "    checkpoint_folder = os.path.expanduser(\"~/.local/mattersim/pretrained_models\")\n",
    "    os.makedirs(checkpoint_folder, exist_ok=True)\n",
    "    if (\n",
    "        load_path is None\n",
    "        or load_path.lower() == \"mattersim-v1.0.0-1m.pth\"\n",
    "        or load_path.lower() == \"mattersim-v1.0.0-1m\"\n",
    "    ):\n",
    "        load_path = os.path.join(checkpoint_folder, \"mattersim-v1.0.0-1M.pth\")\n",
    "        if not os.path.exists(load_path):\n",
    "            print(\n",
    "                \"The pre-trained model is not found locally, \"\n",
    "                \"attempting to download it from the server.\"\n",
    "            )\n",
    "            download_checkpoint(\n",
    "                \"mattersim-v1.0.0-1M.pth\", save_folder=checkpoint_folder\n",
    "            )\n",
    "        print(f\"Loading the pre-trained {os.path.basename(load_path)} model\")\n",
    "    elif (\n",
    "        load_path.lower() == \"mattersim-v1.0.0-5m.pth\"\n",
    "        or load_path.lower() == \"mattersim-v1.0.0-5m\"\n",
    "    ):\n",
    "        load_path = os.path.join(checkpoint_folder, \"mattersim-v1.0.0-5M.pth\")\n",
    "        if not os.path.exists(load_path):\n",
    "            print(\n",
    "                \"The pre-trained model is not found locally, \"\n",
    "                \"attempting to download it from the server.\"\n",
    "            )\n",
    "            download_checkpoint(\n",
    "                \"mattersim-v1.0.0-5M.pth\", save_folder=checkpoint_folder\n",
    "            )\n",
    "        print(f\"Loading the pre-trained {os.path.basename(load_path)} model\")\n",
    "    else:\n",
    "        print(\"Loading the model from %s\" % load_path)\n",
    "    assert os.path.exists(load_path), f\"Model file {load_path} not found\"\n",
    "\n",
    "    checkpoint = torch.load(load_path, map_location=device)\n",
    "\n",
    "    model = M3GnetModified(device=device, **checkpoint[\"model_args\"]).to(device)\n",
    "    model.load_state_dict(checkpoint[\"model\"], strict=False)\n",
    "\n",
    "    model.eval()\n",
    "\n",
    "    return model"
   ]
  },
  {
   "cell_type": "code",
   "execution_count": 10,
   "id": "748cb73b",
   "metadata": {
    "execution": {
     "iopub.execute_input": "2025-02-19T05:25:18.697053Z",
     "iopub.status.busy": "2025-02-19T05:25:18.696662Z",
     "iopub.status.idle": "2025-02-19T05:25:18.733826Z",
     "shell.execute_reply": "2025-02-19T05:25:18.733355Z"
    },
    "papermill": {
     "duration": 0.041075,
     "end_time": "2025-02-19T05:25:18.734432",
     "exception": false,
     "start_time": "2025-02-19T05:25:18.693357",
     "status": "completed"
    },
    "tags": []
   },
   "outputs": [
    {
     "name": "stdout",
     "output_type": "stream",
     "text": [
      "Loading the pre-trained mattersim-v1.0.0-1M.pth model\n"
     ]
    },
    {
     "name": "stderr",
     "output_type": "stream",
     "text": [
      "/tmp/ipykernel_302143/1315528432.py:121: FutureWarning: You are using `torch.load` with `weights_only=False` (the current default value), which uses the default pickle module implicitly. It is possible to construct malicious pickle data which will execute arbitrary code during unpickling (See https://github.com/pytorch/pytorch/blob/main/SECURITY.md#untrusted-models for more details). In a future release, the default value for `weights_only` will be flipped to `True`. This limits the functions that could be executed during unpickling. Arbitrary objects will no longer be allowed to be loaded via this mode unless they are explicitly allowlisted by the user via `torch.serialization.add_safe_globals`. We recommend you start setting `weights_only=True` for any use case where you don't have full control of the loaded file. Please open an issue on GitHub for any issues related to this experimental feature.\n",
      "  checkpoint = torch.load(load_path, map_location=device)\n"
     ]
    }
   ],
   "source": [
    "model = load_modified_from_checkpoint(device=device)"
   ]
  },
  {
   "cell_type": "markdown",
   "id": "a1ae4a22",
   "metadata": {
    "papermill": {
     "duration": 0.002254,
     "end_time": "2025-02-19T05:25:18.739871",
     "exception": false,
     "start_time": "2025-02-19T05:25:18.737617",
     "status": "completed"
    },
    "tags": []
   },
   "source": [
    "Run inference on each partition"
   ]
  },
  {
   "cell_type": "code",
   "execution_count": 11,
   "id": "2f77d0cc",
   "metadata": {
    "execution": {
     "iopub.execute_input": "2025-02-19T05:25:18.745758Z",
     "iopub.status.busy": "2025-02-19T05:25:18.745196Z",
     "iopub.status.idle": "2025-02-19T05:26:21.963122Z",
     "shell.execute_reply": "2025-02-19T05:26:21.962459Z"
    },
    "papermill": {
     "duration": 63.221754,
     "end_time": "2025-02-19T05:26:21.963726",
     "exception": false,
     "start_time": "2025-02-19T05:25:18.741972",
     "status": "completed"
    },
    "tags": []
   },
   "outputs": [
    {
     "name": "stderr",
     "output_type": "stream",
     "text": [
      "\r",
      "  0%|          | 0/20 [00:00<?, ?it/s]"
     ]
    },
    {
     "name": "stderr",
     "output_type": "stream",
     "text": [
      "\r",
      "  5%|▌         | 1/20 [00:02<00:52,  2.75s/it]"
     ]
    },
    {
     "name": "stderr",
     "output_type": "stream",
     "text": [
      "\r",
      " 10%|█         | 2/20 [00:05<00:51,  2.86s/it]"
     ]
    },
    {
     "name": "stderr",
     "output_type": "stream",
     "text": [
      "\r",
      " 15%|█▌        | 3/20 [00:08<00:48,  2.87s/it]"
     ]
    },
    {
     "name": "stderr",
     "output_type": "stream",
     "text": [
      "\r",
      " 20%|██        | 4/20 [00:11<00:46,  2.89s/it]"
     ]
    },
    {
     "name": "stderr",
     "output_type": "stream",
     "text": [
      "\r",
      " 25%|██▌       | 5/20 [00:14<00:43,  2.88s/it]"
     ]
    },
    {
     "name": "stderr",
     "output_type": "stream",
     "text": [
      "\r",
      " 30%|███       | 6/20 [00:17<00:40,  2.89s/it]"
     ]
    },
    {
     "name": "stderr",
     "output_type": "stream",
     "text": [
      "\r",
      " 35%|███▌      | 7/20 [00:20<00:37,  2.90s/it]"
     ]
    },
    {
     "name": "stderr",
     "output_type": "stream",
     "text": [
      "\r",
      " 40%|████      | 8/20 [00:23<00:34,  2.90s/it]"
     ]
    },
    {
     "name": "stderr",
     "output_type": "stream",
     "text": [
      "\r",
      " 45%|████▌     | 9/20 [00:26<00:32,  2.92s/it]"
     ]
    },
    {
     "name": "stderr",
     "output_type": "stream",
     "text": [
      "\r",
      " 50%|█████     | 10/20 [00:29<00:29,  2.95s/it]"
     ]
    },
    {
     "name": "stderr",
     "output_type": "stream",
     "text": [
      "\r",
      " 55%|█████▌    | 11/20 [00:32<00:26,  2.96s/it]"
     ]
    },
    {
     "name": "stderr",
     "output_type": "stream",
     "text": [
      "\r",
      " 60%|██████    | 12/20 [00:35<00:23,  2.96s/it]"
     ]
    },
    {
     "name": "stderr",
     "output_type": "stream",
     "text": [
      "\r",
      " 65%|██████▌   | 13/20 [00:37<00:20,  2.95s/it]"
     ]
    },
    {
     "name": "stderr",
     "output_type": "stream",
     "text": [
      "\r",
      " 70%|███████   | 14/20 [00:40<00:17,  2.96s/it]"
     ]
    },
    {
     "name": "stderr",
     "output_type": "stream",
     "text": [
      "\r",
      " 75%|███████▌  | 15/20 [00:43<00:14,  2.97s/it]"
     ]
    },
    {
     "name": "stderr",
     "output_type": "stream",
     "text": [
      "\r",
      " 80%|████████  | 16/20 [00:46<00:11,  2.96s/it]"
     ]
    },
    {
     "name": "stderr",
     "output_type": "stream",
     "text": [
      "\r",
      " 85%|████████▌ | 17/20 [00:49<00:08,  2.96s/it]"
     ]
    },
    {
     "name": "stderr",
     "output_type": "stream",
     "text": [
      "\r",
      " 90%|█████████ | 18/20 [00:52<00:05,  2.96s/it]"
     ]
    },
    {
     "name": "stderr",
     "output_type": "stream",
     "text": [
      "\r",
      " 95%|█████████▌| 19/20 [00:55<00:02,  2.97s/it]"
     ]
    },
    {
     "name": "stderr",
     "output_type": "stream",
     "text": [
      "\r",
      "100%|██████████| 20/20 [00:58<00:00,  2.97s/it]"
     ]
    },
    {
     "name": "stderr",
     "output_type": "stream",
     "text": [
      "\r",
      "100%|██████████| 20/20 [00:58<00:00,  2.94s/it]"
     ]
    },
    {
     "name": "stderr",
     "output_type": "stream",
     "text": [
      "\n"
     ]
    }
   ],
   "source": [
    "from mattersim.forcefield.potential import batch_to_dict\n",
    "from torch_geometric.loader import DataLoader\n",
    "\n",
    "aggregated_atomic_numbers = torch.zeros((len(atoms), 1), dtype=torch.float32, device=device)\n",
    "aggregated_features = torch.zeros((len(atoms), 128), dtype=torch.float32, device=device)\n",
    "\n",
    "dataloader = DataLoader([converter.convert(part.copy(), None, None, None) for part in partitioned_atoms])\n",
    "\n",
    "for part_idx, input_graph in tqdm(enumerate(dataloader), total=num_partitions):\n",
    "    input_graph = input_graph.to(device)\n",
    "    input_dict = batch_to_dict(input_graph)\n",
    "    atomic_numbers = input_dict[\"atom_attr\"]\n",
    "\n",
    "    with torch.no_grad():\n",
    "        feat = model.forward(input_dict)\n",
    "\n",
    "    part = partitioned_atoms[part_idx]\n",
    "    for j, node in enumerate(part):\n",
    "        original_index = indices_map[part_idx][j]\n",
    "        if original_index in partitions[part_idx]: # If the node is a root node of the partition\n",
    "            aggregated_features[original_index] = feat[j]\n",
    "            aggregated_atomic_numbers[original_index] = atomic_numbers[j]\n",
    "\n",
    "    del input_graph, input_dict, atomic_numbers, feat\n",
    "    torch.cuda.empty_cache()"
   ]
  },
  {
   "cell_type": "code",
   "execution_count": 12,
   "id": "f689bcaa",
   "metadata": {
    "execution": {
     "iopub.execute_input": "2025-02-19T05:26:21.972572Z",
     "iopub.status.busy": "2025-02-19T05:26:21.972142Z",
     "iopub.status.idle": "2025-02-19T05:26:21.982978Z",
     "shell.execute_reply": "2025-02-19T05:26:21.982549Z"
    },
    "papermill": {
     "duration": 0.015185,
     "end_time": "2025-02-19T05:26:21.983508",
     "exception": false,
     "start_time": "2025-02-19T05:26:21.968323",
     "status": "completed"
    },
    "tags": []
   },
   "outputs": [
    {
     "data": {
      "application/scrapbook.scrap.json+json": {
       "data": -17662.1796875,
       "encoder": "json",
       "name": "partition_energy",
       "version": 1
      }
     },
     "metadata": {
      "scrapbook": {
       "data": true,
       "display": false,
       "name": "partition_energy"
      }
     },
     "output_type": "display_data"
    },
    {
     "data": {
      "text/plain": [
       "tensor([-17662.1797], grad_fn=<ScatterAddBackward0>)"
      ]
     },
     "execution_count": 12,
     "metadata": {},
     "output_type": "execute_result"
    }
   ],
   "source": [
    "atomic_numbers = aggregated_atomic_numbers.squeeze(1).long()\n",
    "batch = torch.zeros((len(atoms)), dtype=torch.int64, device=device)\n",
    "\n",
    "energy = model.final(aggregated_features).view(-1)\n",
    "energy = model.normalizer(energy, atomic_numbers)\n",
    "energy = scatter(energy, batch, dim=0, dim_size=1)\n",
    "\n",
    "sb.glue(\"partition_energy\", energy.item())\n",
    "energy"
   ]
  },
  {
   "cell_type": "markdown",
   "id": "7c68e2c1",
   "metadata": {
    "papermill": {
     "duration": 0.003183,
     "end_time": "2025-02-19T05:26:21.990258",
     "exception": false,
     "start_time": "2025-02-19T05:26:21.987075",
     "status": "completed"
    },
    "tags": []
   },
   "source": [
    "## Prediction"
   ]
  },
  {
   "cell_type": "markdown",
   "id": "c7b3a0b1",
   "metadata": {
    "papermill": {
     "duration": 0.002893,
     "end_time": "2025-02-19T05:26:21.995981",
     "exception": false,
     "start_time": "2025-02-19T05:26:21.993088",
     "status": "completed"
    },
    "tags": []
   },
   "source": [
    "Run the prediction on the original, unpartitioned graph to obtain a benchmark for our results"
   ]
  },
  {
   "cell_type": "code",
   "execution_count": 13,
   "id": "f5669b8d",
   "metadata": {
    "execution": {
     "iopub.execute_input": "2025-02-19T05:26:22.003542Z",
     "iopub.status.busy": "2025-02-19T05:26:22.003263Z",
     "iopub.status.idle": "2025-02-19T05:26:28.905131Z",
     "shell.execute_reply": "2025-02-19T05:26:28.904747Z"
    },
    "papermill": {
     "duration": 6.906448,
     "end_time": "2025-02-19T05:26:28.905743",
     "exception": false,
     "start_time": "2025-02-19T05:26:21.999295",
     "status": "completed"
    },
    "tags": []
   },
   "outputs": [
    {
     "name": "stderr",
     "output_type": "stream",
     "text": [
      "/opt/anaconda3/envs/orb-partitioning/lib/python3.10/site-packages/mattersim/forcefield/potential.py:896: FutureWarning: You are using `torch.load` with `weights_only=False` (the current default value), which uses the default pickle module implicitly. It is possible to construct malicious pickle data which will execute arbitrary code during unpickling (See https://github.com/pytorch/pytorch/blob/main/SECURITY.md#untrusted-models for more details). In a future release, the default value for `weights_only` will be flipped to `True`. This limits the functions that could be executed during unpickling. Arbitrary objects will no longer be allowed to be loaded via this mode unless they are explicitly allowlisted by the user via `torch.serialization.add_safe_globals`. We recommend you start setting `weights_only=True` for any use case where you don't have full control of the loaded file. Please open an issue on GitHub for any issues related to this experimental feature.\n",
      "  checkpoint = torch.load(load_path, map_location=device)\n"
     ]
    },
    {
     "data": {
      "application/scrapbook.scrap.json+json": {
       "data": -17662.1796875,
       "encoder": "json",
       "name": "benchmark_energy",
       "version": 1
      }
     },
     "metadata": {
      "scrapbook": {
       "data": true,
       "display": false,
       "name": "benchmark_energy"
      }
     },
     "output_type": "display_data"
    },
    {
     "data": {
      "text/plain": [
       "-17662.18"
      ]
     },
     "execution_count": 13,
     "metadata": {},
     "output_type": "execute_result"
    }
   ],
   "source": [
    "from mattersim.forcefield import MatterSimCalculator\n",
    "\n",
    "atoms.calc = MatterSimCalculator(device=device, compute_stress=False)\n",
    "benchmark_energy = atoms.get_potential_energy()\n",
    "\n",
    "sb.glue(\"benchmark_energy\", benchmark_energy.item())\n",
    "benchmark_energy"
   ]
  },
  {
   "cell_type": "markdown",
   "id": "90cdc381",
   "metadata": {
    "papermill": {
     "duration": 0.003552,
     "end_time": "2025-02-19T05:26:28.913965",
     "exception": false,
     "start_time": "2025-02-19T05:26:28.910413",
     "status": "completed"
    },
    "tags": []
   },
   "source": [
    "### Energy"
   ]
  },
  {
   "cell_type": "code",
   "execution_count": 14,
   "id": "4b5d6353",
   "metadata": {
    "execution": {
     "iopub.execute_input": "2025-02-19T05:26:28.921643Z",
     "iopub.status.busy": "2025-02-19T05:26:28.921122Z",
     "iopub.status.idle": "2025-02-19T05:26:28.928701Z",
     "shell.execute_reply": "2025-02-19T05:26:28.928213Z"
    },
    "papermill": {
     "duration": 0.012056,
     "end_time": "2025-02-19T05:26:28.929234",
     "exception": false,
     "start_time": "2025-02-19T05:26:28.917178",
     "status": "completed"
    },
    "tags": []
   },
   "outputs": [
    {
     "data": {
      "application/scrapbook.scrap.json+json": {
       "data": 0.0,
       "encoder": "json",
       "name": "energy_error_abs",
       "version": 1
      }
     },
     "metadata": {
      "scrapbook": {
       "data": true,
       "display": false,
       "name": "energy_error_abs"
      }
     },
     "output_type": "display_data"
    },
    {
     "data": {
      "application/scrapbook.scrap.json+json": {
       "data": 0.0,
       "encoder": "json",
       "name": "energy_error_pct",
       "version": 1
      }
     },
     "metadata": {
      "scrapbook": {
       "data": true,
       "display": false,
       "name": "energy_error_pct"
      }
     },
     "output_type": "display_data"
    },
    {
     "data": {
      "application/scrapbook.scrap.json+json": {
       "data": 0.0,
       "encoder": "json",
       "name": "energy_error_max",
       "version": 1
      }
     },
     "metadata": {
      "scrapbook": {
       "data": true,
       "display": false,
       "name": "energy_error_max"
      }
     },
     "output_type": "display_data"
    },
    {
     "name": "stdout",
     "output_type": "stream",
     "text": [
      "Absolute error: 0.0\n",
      "Percent error: 0.0%\n",
      "Maximum error: 0.0\n"
     ]
    }
   ],
   "source": [
    "energy_error_abs = torch.abs(benchmark_energy - energy).item()\n",
    "energy_error_pct = torch.abs((benchmark_energy - energy) / benchmark_energy).item() * 100\n",
    "energy_error_max = torch.max(benchmark_energy - energy).item()\n",
    "\n",
    "sb.glue(\"energy_error_abs\", energy_error_abs)\n",
    "sb.glue(\"energy_error_pct\", energy_error_pct)\n",
    "sb.glue(\"energy_error_max\", energy_error_max)\n",
    "\n",
    "print(f\"Absolute error: {energy_error_abs}\")\n",
    "print(f\"Percent error: {energy_error_pct}%\")\n",
    "print(f\"Maximum error: {energy_error_max}\")"
   ]
  }
 ],
 "metadata": {
  "kernelspec": {
   "display_name": "orb-partitioning",
   "language": "python",
   "name": "python3"
  },
  "language_info": {
   "codemirror_mode": {
    "name": "ipython",
    "version": 3
   },
   "file_extension": ".py",
   "mimetype": "text/x-python",
   "name": "python",
   "nbconvert_exporter": "python",
   "pygments_lexer": "ipython3",
   "version": "3.10.16"
  },
  "papermill": {
   "default_parameters": {},
   "duration": 76.886407,
   "end_time": "2025-02-19T05:26:30.655689",
   "environment_variables": {},
   "exception": null,
   "input_path": "mattersim.ipynb",
   "output_path": "output.temp.ipynb",
   "parameters": {
    "supercell_scaling": [
     [
      2,
      0,
      0
     ],
     [
      0,
      2,
      0
     ],
     [
      0,
      0,
      2
     ]
    ]
   },
   "start_time": "2025-02-19T05:25:13.769282",
   "version": "2.6.0"
  }
 },
 "nbformat": 4,
 "nbformat_minor": 5
}