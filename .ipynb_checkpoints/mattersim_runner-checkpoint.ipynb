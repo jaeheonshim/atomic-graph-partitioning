{
 "cells": [
  {
   "cell_type": "markdown",
   "metadata": {},
   "source": [
    "This notebook runs the mattersim.ipynb on various parameters"
   ]
  },
  {
   "cell_type": "code",
   "execution_count": 1,
   "metadata": {},
   "outputs": [],
   "source": [
    "import papermill as pm\n",
    "import scrapbook as sb"
   ]
  },
  {
   "cell_type": "code",
   "execution_count": 2,
   "metadata": {},
   "outputs": [],
   "source": [
    "output_file = \"output.temp.ipynb\""
   ]
  },
  {
   "cell_type": "code",
   "execution_count": 3,
   "metadata": {},
   "outputs": [],
   "source": [
    "# data for plotting\n",
    "\n",
    "num_atoms = []\n",
    "energy_error_abs = []\n",
    "energy_error_pct = []\n",
    "energy_error_max = []\n",
    "\n",
    "def append_nb_data():\n",
    "    nb = sb.read_notebook(output_file)\n",
    "\n",
    "    num_atoms.append(nb.scraps[\"num_atoms\"].data)\n",
    "    energy_error_abs.append(nb.scraps[\"energy_error_abs\"].data)\n",
    "    energy_error_pct.append(nb.scraps[\"energy_error_pct\"].data)\n",
    "    energy_error_max.append(nb.scraps[\"energy_error_max\"].data)"
   ]
  },
  {
   "cell_type": "code",
   "execution_count": 4,
   "metadata": {},
   "outputs": [],
   "source": [
    "trials = [\n",
    "    {\"supercell_scaling\": [[x, 0, 0], [0, yz, 0], [0, 0, yz]]}\n",
    "    for x in range(1, 7)\n",
    "    for yz in range(x, x + 2)\n",
    "]"
   ]
  },
  {
   "cell_type": "code",
   "execution_count": null,
   "metadata": {},
   "outputs": [
    {
     "data": {
      "application/vnd.jupyter.widget-view+json": {
       "model_id": "6994a2c2d56743d5bef9696c309fc97c",
       "version_major": 2,
       "version_minor": 0
      },
      "text/plain": [
       "Executing:   0%|          | 0/25 [00:00<?, ?cell/s]"
      ]
     },
     "metadata": {},
     "output_type": "display_data"
    },
    {
     "data": {
      "application/vnd.jupyter.widget-view+json": {
       "model_id": "3d5ecfcb85904c269898f0021ebb205e",
       "version_major": 2,
       "version_minor": 0
      },
      "text/plain": [
       "Executing:   0%|          | 0/25 [00:00<?, ?cell/s]"
      ]
     },
     "metadata": {},
     "output_type": "display_data"
    },
    {
     "name": "stderr",
     "output_type": "stream",
     "text": [
      "Kernel died while waiting for execute reply.\n"
     ]
    }
   ],
   "source": [
    "for param in trials:\n",
    "    pm.execute_notebook(\"mattersim.ipynb\", output_file, parameters=param)\n",
    "    append_nb_data()"
   ]
  },
  {
   "cell_type": "code",
   "execution_count": null,
   "metadata": {},
   "outputs": [],
   "source": [
    "import matplotlib.pyplot as plt\n",
    "\n",
    "fig, ax1 = plt.subplots()\n",
    "ax1.plot(num_atoms, energy_error_abs, label=\"Absolute Error\", color='red')\n",
    "ax1.set_xlabel(\"Number of Atoms\")\n",
    "ax1.set_ylabel(\"Potential Energy (eV)\")\n",
    "ax1.legend(loc=\"upper left\")\n",
    "\n",
    "ax2 = ax1.twinx()\n",
    "ax2.plot(num_atoms, energy_error_pct, label=\"Percent Error\")\n",
    "ax2.set_ylabel(\"Percent\")\n",
    "ax2.legend(loc=\"upper right\")\n",
    "\n",
    "plt.title(\"num_partitions = 20, neighborhood_distance = 5\")\n",
    "plt.show()"
   ]
  }
 ],
 "metadata": {
  "kernelspec": {
   "display_name": "Python (partitioning)",
   "language": "python",
   "name": "partitioning"
  },
  "language_info": {
   "codemirror_mode": {
    "name": "ipython",
    "version": 3
   },
   "file_extension": ".py",
   "mimetype": "text/x-python",
   "name": "python",
   "nbconvert_exporter": "python",
   "pygments_lexer": "ipython3",
   "version": "3.11.11"
  }
 },
 "nbformat": 4,
 "nbformat_minor": 4
}
