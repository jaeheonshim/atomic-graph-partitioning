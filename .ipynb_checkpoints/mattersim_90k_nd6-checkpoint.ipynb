{
 "cells": [
  {
   "cell_type": "markdown",
   "metadata": {},
   "source": [
    "# Extended Subgraph Partitioning (mattersim)"
   ]
  },
  {
   "cell_type": "code",
   "execution_count": 14,
   "metadata": {
    "tags": [
     "parameters"
    ]
   },
   "outputs": [],
   "source": [
    "# Papermill parameters\n",
    "\n",
    "supercell_scaling = [[6, 0, 0], [0, 6, 0], [0, 0, 6]]\n",
    "desired_partitions = 20\n",
    "neighborhood_distance = 5"
   ]
  },
  {
   "cell_type": "code",
   "execution_count": 2,
   "metadata": {},
   "outputs": [],
   "source": [
    "# Imports\n",
    "\n",
    "import scrapbook as sb\n",
    "\n",
    "import numpy as np\n",
    "import torch\n",
    "\n",
    "from tqdm import tqdm\n",
    "\n",
    "from partitioner import part_graph_extended\n",
    "import networkx as nx"
   ]
  },
  {
   "cell_type": "markdown",
   "metadata": {},
   "source": [
    "## Partitioning Atoms"
   ]
  },
  {
   "cell_type": "markdown",
   "metadata": {},
   "source": [
    "Loading a sample atomic dataset and converting it into a graph"
   ]
  },
  {
   "cell_type": "code",
   "execution_count": 3,
   "metadata": {},
   "outputs": [
    {
     "data": {
      "application/scrapbook.scrap.json+json": {
       "data": 92016,
       "encoder": "json",
       "name": "num_atoms",
       "version": 1
      }
     },
     "metadata": {
      "scrapbook": {
       "data": true,
       "display": false,
       "name": "num_atoms"
      }
     },
     "output_type": "display_data"
    },
    {
     "name": "stdout",
     "output_type": "stream",
     "text": [
      "Number of atoms 92016\n"
     ]
    }
   ],
   "source": [
    "from ase.io import read\n",
    "from ase.build import make_supercell\n",
    "from mattersim.datasets.utils.convertor import GraphConvertor\n",
    "from torch_geometric.utils import to_networkx\n",
    " \n",
    "atoms = read(\"datasets/test.xyz\")\n",
    "atoms = make_supercell(atoms, supercell_scaling)\n",
    "\n",
    "converter = GraphConvertor(\"m3gnet\", 5.0, True, 4.0)\n",
    "\n",
    "length = len(atoms)\n",
    "atom_graph = converter.convert(atoms.copy(), None, None, None)\n",
    "\n",
    "G = to_networkx(atom_graph)\n",
    "\n",
    "sb.glue(\"num_atoms\", len(atoms))\n",
    "print(\"Number of atoms\", len(atoms))"
   ]
  },
  {
   "cell_type": "markdown",
   "metadata": {},
   "source": [
    "Partition the computational graph into the number of desired partitions with the specified neighborhood distance"
   ]
  },
  {
   "cell_type": "code",
   "execution_count": 15,
   "metadata": {},
   "outputs": [
    {
     "name": "stdout",
     "output_type": "stream",
     "text": [
      "Created 20 partitions\n",
      "Average partition size: 43455.8\n"
     ]
    }
   ],
   "source": [
    "partitions, extended_partitions = part_graph_extended(G, desired_partitions, neighborhood_distance)\n",
    "\n",
    "num_partitions = len(partitions)\n",
    "\n",
    "print(f\"Created {num_partitions} partitions\")\n",
    "print(f\"Average partition size: {sum(len(x) for x in extended_partitions) / num_partitions}\")"
   ]
  },
  {
   "cell_type": "markdown",
   "metadata": {},
   "source": [
    "Create the ASE atoms object for each partition"
   ]
  },
  {
   "cell_type": "code",
   "execution_count": 16,
   "metadata": {},
   "outputs": [],
   "source": [
    "from ase import Atoms\n",
    "\n",
    "partitioned_atoms = []\n",
    "indices_map = [] # Table mapping each atom in each partition back to its index in the original atoms object\n",
    "\n",
    "for part in extended_partitions:\n",
    "    current_partition = []\n",
    "    current_indices_map = []\n",
    "    for atom_index in part:\n",
    "        current_partition.append(atoms[atom_index])\n",
    "        current_indices_map.append(atoms[atom_index].index)\n",
    "\n",
    "    partitioned_atoms.append(Atoms(current_partition, cell=atoms.cell, pbc=atoms.pbc)) # It's important to pass atoms.cell and atoms.pbc here\n",
    "    indices_map.append(current_indices_map)"
   ]
  },
  {
   "cell_type": "code",
   "execution_count": 6,
   "metadata": {},
   "outputs": [
    {
     "data": {
      "text/plain": [
       "Atoms(symbols='C23760H59616Ga1728S1728Si5184', pbc=True, cell=[[69.28999328613281, 40.00465106964111, 71.8872241973877], [-69.28946685791016, 40.00447940826416, 71.88681221008301], [0.00011495999569888227, -80.00879287719727, 71.8868350982666]])"
      ]
     },
     "execution_count": 6,
     "metadata": {},
     "output_type": "execute_result"
    }
   ],
   "source": [
    "reconstructed_atoms = []\n",
    "for atom_index in range(len(atoms)):\n",
    "    reconstructed_atoms.append(atoms[atom_index])\n",
    "reconstructed_atoms = Atoms(reconstructed_atoms, cell=atoms.cell, pbc=atoms.pbc)\n",
    "\n",
    "reconstructed_atoms"
   ]
  },
  {
   "cell_type": "markdown",
   "metadata": {},
   "source": [
    "## Inference"
   ]
  },
  {
   "cell_type": "code",
   "execution_count": 7,
   "metadata": {},
   "outputs": [],
   "source": [
    "device = \"cuda\" if torch.cuda.is_available() else \"cpu\""
   ]
  },
  {
   "cell_type": "markdown",
   "metadata": {},
   "source": [
    "I need to modify the M3Gnet model so that the node features can be intercepted before they are passed into the final MLP"
   ]
  },
  {
   "cell_type": "code",
   "execution_count": 8,
   "metadata": {},
   "outputs": [
    {
     "name": "stdout",
     "output_type": "stream",
     "text": [
      "\u001b[32m2025-02-18 23:03:47.307\u001b[0m | \u001b[1mINFO    \u001b[0m | \u001b[36mmattersim.forcefield.potential\u001b[0m:\u001b[36mfrom_checkpoint\u001b[0m:\u001b[36m877\u001b[0m - \u001b[1mLoading the pre-trained mattersim-v1.0.0-1M.pth model\u001b[0m\n",
      "\u001b[32m2025-02-18 23:07:06.569\u001b[0m | \u001b[1mINFO    \u001b[0m | \u001b[36mmattersim.forcefield.potential\u001b[0m:\u001b[36mfrom_checkpoint\u001b[0m:\u001b[36m877\u001b[0m - \u001b[1mLoading the pre-trained mattersim-v1.0.0-1M.pth model\u001b[0m\n"
     ]
    }
   ],
   "source": [
    "from typing import Dict\n",
    "\n",
    "import os\n",
    "\n",
    "from mattersim.forcefield.m3gnet.m3gnet import M3Gnet\n",
    "from torch_runstats.scatter import scatter\n",
    "from mattersim.utils.download_utils import download_checkpoint\n",
    "\n",
    "class M3GnetModified(M3Gnet):\n",
    "    def forward(\n",
    "        self,\n",
    "        input: Dict[str, torch.Tensor],\n",
    "        dataset_idx: int = -1,\n",
    "    ) -> torch.Tensor:\n",
    "        # Exact data from input_dictionary\n",
    "        pos = input[\"atom_pos\"]\n",
    "        cell = input[\"cell\"]\n",
    "        pbc_offsets = input[\"pbc_offsets\"].float()\n",
    "        atom_attr = input[\"atom_attr\"]\n",
    "        edge_index = input[\"edge_index\"].long()\n",
    "        three_body_indices = input[\"three_body_indices\"].long()\n",
    "        num_three_body = input[\"num_three_body\"]\n",
    "        num_bonds = input[\"num_bonds\"]\n",
    "        num_triple_ij = input[\"num_triple_ij\"]\n",
    "        num_atoms = input[\"num_atoms\"]\n",
    "        num_graphs = input[\"num_graphs\"]\n",
    "        batch = input[\"batch\"]\n",
    "\n",
    "        # -------------------------------------------------------------#\n",
    "        cumsum = torch.cumsum(num_bonds, dim=0) - num_bonds\n",
    "        index_bias = torch.repeat_interleave(  # noqa: F501\n",
    "            cumsum, num_three_body, dim=0\n",
    "        ).unsqueeze(-1)\n",
    "        three_body_indices = three_body_indices + index_bias\n",
    "\n",
    "        # === Refer to the implementation of M3GNet,        ===\n",
    "        # === we should re-compute the following attributes ===\n",
    "        # edge_length, edge_vector(optional), triple_edge_length, theta_jik\n",
    "        atoms_batch = torch.repeat_interleave(repeats=num_atoms)\n",
    "        edge_batch = atoms_batch[edge_index[0]]\n",
    "        edge_vector = pos[edge_index[0]] - (\n",
    "            pos[edge_index[1]]\n",
    "            + torch.einsum(\"bi, bij->bj\", pbc_offsets, cell[edge_batch])\n",
    "        )\n",
    "        edge_length = torch.linalg.norm(edge_vector, dim=1)\n",
    "        vij = edge_vector[three_body_indices[:, 0].clone()]\n",
    "        vik = edge_vector[three_body_indices[:, 1].clone()]\n",
    "        rij = edge_length[three_body_indices[:, 0].clone()]\n",
    "        rik = edge_length[three_body_indices[:, 1].clone()]\n",
    "        cos_jik = torch.sum(vij * vik, dim=1) / (rij * rik)\n",
    "        # eps = 1e-7 avoid nan in torch.acos function\n",
    "        cos_jik = torch.clamp(cos_jik, min=-1.0 + 1e-7, max=1.0 - 1e-7)\n",
    "        triple_edge_length = rik.view(-1)\n",
    "        edge_length = edge_length.unsqueeze(-1)\n",
    "        atomic_numbers = atom_attr.squeeze(1).long()\n",
    "\n",
    "        # featurize\n",
    "        atom_attr = self.atom_embedding(self.one_hot_atoms(atomic_numbers))\n",
    "        edge_attr = self.rbf(edge_length.view(-1))\n",
    "        edge_attr_zero = edge_attr  # e_ij^0\n",
    "        edge_attr = self.edge_encoder(edge_attr)\n",
    "        three_basis = self.sbf(triple_edge_length, torch.acos(cos_jik))\n",
    "\n",
    "        # Main Loop\n",
    "        for idx, conv in enumerate(self.graph_conv):\n",
    "            atom_attr, edge_attr = conv(\n",
    "                atom_attr,\n",
    "                edge_attr,\n",
    "                edge_attr_zero,\n",
    "                edge_index,\n",
    "                three_basis,\n",
    "                three_body_indices,\n",
    "                edge_length,\n",
    "                num_bonds,\n",
    "                num_triple_ij,\n",
    "                num_atoms,\n",
    "            )\n",
    "\n",
    "        return atom_attr  # [batch_size]\n",
    "    \n",
    "def load_modified_from_checkpoint(\n",
    "    load_path: str = None,\n",
    "    *,\n",
    "    device: str = \"cuda\" if torch.cuda.is_available() else \"cpu\",\n",
    "):\n",
    "    checkpoint_folder = os.path.expanduser(\"~/.local/mattersim/pretrained_models\")\n",
    "    os.makedirs(checkpoint_folder, exist_ok=True)\n",
    "    if (\n",
    "        load_path is None\n",
    "        or load_path.lower() == \"mattersim-v1.0.0-1m.pth\"\n",
    "        or load_path.lower() == \"mattersim-v1.0.0-1m\"\n",
    "    ):\n",
    "        load_path = os.path.join(checkpoint_folder, \"mattersim-v1.0.0-1M.pth\")\n",
    "        if not os.path.exists(load_path):\n",
    "            print(\n",
    "                \"The pre-trained model is not found locally, \"\n",
    "                \"attempting to download it from the server.\"\n",
    "            )\n",
    "            download_checkpoint(\n",
    "                \"mattersim-v1.0.0-1M.pth\", save_folder=checkpoint_folder\n",
    "            )\n",
    "        print(f\"Loading the pre-trained {os.path.basename(load_path)} model\")\n",
    "    elif (\n",
    "        load_path.lower() == \"mattersim-v1.0.0-5m.pth\"\n",
    "        or load_path.lower() == \"mattersim-v1.0.0-5m\"\n",
    "    ):\n",
    "        load_path = os.path.join(checkpoint_folder, \"mattersim-v1.0.0-5M.pth\")\n",
    "        if not os.path.exists(load_path):\n",
    "            print(\n",
    "                \"The pre-trained model is not found locally, \"\n",
    "                \"attempting to download it from the server.\"\n",
    "            )\n",
    "            download_checkpoint(\n",
    "                \"mattersim-v1.0.0-5M.pth\", save_folder=checkpoint_folder\n",
    "            )\n",
    "        print(f\"Loading the pre-trained {os.path.basename(load_path)} model\")\n",
    "    else:\n",
    "        print(\"Loading the model from %s\" % load_path)\n",
    "    assert os.path.exists(load_path), f\"Model file {load_path} not found\"\n",
    "\n",
    "    checkpoint = torch.load(load_path, map_location=device)\n",
    "\n",
    "    model = M3GnetModified(device=device, **checkpoint[\"model_args\"]).to(device)\n",
    "    model.load_state_dict(checkpoint[\"model\"], strict=False)\n",
    "\n",
    "    model.eval()\n",
    "\n",
    "    return model"
   ]
  },
  {
   "cell_type": "code",
   "execution_count": 9,
   "metadata": {},
   "outputs": [
    {
     "name": "stdout",
     "output_type": "stream",
     "text": [
      "Loading the pre-trained mattersim-v1.0.0-1M.pth model\n"
     ]
    },
    {
     "name": "stderr",
     "output_type": "stream",
     "text": [
      "/tmp/ipykernel_1319489/1315528432.py:121: FutureWarning: You are using `torch.load` with `weights_only=False` (the current default value), which uses the default pickle module implicitly. It is possible to construct malicious pickle data which will execute arbitrary code during unpickling (See https://github.com/pytorch/pytorch/blob/main/SECURITY.md#untrusted-models for more details). In a future release, the default value for `weights_only` will be flipped to `True`. This limits the functions that could be executed during unpickling. Arbitrary objects will no longer be allowed to be loaded via this mode unless they are explicitly allowlisted by the user via `torch.serialization.add_safe_globals`. We recommend you start setting `weights_only=True` for any use case where you don't have full control of the loaded file. Please open an issue on GitHub for any issues related to this experimental feature.\n",
      "  checkpoint = torch.load(load_path, map_location=device)\n"
     ]
    }
   ],
   "source": [
    "model = load_modified_from_checkpoint(device=device)"
   ]
  },
  {
   "cell_type": "markdown",
   "metadata": {},
   "source": [
    "Run inference on each partition"
   ]
  },
  {
   "cell_type": "code",
   "execution_count": 17,
   "metadata": {},
   "outputs": [
    {
     "name": "stderr",
     "output_type": "stream",
     "text": [
      "100%|██████████| 20/20 [00:15<00:00,  1.31it/s]\n"
     ]
    }
   ],
   "source": [
    "from mattersim.forcefield.potential import batch_to_dict\n",
    "from torch_geometric.loader import DataLoader\n",
    "\n",
    "aggregated_atomic_numbers = torch.zeros((len(atoms), 1), dtype=torch.float32, device=device)\n",
    "aggregated_features = torch.zeros((len(atoms), 128), dtype=torch.float32, device=device)\n",
    "\n",
    "dataloader = DataLoader([converter.convert(part.copy(), None, None, None) for part in partitioned_atoms])\n",
    "\n",
    "for part_idx, input_graph in tqdm(enumerate(dataloader), total=num_partitions):\n",
    "    input_graph = input_graph.to(device)\n",
    "    input_dict = batch_to_dict(input_graph)\n",
    "    atomic_numbers = input_dict[\"atom_attr\"]\n",
    "\n",
    "    with torch.no_grad():\n",
    "        feat = model.forward(input_dict)\n",
    "\n",
    "    part = partitioned_atoms[part_idx]\n",
    "    for j, node in enumerate(part):\n",
    "        original_index = indices_map[part_idx][j]\n",
    "        if original_index in partitions[part_idx]: # If the node is a root node of the partition\n",
    "            aggregated_features[original_index] = feat[j]\n",
    "            aggregated_atomic_numbers[original_index] = atomic_numbers[j]\n",
    "\n",
    "    del input_graph, input_dict, atomic_numbers, feat\n",
    "    torch.cuda.empty_cache()"
   ]
  },
  {
   "cell_type": "code",
   "execution_count": 18,
   "metadata": {},
   "outputs": [
    {
     "data": {
      "application/scrapbook.scrap.json+json": {
       "data": -476866.15625,
       "encoder": "json",
       "name": "partition_energy",
       "version": 1
      }
     },
     "metadata": {
      "scrapbook": {
       "data": true,
       "display": false,
       "name": "partition_energy"
      }
     },
     "output_type": "display_data"
    },
    {
     "data": {
      "text/plain": [
       "tensor([-476866.1562], device='cuda:0', grad_fn=<ScatterAddBackward0>)"
      ]
     },
     "execution_count": 18,
     "metadata": {},
     "output_type": "execute_result"
    }
   ],
   "source": [
    "atomic_numbers = aggregated_atomic_numbers.squeeze(1).long()\n",
    "batch = torch.zeros((len(atoms)), dtype=torch.int64, device=device)\n",
    "\n",
    "energy = model.final(aggregated_features).view(-1)\n",
    "energy = model.normalizer(energy, atomic_numbers)\n",
    "energy = scatter(energy, batch, dim=0, dim_size=1)\n",
    "\n",
    "sb.glue(\"partition_energy\", energy.item())\n",
    "energy"
   ]
  },
  {
   "cell_type": "markdown",
   "metadata": {},
   "source": [
    "## Prediction"
   ]
  },
  {
   "cell_type": "markdown",
   "metadata": {},
   "source": [
    "Run the prediction on the original, unpartitioned graph to obtain a benchmark for our results"
   ]
  },
  {
   "cell_type": "code",
   "execution_count": 19,
   "metadata": {},
   "outputs": [
    {
     "data": {
      "application/scrapbook.scrap.json+json": {
       "data": -476866.28125,
       "encoder": "json",
       "name": "benchmark_energy",
       "version": 1
      }
     },
     "metadata": {
      "scrapbook": {
       "data": true,
       "display": false,
       "name": "benchmark_energy"
      }
     },
     "output_type": "display_data"
    },
    {
     "data": {
      "text/plain": [
       "-476866.28125"
      ]
     },
     "execution_count": 19,
     "metadata": {},
     "output_type": "execute_result"
    }
   ],
   "source": [
    "from mattersim.forcefield.potential import Potential\n",
    "from mattersim.datasets.utils.build import build_dataloader\n",
    "\n",
    "potential = Potential.from_checkpoint(device=device)\n",
    "dataloader = build_dataloader([atoms], only_inference=True)\n",
    "\n",
    "torch.cuda.empty_cache()\n",
    "with torch.no_grad():\n",
    "    predictions = potential.predict_properties(dataloader, include_forces=False, include_stresses=False)\n",
    "\n",
    "benchmark_energy = predictions[0][0]\n",
    "\n",
    "sb.glue(\"benchmark_energy\", benchmark_energy)\n",
    "benchmark_energy"
   ]
  },
  {
   "cell_type": "markdown",
   "metadata": {},
   "source": [
    "### Energy"
   ]
  },
  {
   "cell_type": "code",
   "execution_count": 20,
   "metadata": {},
   "outputs": [
    {
     "data": {
      "application/scrapbook.scrap.json+json": {
       "data": 0.125,
       "encoder": "json",
       "name": "energy_error_abs",
       "version": 1
      }
     },
     "metadata": {
      "scrapbook": {
       "data": true,
       "display": false,
       "name": "energy_error_abs"
      }
     },
     "output_type": "display_data"
    },
    {
     "data": {
      "application/scrapbook.scrap.json+json": {
       "data": 2.6212799753011495e-05,
       "encoder": "json",
       "name": "energy_error_pct",
       "version": 1
      }
     },
     "metadata": {
      "scrapbook": {
       "data": true,
       "display": false,
       "name": "energy_error_pct"
      }
     },
     "output_type": "display_data"
    },
    {
     "name": "stdout",
     "output_type": "stream",
     "text": [
      "Absolute error: 0.125\n",
      "Percent error: 2.6212799753011495e-05%\n"
     ]
    }
   ],
   "source": [
    "energy_error_abs = torch.abs(benchmark_energy - energy).item()\n",
    "energy_error_pct = torch.abs((benchmark_energy - energy) / benchmark_energy).item() * 100\n",
    "\n",
    "sb.glue(\"energy_error_abs\", energy_error_abs)\n",
    "sb.glue(\"energy_error_pct\", energy_error_pct)\n",
    "\n",
    "print(f\"Absolute error: {energy_error_abs}\")\n",
    "print(f\"Percent error: {energy_error_pct}%\")"
   ]
  },
  {
   "cell_type": "code",
   "execution_count": null,
   "metadata": {},
   "outputs": [],
   "source": []
  }
 ],
 "metadata": {
  "kernelspec": {
   "display_name": "Python (partitioning)",
   "language": "python",
   "name": "partitioning"
  },
  "language_info": {
   "codemirror_mode": {
    "name": "ipython",
    "version": 3
   },
   "file_extension": ".py",
   "mimetype": "text/x-python",
   "name": "python",
   "nbconvert_exporter": "python",
   "pygments_lexer": "ipython3",
   "version": "3.11.11"
  }
 },
 "nbformat": 4,
 "nbformat_minor": 4
}
