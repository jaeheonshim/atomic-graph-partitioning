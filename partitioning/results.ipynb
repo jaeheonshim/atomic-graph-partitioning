{
 "cells": [
  {
   "cell_type": "code",
   "execution_count": 22,
   "metadata": {},
   "outputs": [],
   "source": [
    "import numpy as np\n",
    "import networkx as nx\n",
    "import pandas as pd\n",
    "import matplotlib.pyplot as plt\n",
    "\n",
    "import fairchem.core\n",
    "from fairchem.core.datasets import LmdbDataset\n",
    "from ase import Atoms\n",
    "from ase.visualize import view\n",
    "from ase.build import make_supercell\n",
    "\n",
    "from torch_geometric.utils import to_networkx"
   ]
  },
  {
   "cell_type": "markdown",
   "metadata": {},
   "source": [
    "Helper for loading atoms from dataset and creating a supercell"
   ]
  },
  {
   "cell_type": "code",
   "execution_count": 23,
   "metadata": {},
   "outputs": [],
   "source": [
    "dataset = LmdbDataset({\"src\": 'data.lmdb'})\n",
    "\n",
    "def get_ocp_atoms(i, supercell_size=1):\n",
    "    # Get a raw sample\n",
    "    sample = dataset[i]\n",
    "    \n",
    "    atomic_numbers = np.array(sample[\"atomic_numbers\"])\n",
    "    positions = np.array(sample[\"pos\"])\n",
    "    cell = np.array(sample[\"cell\"])[0]\n",
    "\n",
    "    atoms = Atoms(\n",
    "        numbers=atomic_numbers,\n",
    "        positions=positions,\n",
    "        cell=cell,\n",
    "        pbc=True\n",
    "    )\n",
    "    \n",
    "    return make_supercell(atoms, ((supercell_size, 0, 0), (0, supercell_size, 0), (0, 0, 1)))"
   ]
  },
  {
   "cell_type": "markdown",
   "metadata": {},
   "source": [
    "Helper for converting atoms into respective model format (orb or mattersim)"
   ]
  },
  {
   "cell_type": "code",
   "execution_count": 24,
   "metadata": {},
   "outputs": [],
   "source": [
    "from orb_models.forcefield.atomic_system import ase_atoms_to_atom_graphs\n",
    "from mattersim.datasets.utils.convertor import GraphConvertor\n",
    "\n",
    "mattersim_converter = GraphConvertor(\"m3gnet\", 5.0, True, 4.0)\n",
    "\n",
    "def atoms_to_graph_orb(atoms):\n",
    "    graph = ase_atoms_to_atom_graphs(atoms)\n",
    "    senders = graph.senders\n",
    "    receivers = graph.receivers\n",
    "    edge_feats = graph.edge_features\n",
    "\n",
    "    G = nx.Graph()\n",
    "    G.add_nodes_from(range(graph.n_node))\n",
    "    G.graph['edge_weight_attr'] = 'weight'\n",
    "    \n",
    "    min_dist = min(edge_feats['r'])\n",
    "\n",
    "    for i, u in enumerate(senders):\n",
    "        G.add_edge(u.item(), receivers[i].item(), weight=int(edge_feats['r'][i] / min_dist * 1000))\n",
    "\n",
    "    return G \n",
    "\n",
    "def atoms_to_graph_mattersim(atoms):\n",
    "    return to_networkx(mattersim_converter.convert(atoms, None, None, None))"
   ]
  },
  {
   "cell_type": "markdown",
   "metadata": {},
   "source": [
    "Helpers for retrieving relevant metrics from partition"
   ]
  },
  {
   "cell_type": "code",
   "execution_count": 25,
   "metadata": {},
   "outputs": [],
   "source": [
    "def total_node_count(G, partitions, extended_partitions):\n",
    "    \"\"\"\n",
    "    Returns the total number of nodes including overlapping nodes in extended\n",
    "    partitions\n",
    "    \"\"\"\n",
    "    \n",
    "    return sum(len(x) for x in extended_partitions)\n",
    "\n",
    "def root_node_count(G, partitions, extended_partitions):\n",
    "    \"\"\"\n",
    "    Returns the total number of root nodes (the number of vertices in the\n",
    "    original graph)\n",
    "    \"\"\"\n",
    "    \n",
    "    return sum(len(x) for x in partitions)\n",
    "\n",
    "def extended_ratio(G, partitions, extended_partitions):\n",
    "    \"\"\"\n",
    "    Returns the ratio of extended nodes to the total number of nodes (higher \n",
    "    ratio means more neighbors were captured in the partition, which we don't\n",
    "    want)\n",
    "    \n",
    "    i.e. how many of our nodes are 'redundant'?\n",
    "    \"\"\"\n",
    "    \n",
    "    root = root_node_count(G, partitions, extended_partitions)\n",
    "    total = total_node_count(G, partitions, extended_partitions)\n",
    "    \n",
    "    return (total - root) / (total)\n",
    "\n",
    "def core_partition_stats(G, partitions, extended_partitions):\n",
    "    \"\"\"\n",
    "    Returns statistics about the extended partitions (max, min, mean, std, \n",
    "    range)\n",
    "    \"\"\"\n",
    "    \n",
    "    partition_sizes = [len(p) for p in partitions]\n",
    "    sizes = np.array(partition_sizes)\n",
    "    \n",
    "    return sizes.max(), sizes.min(), sizes.mean(), sizes.std(), (sizes.max() - sizes.mean())\n",
    "\n",
    "def extended_partition_stats(G, partitions, extended_partitions):\n",
    "    \"\"\"\n",
    "    Returns statistics about the extended partitions (max, min, mean, std, \n",
    "    range)\n",
    "    \"\"\"\n",
    "    \n",
    "    partition_sizes = [len(p) for p in extended_partitions]\n",
    "    sizes = np.array(partition_sizes)\n",
    "    \n",
    "    return sizes.max(), sizes.min(), sizes.mean(), sizes.std(), (sizes.max() - sizes.mean())\n",
    "\n",
    "def num_cut_edges(G, partitions, extended_partitions):\n",
    "    \"\"\"\n",
    "    Returns the number of edges that were cut between partitions\n",
    "    \"\"\"\n",
    "    \n",
    "    node_to_part = {}\n",
    "    for i, part in enumerate(partitions):\n",
    "        for node in part:\n",
    "            node_to_part[node] = i\n",
    "\n",
    "    cut_edges = set()\n",
    "\n",
    "    # Check each edge to see if it crosses partitions\n",
    "    for u, v in G.edges():\n",
    "        pu = node_to_part.get(u)\n",
    "        pv = node_to_part.get(v)\n",
    "        if pu is not None and pv is not None and pu != pv:\n",
    "            cut_edges.add(tuple(sorted((u, v))))\n",
    "\n",
    "    return len(cut_edges)\n",
    "\n",
    "def sum_cut_edge_weights(G, partitions, extended_partitions):\n",
    "    \"\"\"\n",
    "    For all cut edges, return sum(x) where x is the weight of each edge\n",
    "    \"\"\"\n",
    "    \n",
    "    cut_edges = set()\n",
    "    node_to_partition = {node: i for i, part in enumerate(partitions) for node in part}\n",
    "    for u, v in G.edges():\n",
    "        if node_to_partition.get(u) != node_to_partition.get(v):\n",
    "            cut_edges.add(tuple(sorted((u, v))))\n",
    "    return sum(G.edges[u, v].get('weight', 0.0) for u, v in cut_edges)\n",
    "\n",
    "def sum_inverse_cut_edge_weights(G, partitions, extended_partitions):\n",
    "    \"\"\"\n",
    "    For all cut edges, return sum(1/x) where x is the weight of each edge\n",
    "    \n",
    "    Maybe minimizing this quantity will help because that means we are\n",
    "    cutting fewer edges of atoms that are closer together (and thus\n",
    "    more likely to have a greater impact on each other)\n",
    "    \"\"\"\n",
    "    \n",
    "    cut_edges = set()\n",
    "\n",
    "    node_to_partition = {}\n",
    "    for i, part in enumerate(partitions):\n",
    "        for node in part:\n",
    "            node_to_partition[node] = i\n",
    "\n",
    "    for u, v in G.edges():\n",
    "        p_u = node_to_partition.get(u)\n",
    "        p_v = node_to_partition.get(v)\n",
    "        if p_u is not None and p_v is not None and p_u != p_v:\n",
    "            cut_edges.add(tuple(sorted((u, v))))\n",
    "\n",
    "    # Sum inverse of edge weights for cut edges\n",
    "    total_inverse_weight = 0.0\n",
    "    for u, v in cut_edges:\n",
    "        w = G.edges[u, v].get('weight', None)\n",
    "        if w is not None and w > 0:\n",
    "            total_inverse_weight += 1.0 / (w)\n",
    "\n",
    "    return total_inverse_weight"
   ]
  },
  {
   "cell_type": "markdown",
   "metadata": {},
   "source": [
    "Helper for running the benchmark and recording metrics"
   ]
  },
  {
   "cell_type": "code",
   "execution_count": 26,
   "metadata": {},
   "outputs": [],
   "source": [
    "from partitioning import part_spectral, part_metis, part_grid, part_metis_unweighted\n",
    "\n",
    "def benchmark_trial_orb(atoms, distance=2, granularity=2):\n",
    "    G = atoms_to_graph_orb(atoms)\n",
    "\n",
    "    extended_partition_results = []\n",
    "    results = []\n",
    "\n",
    "    for method_name, partition_fn in [\n",
    "        (\"metis\", part_metis),\n",
    "        (\"spectral\", part_spectral),\n",
    "        (\"grid\", part_grid),\n",
    "        (\"metis_unweighted\", part_metis_unweighted)\n",
    "    ]:\n",
    "        try:\n",
    "            partitions, extended_partitions = partition_fn(atoms, G, granularity ** 3, distance=distance)\n",
    "\n",
    "            # Core stats\n",
    "            core_max, core_min, core_mean, core_std, core_range = core_partition_stats(G, partitions, extended_partitions)\n",
    "            # Extended stats\n",
    "            ext_max, ext_min, ext_mean, ext_std, ext_range = extended_partition_stats(G, partitions, extended_partitions)\n",
    "\n",
    "            result = {\n",
    "                'method': method_name,\n",
    "                'node_count': total_node_count(G, partitions, extended_partitions),\n",
    "                'root_node_count': root_node_count(G, partitions, extended_partitions),\n",
    "                'extended_ratio': extended_ratio(G, partitions, extended_partitions),\n",
    "                'cut_edges': num_cut_edges(G, partitions, extended_partitions),\n",
    "                'cut_weight_sum': sum_cut_edge_weights(G, partitions, extended_partitions),\n",
    "                'inverse_cut_weight_sum': sum_inverse_cut_edge_weights(G, partitions, extended_partitions),\n",
    "\n",
    "                # Core stats\n",
    "                'core_max': core_max,\n",
    "                'core_min': core_min,\n",
    "                'core_mean': core_mean,\n",
    "                'core_std': core_std,\n",
    "                'core_range': core_range,\n",
    "\n",
    "                # Extended stats\n",
    "                'ext_max': ext_max,\n",
    "                'ext_min': ext_min,\n",
    "                'ext_mean': ext_mean,\n",
    "                'ext_std': ext_std,\n",
    "                'ext_range': ext_range,\n",
    "            }\n",
    "\n",
    "            results.append(result)\n",
    "\n",
    "            for part in extended_partitions:\n",
    "                extended_partition_results.append({\n",
    "                    'method': method_name,\n",
    "                    'n': len(part)\n",
    "                })\n",
    "\n",
    "        except Exception as e:\n",
    "            print(f\"[{method_name}] Partitioning failed: {e}\")\n",
    "\n",
    "    return results, extended_partition_results\n"
   ]
  },
  {
   "cell_type": "code",
   "execution_count": 33,
   "metadata": {},
   "outputs": [
    {
     "name": "stdout",
     "output_type": "stream",
     "text": [
      "18000\n"
     ]
    }
   ],
   "source": [
    "all_results = []\n",
    "all_partition_results = []\n",
    "\n",
    "for i in range(1):\n",
    "    atoms = get_ocp_atoms(i, 15)\n",
    "    print(len(atoms))\n",
    "    result = benchmark_trial_orb(atoms)\n",
    "    all_results.extend(result[0])\n",
    "    all_partition_results.extend(result[1])\n",
    "\n",
    "all_df = pd.DataFrame(all_results)\n",
    "partition_df = pd.DataFrame(all_partition_results)"
   ]
  },
  {
   "cell_type": "code",
   "execution_count": 34,
   "metadata": {},
   "outputs": [
    {
     "data": {
      "application/vnd.microsoft.datawrangler.viewer.v0+json": {
       "columns": [
        {
         "name": "index",
         "rawType": "int64",
         "type": "integer"
        },
        {
         "name": "method",
         "rawType": "object",
         "type": "string"
        },
        {
         "name": "n",
         "rawType": "int64",
         "type": "integer"
        }
       ],
       "conversionMethod": "pd.DataFrame",
       "ref": "f6eee0bb-6876-4574-9002-6ed13cc99a98",
       "rows": [
        [
         "0",
         "metis",
         "3767"
        ],
        [
         "1",
         "metis",
         "3587"
        ],
        [
         "2",
         "metis",
         "3594"
        ],
        [
         "3",
         "metis",
         "3821"
        ],
        [
         "4",
         "metis",
         "3509"
        ],
        [
         "5",
         "metis",
         "3709"
        ],
        [
         "6",
         "metis",
         "3749"
        ],
        [
         "7",
         "metis",
         "3691"
        ],
        [
         "8",
         "spectral",
         "3542"
        ],
        [
         "9",
         "spectral",
         "3569"
        ],
        [
         "10",
         "spectral",
         "3534"
        ],
        [
         "11",
         "spectral",
         "3552"
        ],
        [
         "12",
         "spectral",
         "3552"
        ],
        [
         "13",
         "spectral",
         "3479"
        ],
        [
         "14",
         "spectral",
         "3541"
        ],
        [
         "15",
         "spectral",
         "3587"
        ],
        [
         "16",
         "grid",
         "6169"
        ],
        [
         "17",
         "grid",
         "6124"
        ],
        [
         "18",
         "grid",
         "6105"
        ],
        [
         "19",
         "grid",
         "6098"
        ],
        [
         "20",
         "grid",
         "6066"
        ],
        [
         "21",
         "grid",
         "6188"
        ],
        [
         "22",
         "grid",
         "6049"
        ],
        [
         "23",
         "grid",
         "6150"
        ],
        [
         "24",
         "metis_unweighted",
         "3789"
        ],
        [
         "25",
         "metis_unweighted",
         "3659"
        ],
        [
         "26",
         "metis_unweighted",
         "3710"
        ],
        [
         "27",
         "metis_unweighted",
         "3685"
        ],
        [
         "28",
         "metis_unweighted",
         "3669"
        ],
        [
         "29",
         "metis_unweighted",
         "3698"
        ],
        [
         "30",
         "metis_unweighted",
         "3587"
        ],
        [
         "31",
         "metis_unweighted",
         "3699"
        ]
       ],
       "shape": {
        "columns": 2,
        "rows": 32
       }
      },
      "text/html": [
       "<div>\n",
       "<style scoped>\n",
       "    .dataframe tbody tr th:only-of-type {\n",
       "        vertical-align: middle;\n",
       "    }\n",
       "\n",
       "    .dataframe tbody tr th {\n",
       "        vertical-align: top;\n",
       "    }\n",
       "\n",
       "    .dataframe thead th {\n",
       "        text-align: right;\n",
       "    }\n",
       "</style>\n",
       "<table border=\"1\" class=\"dataframe\">\n",
       "  <thead>\n",
       "    <tr style=\"text-align: right;\">\n",
       "      <th></th>\n",
       "      <th>method</th>\n",
       "      <th>n</th>\n",
       "    </tr>\n",
       "  </thead>\n",
       "  <tbody>\n",
       "    <tr>\n",
       "      <th>0</th>\n",
       "      <td>metis</td>\n",
       "      <td>3767</td>\n",
       "    </tr>\n",
       "    <tr>\n",
       "      <th>1</th>\n",
       "      <td>metis</td>\n",
       "      <td>3587</td>\n",
       "    </tr>\n",
       "    <tr>\n",
       "      <th>2</th>\n",
       "      <td>metis</td>\n",
       "      <td>3594</td>\n",
       "    </tr>\n",
       "    <tr>\n",
       "      <th>3</th>\n",
       "      <td>metis</td>\n",
       "      <td>3821</td>\n",
       "    </tr>\n",
       "    <tr>\n",
       "      <th>4</th>\n",
       "      <td>metis</td>\n",
       "      <td>3509</td>\n",
       "    </tr>\n",
       "    <tr>\n",
       "      <th>5</th>\n",
       "      <td>metis</td>\n",
       "      <td>3709</td>\n",
       "    </tr>\n",
       "    <tr>\n",
       "      <th>6</th>\n",
       "      <td>metis</td>\n",
       "      <td>3749</td>\n",
       "    </tr>\n",
       "    <tr>\n",
       "      <th>7</th>\n",
       "      <td>metis</td>\n",
       "      <td>3691</td>\n",
       "    </tr>\n",
       "    <tr>\n",
       "      <th>8</th>\n",
       "      <td>spectral</td>\n",
       "      <td>3542</td>\n",
       "    </tr>\n",
       "    <tr>\n",
       "      <th>9</th>\n",
       "      <td>spectral</td>\n",
       "      <td>3569</td>\n",
       "    </tr>\n",
       "    <tr>\n",
       "      <th>10</th>\n",
       "      <td>spectral</td>\n",
       "      <td>3534</td>\n",
       "    </tr>\n",
       "    <tr>\n",
       "      <th>11</th>\n",
       "      <td>spectral</td>\n",
       "      <td>3552</td>\n",
       "    </tr>\n",
       "    <tr>\n",
       "      <th>12</th>\n",
       "      <td>spectral</td>\n",
       "      <td>3552</td>\n",
       "    </tr>\n",
       "    <tr>\n",
       "      <th>13</th>\n",
       "      <td>spectral</td>\n",
       "      <td>3479</td>\n",
       "    </tr>\n",
       "    <tr>\n",
       "      <th>14</th>\n",
       "      <td>spectral</td>\n",
       "      <td>3541</td>\n",
       "    </tr>\n",
       "    <tr>\n",
       "      <th>15</th>\n",
       "      <td>spectral</td>\n",
       "      <td>3587</td>\n",
       "    </tr>\n",
       "    <tr>\n",
       "      <th>16</th>\n",
       "      <td>grid</td>\n",
       "      <td>6169</td>\n",
       "    </tr>\n",
       "    <tr>\n",
       "      <th>17</th>\n",
       "      <td>grid</td>\n",
       "      <td>6124</td>\n",
       "    </tr>\n",
       "    <tr>\n",
       "      <th>18</th>\n",
       "      <td>grid</td>\n",
       "      <td>6105</td>\n",
       "    </tr>\n",
       "    <tr>\n",
       "      <th>19</th>\n",
       "      <td>grid</td>\n",
       "      <td>6098</td>\n",
       "    </tr>\n",
       "    <tr>\n",
       "      <th>20</th>\n",
       "      <td>grid</td>\n",
       "      <td>6066</td>\n",
       "    </tr>\n",
       "    <tr>\n",
       "      <th>21</th>\n",
       "      <td>grid</td>\n",
       "      <td>6188</td>\n",
       "    </tr>\n",
       "    <tr>\n",
       "      <th>22</th>\n",
       "      <td>grid</td>\n",
       "      <td>6049</td>\n",
       "    </tr>\n",
       "    <tr>\n",
       "      <th>23</th>\n",
       "      <td>grid</td>\n",
       "      <td>6150</td>\n",
       "    </tr>\n",
       "    <tr>\n",
       "      <th>24</th>\n",
       "      <td>metis_unweighted</td>\n",
       "      <td>3789</td>\n",
       "    </tr>\n",
       "    <tr>\n",
       "      <th>25</th>\n",
       "      <td>metis_unweighted</td>\n",
       "      <td>3659</td>\n",
       "    </tr>\n",
       "    <tr>\n",
       "      <th>26</th>\n",
       "      <td>metis_unweighted</td>\n",
       "      <td>3710</td>\n",
       "    </tr>\n",
       "    <tr>\n",
       "      <th>27</th>\n",
       "      <td>metis_unweighted</td>\n",
       "      <td>3685</td>\n",
       "    </tr>\n",
       "    <tr>\n",
       "      <th>28</th>\n",
       "      <td>metis_unweighted</td>\n",
       "      <td>3669</td>\n",
       "    </tr>\n",
       "    <tr>\n",
       "      <th>29</th>\n",
       "      <td>metis_unweighted</td>\n",
       "      <td>3698</td>\n",
       "    </tr>\n",
       "    <tr>\n",
       "      <th>30</th>\n",
       "      <td>metis_unweighted</td>\n",
       "      <td>3587</td>\n",
       "    </tr>\n",
       "    <tr>\n",
       "      <th>31</th>\n",
       "      <td>metis_unweighted</td>\n",
       "      <td>3699</td>\n",
       "    </tr>\n",
       "  </tbody>\n",
       "</table>\n",
       "</div>"
      ],
      "text/plain": [
       "              method     n\n",
       "0              metis  3767\n",
       "1              metis  3587\n",
       "2              metis  3594\n",
       "3              metis  3821\n",
       "4              metis  3509\n",
       "5              metis  3709\n",
       "6              metis  3749\n",
       "7              metis  3691\n",
       "8           spectral  3542\n",
       "9           spectral  3569\n",
       "10          spectral  3534\n",
       "11          spectral  3552\n",
       "12          spectral  3552\n",
       "13          spectral  3479\n",
       "14          spectral  3541\n",
       "15          spectral  3587\n",
       "16              grid  6169\n",
       "17              grid  6124\n",
       "18              grid  6105\n",
       "19              grid  6098\n",
       "20              grid  6066\n",
       "21              grid  6188\n",
       "22              grid  6049\n",
       "23              grid  6150\n",
       "24  metis_unweighted  3789\n",
       "25  metis_unweighted  3659\n",
       "26  metis_unweighted  3710\n",
       "27  metis_unweighted  3685\n",
       "28  metis_unweighted  3669\n",
       "29  metis_unweighted  3698\n",
       "30  metis_unweighted  3587\n",
       "31  metis_unweighted  3699"
      ]
     },
     "execution_count": 34,
     "metadata": {},
     "output_type": "execute_result"
    }
   ],
   "source": [
    "partition_df"
   ]
  },
  {
   "cell_type": "code",
   "execution_count": 35,
   "metadata": {},
   "outputs": [
    {
     "name": "stdout",
     "output_type": "stream",
     "text": [
      "                  core_max  core_min  core_mean  core_std  core_range\n",
      "method                                                               \n",
      "grid                2463.0    2075.0     2250.0   170.659       213.0\n",
      "metis               2317.0    2198.0     2250.0    40.203        67.0\n",
      "metis_unweighted    2317.0    2185.0     2250.0    40.528        67.0\n",
      "spectral            2280.0    2205.0     2250.0    26.702        30.0\n",
      "\n",
      "\n",
      "\n",
      "                  ext_max  ext_min  ext_mean  ext_std  ext_range\n",
      "method                                                          \n",
      "grid               6188.0   6049.0  6118.625   45.541     69.375\n",
      "metis              3821.0   3509.0  3678.375   99.019    142.625\n",
      "metis_unweighted   3789.0   3587.0  3687.000   52.809    102.000\n",
      "spectral           3587.0   3479.0  3544.500   29.449     42.500\n"
     ]
    }
   ],
   "source": [
    "summary = all_df.groupby(\"method\")[[\n",
    "    \"core_max\", \"core_min\", \"core_mean\",\n",
    "    \"core_std\", \"core_range\"\n",
    "]].mean().round(3)\n",
    "\n",
    "print(summary.to_string(line_width=1000))\n",
    "print('\\n\\n')\n",
    "\n",
    "summary = all_df.groupby(\"method\")[[\n",
    "    \"ext_max\", \"ext_min\", \"ext_mean\",\n",
    "    \"ext_std\", \"ext_range\"\n",
    "]].mean().round(3)\n",
    "\n",
    "print(summary.to_string(line_width=1000))"
   ]
  },
  {
   "cell_type": "code",
   "execution_count": 36,
   "metadata": {},
   "outputs": [
    {
     "data": {
      "image/png": "[encoded data removed]",
      "text/plain": [
       "<Figure size 800x600 with 1 Axes>"
      ]
     },
     "metadata": {},
     "output_type": "display_data"
    }
   ],
   "source": [
    "import matplotlib.pyplot as plt\n",
    "\n",
    "methods = partition_df['method'].unique()\n",
    "colors = ['tab:blue', 'tab:orange', 'tab:green', 'tab:purple']  # Add more if needed\n",
    "bins = 10\n",
    "\n",
    "plt.figure(figsize=(8, 6))\n",
    "\n",
    "for method, color in zip(methods, colors):\n",
    "    subset = partition_df[partition_df['method'] == method]['n']\n",
    "    plt.hist(subset, bins=bins, alpha=0.6, label=method, color=color)\n",
    "\n",
    "plt.title(\"Extended Partition Size by Partitioning Method\")\n",
    "plt.xlabel(\"Extended Partition Size\")\n",
    "plt.ylabel(\"Frequency\")\n",
    "plt.legend(title=\"Method\")\n",
    "plt.grid(True)\n",
    "plt.tight_layout()\n",
    "plt.show()"
   ]
  },
  {
   "cell_type": "code",
   "execution_count": 37,
   "metadata": {},
   "outputs": [
    {
     "data": {
      "image/png": "[encoded data removed]",
      "text/plain": [
       "<Figure size 800x600 with 1 Axes>"
      ]
     },
     "metadata": {},
     "output_type": "display_data"
    }
   ],
   "source": [
    "import matplotlib.pyplot as plt\n",
    "\n",
    "methods = all_df['method'].unique()\n",
    "colors = ['tab:blue', 'tab:orange', 'tab:green', 'tab:purple']  # Add more if needed\n",
    "bins = 10\n",
    "\n",
    "plt.figure(figsize=(8, 6))\n",
    "\n",
    "for method, color in zip(methods, colors):\n",
    "    subset = all_df[all_df['method'] == method]['extended_ratio']\n",
    "    plt.hist(subset, bins=bins, alpha=0.6, label=method, color=color)\n",
    "\n",
    "plt.title(\"Ratio of Extended Partition Size to All Atoms by Partitioning Method\")\n",
    "plt.xlabel(\"Extended Ratio\")\n",
    "plt.ylabel(\"Frequency\")\n",
    "plt.legend(title=\"Method\")\n",
    "plt.grid(True)\n",
    "plt.tight_layout()\n",
    "plt.show()\n"
   ]
  }
 ],
 "metadata": {
  "kernelspec": {
   "display_name": "orb-partitioning",
   "language": "python",
   "name": "python3"
  },
  "language_info": {
   "codemirror_mode": {
    "name": "ipython",
    "version": 3
   },
   "file_extension": ".py",
   "mimetype": "text/x-python",
   "name": "python",
   "nbconvert_exporter": "python",
   "pygments_lexer": "ipython3",
   "version": "3.10.16"
  }
 },
 "nbformat": 4,
 "nbformat_minor": 2
}
